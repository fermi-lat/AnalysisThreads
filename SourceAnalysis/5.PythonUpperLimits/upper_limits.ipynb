{
 "cells": [
  {
   "cell_type": "markdown",
   "metadata": {},
   "source": [
    "# Upper Limits with Python\n",
    "\n",
    "This sample analysis shows a way to determine an upper limit on the GeV emission from Swift J164449.3+573451 similar to what was done in [Burrows et al. (Nature 476, page 421)](http://www.nature.com/nature/journal/v476/n7361/full/nature10374.html).\n",
    "\n",
    "To compute the upper limit, we use the profile likelihood method. This entails scanning in values of the normalization parameter, fitting with respect to the other remaining free parameters, and plotting the change in log-likelihood as a function of flux.\n",
    "\n",
    "Assuming 2$\\cdot$log-likelihood behaves asymptotically as chi-square, a 90% confidence region will correspond to a change in log-likelihood of 2.71/2.\n",
    "\n",
    "Note that this change in log-likelihood corresponds to a two-sided confidence interval. Since we are interested in an upper-limit, this change in log-likelihood actually corresponds to a 95% CL upper-limit. See [Rolke et al. (2005)](https://arxiv.org/abs/physics/0403059) for more details.\n",
    "\n",
    "We will first cover an unbinned example and at the end of the page we include modifications for binned data. This tutorial assumes that you have gone through the standard [likelihood analysis](https://github.com/fermi-lat/AnalysisThreads/blob/master/SourceAnalysis/3.PythonLikelihood/python_tutorial.ipynb)."
   ]
  },
  {
   "cell_type": "markdown",
   "metadata": {},
   "source": [
    "### Get the Data\n",
    "\n",
    "For this thread the original data were extracted from the [LAT data server](http://fermi.gsfc.nasa.gov/cgi-bin/ssc/LAT/LATDataQuery.cgi) with the following selections (these selections are similar to those in the paper):\n",
    "\n",
    "```\n",
    "Search Center (RA,Dec) = (251.2054,57.5808)\n",
    "Radius = 30 degrees\n",
    "Start Time (MET) = 322963202 seconds (2011-03-28T00:00:00)\n",
    "Stop Time (MET) = 323568002 seconds (2011-04-04T00:00:00)\n",
    "Minimum Energy = 100 MeV\n",
    "Maximum Energy = 300000 MeV\n",
    "```\n",
    "\n",
    "You will need the following files:\n",
    "```\n",
    "L181102105258F4F0ED2772_PH00.fits\n",
    "L181102105258F4F0ED2772_SC00.fits\n",
    "gll_iem_v07.fits\n",
    "iso_P8R3_SOURCE_V3.txt\n",
    "```\n",
    "\n",
    "Run the code cell below to download them."
   ]
  },
  {
   "cell_type": "code",
   "execution_count": 13,
   "metadata": {
    "scrolled": true
   },
   "outputs": [
    {
     "name": "stdout",
     "output_type": "stream",
     "text": [
      "--2025-09-15 10:12:22--  https://fermi.gsfc.nasa.gov/ssc/data/analysis/scitools/data/pyLikelihood/L181102105258F4F0ED2772_PH00.fits\n",
      "Resolving fermi.gsfc.nasa.gov (fermi.gsfc.nasa.gov)... 129.164.179.26\n",
      "Connecting to fermi.gsfc.nasa.gov (fermi.gsfc.nasa.gov)|129.164.179.26|:443... connected.\n",
      "HTTP request sent, awaiting response... 200 OK\n",
      "Length: 12029760 (11M) [application/fits]\n",
      "Saving to: ‘L181102105258F4F0ED2772_PH00.fits’\n",
      "\n",
      "L181102105258F4F0ED 100%[===================>]  11.47M   827KB/s    in 16s     \n",
      "\n",
      "2025-09-15 10:12:42 (744 KB/s) - ‘L181102105258F4F0ED2772_PH00.fits’ saved [12029760/12029760]\n",
      "\n",
      "--2025-09-15 10:12:42--  https://fermi.gsfc.nasa.gov/ssc/data/analysis/scitools/data/pyLikelihood/L181102105258F4F0ED2772_SC00.fits\n",
      "Resolving fermi.gsfc.nasa.gov (fermi.gsfc.nasa.gov)... 129.164.179.26\n",
      "Connecting to fermi.gsfc.nasa.gov (fermi.gsfc.nasa.gov)|129.164.179.26|:443... connected.\n",
      "HTTP request sent, awaiting response... 200 OK\n",
      "Length: 2629440 (2.5M) [application/fits]\n",
      "Saving to: ‘L181102105258F4F0ED2772_SC00.fits’\n",
      "\n",
      "L181102105258F4F0ED 100%[===================>]   2.51M  1.35MB/s    in 1.9s    \n",
      "\n",
      "2025-09-15 10:12:45 (1.35 MB/s) - ‘L181102105258F4F0ED2772_SC00.fits’ saved [2629440/2629440]\n",
      "\n",
      "--2025-09-15 10:12:45--  https://fermi.gsfc.nasa.gov/ssc/data/analysis/software/aux/gll_iem_v07.fits\n",
      "Resolving fermi.gsfc.nasa.gov (fermi.gsfc.nasa.gov)... 129.164.179.26\n",
      "Connecting to fermi.gsfc.nasa.gov (fermi.gsfc.nasa.gov)|129.164.179.26|:443... connected.\n",
      "HTTP request sent, awaiting response... 200 OK\n",
      "Length: 928981440 (886M) [application/fits]\n",
      "Saving to: ‘gll_iem_v07.fits’\n",
      "\n",
      "gll_iem_v07.fits    100%[===================>] 885.95M  1.62MB/s    in 9m 50s  \n",
      "\n",
      "2025-09-15 10:22:36 (1.50 MB/s) - ‘gll_iem_v07.fits’ saved [928981440/928981440]\n",
      "\n",
      "--2025-09-15 10:22:37--  https://fermi.gsfc.nasa.gov/ssc/data/analysis/software/aux/iso_P8R3_SOURCE_V3_v1.txt\n",
      "Resolving fermi.gsfc.nasa.gov (fermi.gsfc.nasa.gov)... 129.164.179.26\n",
      "Connecting to fermi.gsfc.nasa.gov (fermi.gsfc.nasa.gov)|129.164.179.26|:443... connected.\n",
      "HTTP request sent, awaiting response... 200 OK\n",
      "Length: 3600 (3.5K) [text/plain]\n",
      "Saving to: ‘iso_P8R3_SOURCE_V3_v1.txt’\n",
      "\n",
      "iso_P8R3_SOURCE_V3_ 100%[===================>]   3.52K  --.-KB/s    in 0s      \n",
      "\n",
      "2025-09-15 10:22:41 (18.0 MB/s) - ‘iso_P8R3_SOURCE_V3_v1.txt’ saved [3600/3600]\n",
      "\n"
     ]
    }
   ],
   "source": [
    "!wget https://fermi.gsfc.nasa.gov/ssc/data/analysis/scitools/data/pyLikelihood/L181102105258F4F0ED2772_PH00.fits\n",
    "!wget https://fermi.gsfc.nasa.gov/ssc/data/analysis/scitools/data/pyLikelihood/L181102105258F4F0ED2772_SC00.fits\n",
    "!wget https://fermi.gsfc.nasa.gov/ssc/data/analysis/software/aux/gll_iem_v07.fits\n",
    "!wget https://fermi.gsfc.nasa.gov/ssc/data/analysis/software/aux/iso_P8R3_SOURCE_V3_v1.txt"
   ]
  },
  {
   "cell_type": "code",
   "execution_count": null,
   "metadata": {},
   "outputs": [],
   "source": [
    "!mkdir data\n",
    "!mv *.fits *.txt ./data"
   ]
  },
  {
   "cell_type": "markdown",
   "metadata": {},
   "source": [
    "# Perform Event Selections\n",
    "\n",
    "You could follow the unbinned likelihood tutorial to perform your event selections using **gtlike*, **gtmktime**, etc. directly from the command line, and then use pylikelihood later.\n",
    "\n",
    "But we're going to go ahead and use python. The `gt_apps` module provides methods to call these tools from within python. This'll get us used to using python.\n",
    "\n",
    "So, let's jump into python:"
   ]
  },
  {
   "cell_type": "code",
   "execution_count": 15,
   "metadata": {},
   "outputs": [],
   "source": [
    "import gt_apps as my_apps"
   ]
  },
  {
   "cell_type": "markdown",
   "metadata": {},
   "source": [
    "We first run **gtselect** (`filter` in python):"
   ]
  },
  {
   "cell_type": "code",
   "execution_count": 16,
   "metadata": {},
   "outputs": [],
   "source": [
    "my_apps.filter['evclass'] = 128\n",
    "my_apps.filter['evtype'] = 3\n",
    "my_apps.filter['ra'] = 251.2054\n",
    "my_apps.filter['dec'] = 57.5808\n",
    "my_apps.filter['rad'] = 10\n",
    "my_apps.filter['emin'] = 100\n",
    "my_apps.filter['emax'] = 300000\n",
    "my_apps.filter['zmax'] = 90\n",
    "my_apps.filter['tmin'] = 322963202\n",
    "my_apps.filter['tmax'] = 323568002\n",
    "my_apps.filter['infile'] = './data/L181102105258F4F0ED2772_PH00.fits'\n",
    "my_apps.filter['outfile'] = './data/SwiftJ1644_filtered.fits'"
   ]
  },
  {
   "cell_type": "code",
   "execution_count": 17,
   "metadata": {},
   "outputs": [
    {
     "name": "stdout",
     "output_type": "stream",
     "text": [
      "time -p gtselect infile=./data/L181102105258F4F0ED2772_PH00.fits outfile=./data/SwiftJ1644_filtered.fits ra=251.2054 dec=57.5808 rad=10.0 tmin=322963202.0 tmax=323568002.0 emin=100.0 emax=300000.0 zmin=0.0 zmax=90.0 evclass=128 evtype=3 convtype=-1 phasemin=0.0 phasemax=1.0 evtable=\"EVENTS\" chatter=2 clobber=yes debug=no gui=no mode=\"ql\"\n",
      "Done.\n",
      "real 0.47\n",
      "user 0.31\n",
      "sys 0.03\n"
     ]
    }
   ],
   "source": [
    "my_apps.filter.run()"
   ]
  },
  {
   "cell_type": "markdown",
   "metadata": {},
   "source": [
    "Now, we need to find the GTIs. This is accessed within python via the `maketime` object:"
   ]
  },
  {
   "cell_type": "code",
   "execution_count": 18,
   "metadata": {},
   "outputs": [],
   "source": [
    "my_apps.maketime['scfile'] = './data/L181102105258F4F0ED2772_SC00.fits'\n",
    "my_apps.maketime['filter'] = '(DATA_QUAL>0)&&(LAT_CONFIG==1)'\n",
    "my_apps.maketime['roicut'] = 'no'\n",
    "my_apps.maketime['evfile'] = './data/SwiftJ1644_filtered.fits'\n",
    "my_apps.maketime['outfile'] = './data/SwiftJ1644_filtered_gti.fits'"
   ]
  },
  {
   "cell_type": "code",
   "execution_count": 19,
   "metadata": {},
   "outputs": [
    {
     "name": "stdout",
     "output_type": "stream",
     "text": [
      "time -p gtmktime scfile=./data/L181102105258F4F0ED2772_SC00.fits sctable=\"SC_DATA\" filter=\"(DATA_QUAL>0)&&(LAT_CONFIG==1)\" roicut=no evfile=./data/SwiftJ1644_filtered.fits evtable=\"EVENTS\" outfile=\"./data/SwiftJ1644_filtered_gti.fits\" apply_filter=yes overwrite=no header_obstimes=yes tstart=0.0 tstop=0.0 gtifile=\"default\" chatter=2 clobber=yes debug=no gui=no mode=\"ql\"\n",
      "real 0.16\n",
      "user 0.08\n",
      "sys 0.02\n"
     ]
    }
   ],
   "source": [
    "my_apps.maketime.run()"
   ]
  },
  {
   "cell_type": "markdown",
   "metadata": {},
   "source": [
    "# Livetime Cube and Exposure Map\n",
    "\n",
    "Let's compute the livetime cube and exposure map."
   ]
  },
  {
   "cell_type": "markdown",
   "metadata": {},
   "source": [
    "### Livetime Cube"
   ]
  },
  {
   "cell_type": "code",
   "execution_count": 20,
   "metadata": {},
   "outputs": [],
   "source": [
    "my_apps.expCube['evfile'] = './data/SwiftJ1644_filtered_gti.fits'\n",
    "my_apps.expCube['scfile'] = './data/L181102105258F4F0ED2772_SC00.fits'\n",
    "my_apps.expCube['outfile'] = './data/SwiftJ1644_ltCube.fits'\n",
    "my_apps.expCube['zmax'] = 90\n",
    "my_apps.expCube['dcostheta'] = 0.025\n",
    "my_apps.expCube['binsz'] = 1"
   ]
  },
  {
   "cell_type": "code",
   "execution_count": 21,
   "metadata": {},
   "outputs": [
    {
     "name": "stdout",
     "output_type": "stream",
     "text": [
      "time -p gtltcube evfile=\"./data/SwiftJ1644_filtered_gti.fits\" evtable=\"EVENTS\" scfile=./data/L181102105258F4F0ED2772_SC00.fits sctable=\"SC_DATA\" outfile=./data/SwiftJ1644_ltCube.fits dcostheta=0.025 binsz=1.0 phibins=0 tmin=0.0 tmax=0.0 file_version=\"1\" zmin=0.0 zmax=90.0 chatter=2 clobber=yes debug=no gui=no mode=\"ql\"\n",
      "Working on file ./data/L181102105258F4F0ED2772_SC00.fits\n",
      ".....................!\n",
      "real 10.54\n",
      "user 10.34\n",
      "sys 0.12\n"
     ]
    }
   ],
   "source": [
    "my_apps.expCube.run()"
   ]
  },
  {
   "cell_type": "markdown",
   "metadata": {},
   "source": [
    "### Exposure Map"
   ]
  },
  {
   "cell_type": "code",
   "execution_count": 22,
   "metadata": {},
   "outputs": [],
   "source": [
    "from GtApp import GtApp\n",
    "\n",
    "expCubeSun = GtApp('gtltcubesun','Likelihood')\n",
    "expCubeSun.command()\n",
    "my_apps.expMap['evfile'] = './data/SwiftJ1644_filtered_gti.fits'\n",
    "my_apps.expMap['scfile'] ='./data/L181102105258F4F0ED2772_SC00.fits'\n",
    "my_apps.expMap['expcube'] ='./data/SwiftJ1644_ltCube.fits'\n",
    "my_apps.expMap['outfile'] ='./data/SwiftJ1644_expMap.fits'\n",
    "my_apps.expMap['irfs'] = 'CALDB'\n",
    "my_apps.expMap['srcrad'] = 20\n",
    "my_apps.expMap['nlong'] = 120\n",
    "my_apps.expMap['nlat'] = 120\n",
    "my_apps.expMap['nenergies'] = 37"
   ]
  },
  {
   "cell_type": "code",
   "execution_count": 23,
   "metadata": {},
   "outputs": [
    {
     "name": "stdout",
     "output_type": "stream",
     "text": [
      "time -p gtexpmap evfile=./data/SwiftJ1644_filtered_gti.fits evtable=\"EVENTS\" scfile=./data/L181102105258F4F0ED2772_SC00.fits sctable=\"SC_DATA\" expcube=./data/SwiftJ1644_ltCube.fits outfile=./data/SwiftJ1644_expMap.fits irfs=\"CALDB\" evtype=\"INDEF\" srcrad=20.0 nlong=120 nlat=120 nenergies=37 submap=no nlongmin=0 nlongmax=0 nlatmin=0 nlatmax=0 chatter=2 clobber=yes debug=no gui=no mode=\"ql\"\n",
      "The exposure maps generated by this tool are meant\n",
      "to be used for *unbinned* likelihood analysis only.\n",
      "Do not use them for binned analyses.\n",
      "real 313.60\n",
      "user 303.70\n",
      "sys 8.40\n"
     ]
    }
   ],
   "source": [
    "my_apps.expMap.run()"
   ]
  },
  {
   "cell_type": "markdown",
   "metadata": {},
   "source": [
    "# Generate XML Model File\n",
    "\n",
    "We need to create an XML file with all of the sources of interest within the Region of Interest (ROI) of SwiftJ1644 so we can correctly model the background.\n",
    "\n",
    "We'll use the user contributed tool `LATSourceModel` package to create a model file based on the 14-year LAT catalog. You'll need to download the XML or FITS version of this file at http://fermi.gsfc.nasa.gov/ssc/data/access/lat/14yr_catalog/ and put it in your working directory. Install the [LATSourceModel](https://github.com/physicsranger/make4FGLxml) package from the [user-contributed software page](https://fermi.gsfc.nasa.gov/ssc/data/analysis/user/) by following the instructions on the linked GitHub page.\n",
    "\n",
    "Also make sure you have the most recent galactic diffuse and isotropic model files, which can be found [here](http://fermi.gsfc.nasa.gov/ssc/data/access/lat/BackgroundModels.html).\n",
    "\n",
    "The catalog and background models are also packaged with your installation of the ScienceTools, which can be found at: `$FERMI_DIR/refdata/fermi/galdiffuse/`."
   ]
  },
  {
   "cell_type": "code",
   "execution_count": 24,
   "metadata": {},
   "outputs": [
    {
     "name": "stdout",
     "output_type": "stream",
     "text": [
      "--2025-09-15 10:28:07--  https://fermi.gsfc.nasa.gov/ssc/data/access/lat/14yr_catalog/gll_psc_v32.xml\n",
      "Resolving fermi.gsfc.nasa.gov (fermi.gsfc.nasa.gov)... 129.164.179.26\n",
      "Connecting to fermi.gsfc.nasa.gov (fermi.gsfc.nasa.gov)|129.164.179.26|:443... connected.\n",
      "HTTP request sent, awaiting response... 200 OK\n",
      "Length: 12719321 (12M) [application/xml]\n",
      "Saving to: ‘gll_psc_v32.xml’\n",
      "\n",
      "gll_psc_v32.xml     100%[===================>]  12.13M  1.15MB/s    in 8.9s    \n",
      "\n",
      "2025-09-15 10:28:18 (1.36 MB/s) - ‘gll_psc_v32.xml’ saved [12719321/12719321]\n",
      "\n"
     ]
    }
   ],
   "source": [
    "!wget https://fermi.gsfc.nasa.gov/ssc/data/access/lat/14yr_catalog/gll_psc_v32.xml"
   ]
  },
  {
   "cell_type": "code",
   "execution_count": 25,
   "metadata": {},
   "outputs": [],
   "source": [
    "!mv *.xml ./data/"
   ]
  },
  {
   "cell_type": "markdown",
   "metadata": {},
   "source": [
    "Now that we have all of the files we need, we can generate your model file in python:"
   ]
  },
  {
   "cell_type": "code",
   "execution_count": 26,
   "metadata": {
    "scrolled": true
   },
   "outputs": [
    {
     "name": "stdout",
     "output_type": "stream",
     "text": [
      "Creating spatial and spectral model from the 4FGL DR-4 catalog: data/gll_psc_v32.xml.\n",
      "Added 221 point sources and 0 extended sources.\n",
      "Building ds9-style region file...done!\n",
      "File saved as data/ROI_SwiftJ1644_model.reg.\n"
     ]
    }
   ],
   "source": [
    "from LATSourceModel import SourceList\n",
    "mymodel = SourceList(catalog_file='./data/gll_psc_v32.xml',\n",
    "                     ROI='./data/SwiftJ1644_filtered_gti.fits',\n",
    "                     output_name='./data/SwiftJ1644_model.xml',\n",
    "                     DR=4)\n",
    "mymodel.make_model(free_radius=3,max_free_radius=5)"
   ]
  },
  {
   "cell_type": "markdown",
   "metadata": {},
   "source": [
    "In the step above, some additional options provided by the make4FGLxml.py tool have been invoked to allow the likelihood tool to obtain an initial fit. The tool can be read with a text editor (vim, emacs, etc.) to find explantions for these and other parameters near the top of the file."
   ]
  },
  {
   "cell_type": "markdown",
   "metadata": {},
   "source": [
    "# Compute the diffuse source responses\n",
    "\n",
    "The [gtdiffrsp](https://fermi.gsfc.nasa.gov/ssc/data/analysis/scitools/help/gtdiffrsp.txt) tool will add one column to the event data file for each diffuse source.\n",
    "\n",
    "The diffuse response depends on the instrument response function (IRF), which must be in agreement with the selection of events, i.e. the event class and event type we are using in our analysis.\n",
    "\n",
    "Since we are using SOURCE class, `CALDB` should use the `P8R3_SOURCE_V3` IRF for this tool."
   ]
  },
  {
   "cell_type": "code",
   "execution_count": 27,
   "metadata": {},
   "outputs": [],
   "source": [
    "import gt_apps as my_apps\n",
    "\n",
    "my_apps.diffResps['evfile'] = './data/SwiftJ1644_filtered_gti.fits'\n",
    "my_apps.diffResps['scfile'] = './data/L181102105258F4F0ED2772_SC00.fits'\n",
    "my_apps.diffResps['srcmdl'] = './data/SwiftJ1644_model.xml'\n",
    "my_apps.diffResps['irfs'] = 'CALDB'"
   ]
  },
  {
   "cell_type": "code",
   "execution_count": 28,
   "metadata": {},
   "outputs": [
    {
     "name": "stdout",
     "output_type": "stream",
     "text": [
      "time -p gtdiffrsp evfile=./data/SwiftJ1644_filtered_gti.fits evtable=\"EVENTS\" scfile=./data/L181102105258F4F0ED2772_SC00.fits sctable=\"SC_DATA\" srcmdl=./data/SwiftJ1644_model.xml irfs=\"CALDB\" evclsmin=0 evclass=\"INDEF\" evtype=\"INDEF\" convert=no chatter=2 clobber=no debug=no gui=no mode=\"ql\"\n",
      "adding source gll_iem_v07\n",
      "adding source iso_P8R3_SOURCE_V3_v1\n",
      "Working on...\n",
      "./data/SwiftJ1644_filtered_gti.fits.....................!\n",
      "real 29.80\n",
      "user 29.00\n",
      "sys 0.56\n"
     ]
    }
   ],
   "source": [
    "my_apps.diffResps.run()"
   ]
  },
  {
   "cell_type": "markdown",
   "metadata": {},
   "source": [
    "# Run the Likelihood Analysis\n",
    "\n",
    "First, import the pyLikelihood module and then the UnbinnedAnalysis functions. For more details on the pyLikelihood module, check out the [pyLikelihood Usage Notes](https://fermi.gsfc.nasa.gov/ssc/data/analysis/scitools/python_usage_notes.html)."
   ]
  },
  {
   "cell_type": "code",
   "execution_count": 29,
   "metadata": {},
   "outputs": [],
   "source": [
    "import pyLikelihood\n",
    "from UnbinnedAnalysis import *\n",
    "\n",
    "obs = UnbinnedObs('./data/SwiftJ1644_filtered_gti.fits','./data/L181102105258F4F0ED2772_SC00.fits',expMap='./data/SwiftJ1644_expMap.fits',expCube='./data/SwiftJ1644_ltCube.fits',irfs='CALDB')\n",
    "like = UnbinnedAnalysis(obs,'./data/SwiftJ1644_model.xml',optimizer='Minuit')\n",
    "like.tol = 0.1\n",
    "likeobj = pyLike.Minuit(like.logLike)\n",
    "like.fit(verbosity=0,covar=True,optObject=likeobj)\n",
    "likeobj.getQuality()\n",
    "like.logLike.writeXml('./data/Swift_fit1.xml')"
   ]
  },
  {
   "cell_type": "markdown",
   "metadata": {},
   "source": [
    "This output corresponds to the `MINUIT` fit quality. A \"good\" fit corresponds to a value of `fit quality = 3`; if you get a lower value it is likely that there is a problem with the error matrix. Now we try with NewMinuit:"
   ]
  },
  {
   "cell_type": "code",
   "execution_count": 30,
   "metadata": {},
   "outputs": [
    {
     "data": {
      "text/plain": [
       "14092.597409004013"
      ]
     },
     "execution_count": 30,
     "metadata": {},
     "output_type": "execute_result"
    }
   ],
   "source": [
    "like2 = UnbinnedAnalysis(obs,'./data/Swift_fit1.xml',optimizer='NewMinuit')\n",
    "like2.tol = 0.0001\n",
    "like2obj = pyLike.NewMinuit(like2.logLike)\n",
    "like2.fit(verbosity=0,covar=True,optObject=like2obj)"
   ]
  },
  {
   "cell_type": "code",
   "execution_count": 31,
   "metadata": {},
   "outputs": [
    {
     "name": "stdout",
     "output_type": "stream",
     "text": [
      "156\n"
     ]
    }
   ],
   "source": [
    "print(like2obj.getRetCode())"
   ]
  },
  {
   "cell_type": "markdown",
   "metadata": {},
   "source": [
    "If you get anything other than `0` here, then NewMinuit didn't converge.\n",
    "\n",
    "We can start by deleting sources with low or negative TS, which tend to hinder convergence. First, we delete sources with TS levels below 10 and run the fit again."
   ]
  },
  {
   "cell_type": "code",
   "execution_count": 32,
   "metadata": {
    "scrolled": true
   },
   "outputs": [
    {
     "name": "stdout",
     "output_type": "stream",
     "text": [
      "4FGL J1409.7+5940 0.00011189885117346421\n",
      "Deleting...\n",
      "4FGL J1410.3+6058 8.622191671747714e-07\n",
      "Deleting...\n",
      "4FGL J1410.5+6215 -4.306376285967417e-05\n",
      "Deleting...\n",
      "4FGL J1417.3+6059 -1.5848756447667256e-05\n",
      "Deleting...\n",
      "4FGL J1422.6+5801 2.81309949059505e-05\n",
      "Deleting...\n",
      "4FGL J1428.3+5635 0.0013592068753496278\n",
      "Deleting...\n",
      "4FGL J1428.9+5406 0.001976140800252324\n",
      "Deleting...\n",
      "4FGL J1434.5+5428 0.004642516916646855\n",
      "Deleting...\n",
      "4FGL J1434.8+6640 -0.00023354684526566416\n",
      "Deleting...\n",
      "4FGL J1435.3+7120 -6.925148409209214e-05\n",
      "Deleting...\n",
      "4FGL J1435.7+6148 -0.0004448436666280031\n",
      "Deleting...\n",
      "4FGL J1436.9+5638 0.002278959953400772\n",
      "Deleting...\n",
      "4FGL J1439.7+4958 0.00561972797368071\n",
      "Deleting...\n",
      "4FGL J1443.1+5201 0.0013313078052306082\n",
      "Deleting...\n",
      "4FGL J1450.8+5201 0.004361339448223589\n",
      "Deleting...\n",
      "4FGL J1451.4+6355 -0.002651936993061099\n",
      "Deleting...\n",
      "4FGL J1454.0+4927 0.002723105651966762\n",
      "Deleting...\n",
      "4FGL J1454.4+5124 0.03152237418180448\n",
      "Deleting...\n",
      "4FGL J1454.7+5237 0.0032614193551125936\n",
      "Deleting...\n",
      "4FGL J1456.0+5051 0.0011639070289675146\n",
      "Deleting...\n",
      "4FGL J1459.0+6129 -0.0015289429320546333\n",
      "Deleting...\n",
      "4FGL J1459.0+7140 -0.011649979307549074\n",
      "Deleting...\n",
      "4FGL J1500.7+4752 0.006053580949810566\n",
      "Deleting...\n",
      "4FGL J1500.9+5528 0.0012840005256293807\n",
      "Deleting...\n",
      "4FGL J1502.5+5552 0.011509499683597824\n",
      "Deleting...\n",
      "4FGL J1503.5+4759 0.013825119938701391\n",
      "Deleting...\n",
      "4FGL J1509.7+5556 0.0013648092681251\n",
      "Deleting...\n",
      "4FGL J1510.1+5702 0.06631788560116547\n",
      "Deleting...\n",
      "4FGL J1512.2+4704 0.0017208536010002717\n",
      "Deleting...\n",
      "4FGL J1514.8+4448 0.0056569988119008485\n",
      "Deleting...\n",
      "4FGL J1516.1+4351 0.0019081426653428935\n",
      "Deleting...\n",
      "4FGL J1517.3+6630 -0.023363336014881497\n",
      "Deleting...\n",
      "4FGL J1517.7+6525 -0.0066040497076755855\n",
      "Deleting...\n",
      "4FGL J1519.7+6727 0.0001664534465817269\n",
      "Deleting...\n",
      "4FGL J1520.4+5546 0.028026181153109064\n",
      "Deleting...\n",
      "4FGL J1521.8+4338 0.01111171971206204\n",
      "Deleting...\n",
      "4FGL J1526.9+7358 -0.0032084673366625793\n",
      "Deleting...\n",
      "4FGL J1529.7+6733 -0.024202143100410467\n",
      "Deleting...\n",
      "4FGL J1530.5+5850 -0.04485411303903675\n",
      "Deleting...\n",
      "4FGL J1530.9+5736 -0.3061489080246247\n",
      "Deleting...\n",
      "4FGL J1531.7+4710 0.004739258420158876\n",
      "Deleting...\n",
      "4FGL J1535.0+5320 0.015622210339643061\n",
      "Deleting...\n",
      "4FGL J1539.9+4220 0.0029549805949500296\n",
      "Deleting...\n",
      "4FGL J1540.1+4142 0.00021167386148590595\n",
      "Deleting...\n",
      "4FGL J1540.4+6606 -0.02241953576231026\n",
      "Deleting...\n",
      "4FGL J1543.0+6130 -4.551909264522692\n",
      "Deleting...\n",
      "4FGL J1543.1+4209 4.2413950723130256e-05\n",
      "Deleting...\n",
      "4FGL J1543.6+6551 -0.006495686302514514\n",
      "Deleting...\n",
      "4FGL J1544.0+4939 -0.005250282156339381\n",
      "Deleting...\n",
      "4FGL J1544.7+5017 0.020724243029690115\n",
      "Deleting...\n",
      "4FGL J1548.3+6615 0.003470750816632062\n",
      "Deleting...\n",
      "4FGL J1549.0+4821 -0.00033252331559197046\n",
      "Deleting...\n",
      "4FGL J1549.3+4234 0.0021494748107215855\n",
      "Deleting...\n",
      "4FGL J1549.3+6310 0.17496291546558496\n",
      "Deleting...\n",
      "4FGL J1549.4+7409 -0.00977953220717609\n",
      "Deleting...\n",
      "4FGL J1550.6+6027 -0.24159121584307286\n",
      "Deleting...\n",
      "4FGL J1550.7+7006 -0.026033150981675135\n",
      "Deleting...\n",
      "4FGL J1553.1+5438 2.5995911899153725\n",
      "Deleting...\n",
      "4FGL J1555.2+7103 -0.001374022918753326\n",
      "Deleting...\n",
      "4FGL J1558.1+6239 0.2731483037387079\n",
      "Deleting...\n",
      "4FGL J1558.8+5625 1.2965705472925038\n",
      "Deleting...\n",
      "4FGL J1559.1+6736 -0.006522804076666944\n",
      "Deleting...\n",
      "4FGL J1603.8+5009 -0.48010245195473544\n",
      "Deleting...\n",
      "4FGL J1604.6+5714 2.5544374778874044\n",
      "Deleting...\n",
      "4FGL J1605.1+4200 0.006984400315559469\n",
      "Deleting...\n",
      "4FGL J1605.5+5423 0.2521962379796605\n",
      "Deleting...\n",
      "4FGL J1605.8+7208 -0.0016399183477915358\n",
      "Deleting...\n",
      "4FGL J1606.3+5629 -0.2878434574959101\n",
      "Deleting...\n",
      "4FGL J1606.9+5919 0.3678216645530483\n",
      "Deleting...\n",
      "4FGL J1608.0+4949 -0.10990372993182973\n",
      "Deleting...\n",
      "4FGL J1608.3+4012 0.0002789621466945391\n",
      "Deleting...\n",
      "4FGL J1614.4+5028 0.14296199075397453\n",
      "Deleting...\n",
      "4FGL J1615.6+4712 0.3093877103565319\n",
      "Deleting...\n",
      "4FGL J1616.6+4630 0.1049507184070535\n",
      "Deleting...\n",
      "4FGL J1616.7+4107 0.0053275674872566015\n",
      "Deleting...\n",
      "4FGL J1618.0+5139 0.21817742639541393\n",
      "Deleting...\n",
      "4FGL J1619.0+7536 -0.00011140131755382754\n",
      "Deleting...\n",
      "4FGL J1619.6+5536 -1.1963262786521227\n",
      "Deleting...\n",
      "4FGL J1620.9+4852 0.06022451871831436\n",
      "Deleting...\n",
      "4FGL J1621.9+6706 -0.17631788943253923\n",
      "Deleting...\n",
      "4FGL J1622.9+4401 0.007269911875482649\n",
      "Deleting...\n",
      "4FGL J1623.6+5743 0.3635327082774893\n",
      "Deleting...\n",
      "4FGL J1624.6+5651 -0.00016521053839824162\n",
      "Deleting...\n",
      "4FGL J1625.7+4134 0.021155105790967355\n",
      "Deleting...\n",
      "4FGL J1626.0+5436 -1.8817445379681885e-07\n",
      "Deleting...\n",
      "4FGL J1626.5+6257 -0.1807994081864308\n",
      "Deleting...\n",
      "4FGL J1626.8+4337 0.031366692535812035\n",
      "Deleting...\n",
      "4FGL J1627.3+4758 0.20842389996323618\n",
      "Deleting...\n",
      "4FGL J1628.2+4642 0.03337853842458571\n",
      "Deleting...\n",
      "4FGL J1628.2+7518 -0.008705722982995212\n",
      "Deleting...\n",
      "4FGL J1628.6+7706 -0.00707222610435565\n",
      "Deleting...\n",
      "4FGL J1630.7+5221 0.6687242467414762\n",
      "Deleting...\n",
      "4FGL J1631.2+4926 0.9040589506294054\n",
      "Deleting...\n",
      "4FGL J1631.5+4219 0.0015412551510962658\n",
      "Deleting...\n",
      "4FGL J1631.8+4144 0.0016960656757873949\n",
      "Deleting...\n",
      "4FGL J1632.4+5800 -4.62279531348031e-05\n",
      "Deleting...\n",
      "4FGL J1632.5+3839 0.00024783371918601915\n",
      "Deleting...\n",
      "4FGL J1635.2+3808 0.11861741538450588\n",
      "Deleting...\n",
      "4FGL J1635.3+4258 0.0021785671560792252\n",
      "Deleting...\n",
      "4FGL J1636.3+7128 -0.0580092263626284\n",
      "Deleting...\n",
      "4FGL J1637.2+4327 0.004808712394151371\n",
      "Deleting...\n",
      "4FGL J1637.6+4548 0.018646335312951123\n",
      "Deleting...\n",
      "4FGL J1637.7+4717 2.099552012194181\n",
      "Deleting...\n",
      "4FGL J1637.7+7326 -0.001142870052717626\n",
      "Deleting...\n",
      "4FGL J1638.1+5721 0.5370470558154921\n",
      "Deleting...\n",
      "4FGL J1639.2+4129 0.012027081080304924\n",
      "Deleting...\n",
      "4FGL J1640.3+6850 -0.022890654541697586\n",
      "Deleting...\n",
      "4FGL J1640.4+3945 0.04065888554396224\n",
      "Deleting...\n",
      "4FGL J1642.4+6855 -0.09399389323516516\n",
      "Deleting...\n",
      "4FGL J1642.9+3948 0.06193921715748729\n",
      "Deleting...\n",
      "4FGL J1644.2+4546 0.014800993147218833\n",
      "Deleting...\n",
      "4FGL J1645.6+6329 -3.014418774513615\n",
      "Deleting...\n",
      "4FGL J1646.6+7422 -9.658626731834374e-05\n",
      "Deleting...\n",
      "4FGL J1647.0+6040 -0.0018103556612913962\n",
      "Deleting...\n",
      "4FGL J1647.1+6149 -0.34236971871723654\n",
      "Deleting...\n",
      "4FGL J1647.5+4950 8.424615690593782\n",
      "Deleting...\n",
      "4FGL J1648.2+4232 0.03658027850542567\n",
      "Deleting...\n",
      "4FGL J1648.7+4834 -0.0023185747777461074\n",
      "Deleting...\n",
      "4FGL J1649.4+5235 -2.7102720893635706\n",
      "Deleting...\n",
      "4FGL J1651.6+7219 -0.006218722515768604\n",
      "Deleting...\n",
      "4FGL J1652.3+4526 0.028893127520859707\n",
      "Deleting...\n",
      "4FGL J1652.7+4024 0.0032551600743317977\n",
      "Deleting...\n",
      "4FGL J1653.8+3945 0.03840722506356542\n",
      "Deleting...\n",
      "4FGL J1657.0+6010 -3.4248187148477882e-06\n",
      "Deleting...\n",
      "4FGL J1657.7+4808 17.709046375231992\n",
      "4FGL J1658.4+6150 0.2735998425669095\n",
      "Deleting...\n",
      "4FGL J1658.5+4315 0.0007520238759752829\n",
      "Deleting...\n",
      "4FGL J1659.6+4918 0.19637463258914067\n",
      "Deleting...\n",
      "4FGL J1700.0+6830 -1.931843090635084\n",
      "Deleting...\n",
      "4FGL J1701.0+6613 -1.405136104895064\n",
      "Deleting...\n",
      "4FGL J1701.3+3956 0.0030784853115619626\n",
      "Deleting...\n",
      "4FGL J1704.1+7647 -0.015748469173558988\n",
      "Deleting...\n",
      "4FGL J1705.0+7134 -0.017299304370681057\n",
      "Deleting...\n",
      "4FGL J1705.4+5436 3.8629927363726893\n",
      "Deleting...\n",
      "4FGL J1705.5+5632 0.47162729834235506\n",
      "Deleting...\n",
      "4FGL J1706.4+6428 -0.1488839772537176\n",
      "Deleting...\n",
      "4FGL J1706.9+4543 0.1162176033394644\n",
      "Deleting...\n",
      "4FGL J1708.2+5519 0.022749009782273788\n",
      "Deleting...\n",
      "4FGL J1709.7+4318 0.10084561724215746\n",
      "Deleting...\n",
      "4FGL J1710.0+4629 0.004124264007259626\n",
      "Deleting...\n",
      "4FGL J1716.1+6836 -0.16425717663878459\n",
      "Deleting...\n",
      "4FGL J1716.8+4310 0.001089136079826858\n",
      "Deleting...\n",
      "4FGL J1717.8+3925 3.931999162887223e-05\n",
      "Deleting...\n",
      "4FGL J1718.5+4237 0.007370126077148598\n",
      "Deleting...\n",
      "4FGL J1722.6+6104 2.6060499431514472\n",
      "Deleting...\n",
      "4FGL J1724.2+4005 0.006185150363307912\n",
      "Deleting...\n",
      "4FGL J1724.9+7654 -0.0076825766955153085\n",
      "Deleting...\n",
      "4FGL J1725.4+5254 5.867129925321933\n",
      "Deleting...\n",
      "4FGL J1725.5+5851 -0.7712248878342507\n",
      "Deleting...\n",
      "4FGL J1727.1+5955 -0.08806462048232788\n",
      "Deleting...\n",
      "4FGL J1727.4+4530 0.2412503480882151\n",
      "Deleting...\n",
      "4FGL J1728.3+5013 5.581587942884653\n",
      "Deleting...\n",
      "4FGL J1729.0+6103 -0.07145185181434499\n",
      "Deleting...\n",
      "4FGL J1729.3+6931 -0.009548068257572595\n",
      "Deleting...\n",
      "4FGL J1730.5+6018 0.33690379298786866\n",
      "Deleting...\n",
      "4FGL J1733.4+4517 0.0006960025821172167\n",
      "Deleting...\n",
      "4FGL J1733.4+5428 0.17737866802417557\n",
      "Deleting...\n",
      "4FGL J1738.2+4000 0.0004618929342541378\n",
      "Deleting...\n",
      "4FGL J1739.5+4955 -0.38890500182606047\n",
      "Deleting...\n",
      "4FGL J1740.0+4737 -0.00588253725800314\n",
      "Deleting...\n",
      "4FGL J1740.5+5211 12.505617635935778\n",
      "4FGL J1740.6+5346 -0.7385488381296454\n",
      "Deleting...\n",
      "4FGL J1741.1+7226 -0.0034045020111079793\n",
      "Deleting...\n",
      "4FGL J1741.2+5739 -0.15465714664242114\n",
      "Deleting...\n",
      "4FGL J1742.5+5944 0.16803040281592985\n",
      "Deleting...\n",
      "4FGL J1744.1+4635 -4.253287988831289e-05\n",
      "Deleting...\n",
      "4FGL J1744.8+5540 -0.031343847476819064\n",
      "Deleting...\n",
      "4FGL J1745.1+4102 0.0002690577457542531\n",
      "Deleting...\n",
      "4FGL J1745.1+4731 -0.0022739955165889114\n",
      "Deleting...\n",
      "4FGL J1747.2+4937 -0.008039819516852731\n",
      "Deleting...\n",
      "4FGL J1747.9+4704 -0.0008463525045954157\n",
      "Deleting...\n",
      "4FGL J1748.4+7059 -0.008694121035659919\n",
      "Deleting...\n",
      "4FGL J1748.6+7005 -0.02734471271833172\n",
      "Deleting...\n",
      "4FGL J1749.0+4321 0.0010923218178504612\n",
      "Deleting...\n",
      "4FGL J1749.6+4716 -0.003770649134821724\n",
      "Deleting...\n",
      "4FGL J1750.2+4704 -0.00019478032845654525\n",
      "Deleting...\n",
      "4FGL J1752.1+4531 -0.0002616114688862581\n",
      "Deleting...\n",
      "4FGL J1756.3+5522 -0.3563139279613097\n",
      "Deleting...\n",
      "4FGL J1757.0+7032 -0.0007950658036861569\n",
      "Deleting...\n",
      "4FGL J1758.2+6532 0.04552778505967581\n",
      "Deleting...\n",
      "4FGL J1800.1+7037 -0.00021557909713010304\n",
      "Deleting...\n",
      "4FGL J1801.5+4404 -0.001904191649373388\n",
      "Deleting...\n",
      "4FGL J1804.4+5249 -0.0024677628607605584\n",
      "Deleting...\n",
      "4FGL J1806.2+6143 0.18033502744947327\n",
      "Deleting...\n",
      "4FGL J1806.3+5345 -0.016104300008009886\n",
      "Deleting...\n",
      "4FGL J1806.8+6949 0.010974173103022622\n",
      "Deleting...\n",
      "4FGL J1807.2+6429 0.030065735736570787\n",
      "Deleting...\n",
      "4FGL J1807.9+4650 -0.00022350162544171326\n",
      "Deleting...\n",
      "4FGL J1809.0+5908 0.03138724606469623\n",
      "Deleting...\n",
      "4FGL J1810.7+5335 -0.002245596988359466\n",
      "Deleting...\n",
      "4FGL J1812.4+4441 -0.0001124169175454881\n",
      "Deleting...\n",
      "4FGL J1815.1+5917 0.09848517321370309\n",
      "Deleting...\n",
      "4FGL J1816.5+4510 -0.0005927576785325073\n",
      "Deleting...\n",
      "4FGL J1821.4+4512 -0.00031954511723597534\n",
      "Deleting...\n",
      "4FGL J1821.6+6636 0.0022302350189420395\n",
      "Deleting...\n",
      "4FGL J1821.6+6819 0.02641756840966991\n",
      "Deleting...\n",
      "4FGL J1823.5+6858 0.006047253009455744\n",
      "Deleting...\n",
      "4FGL J1824.1+5651 0.2517370589048369\n",
      "Deleting...\n",
      "4FGL J1829.3+5402 0.0007609322710777633\n",
      "Deleting...\n",
      "4FGL J1829.5+4845 -0.0030416880508710165\n",
      "Deleting...\n",
      "4FGL J1836.2+5925 1.890385117414553\n",
      "Deleting...\n",
      "4FGL J1837.0+5347 0.009806642945477506\n",
      "Deleting...\n",
      "4FGL J1838.5+5733 0.005565644532907754\n",
      "Deleting...\n",
      "4FGL J1838.8+4802 -0.00020403995949891396\n",
      "Deleting...\n",
      "4FGL J1841.0+6115 0.033214859333384084\n",
      "Deleting...\n",
      "4FGL J1841.6+7113 -5.0152535550296307e-05\n",
      "Deleting...\n",
      "4FGL J1842.3+6810 0.010384778408479178\n",
      "Deleting...\n",
      "4FGL J1842.8+5311 0.0018433172517688945\n",
      "Deleting...\n",
      "4FGL J1844.9+5709 0.009124866886850214\n",
      "Deleting...\n",
      "4FGL J1845.3+5605 0.0067988518785568886\n",
      "Deleting...\n",
      "4FGL J1846.7+7238 -0.00020373774896143004\n",
      "Deleting...\n",
      "4FGL J1847.6+5219 0.0010527941485634074\n",
      "Deleting...\n",
      "4FGL J1847.9+5022 0.0005083086434751749\n",
      "Deleting...\n",
      "4FGL J1848.5+6537 0.0008090956653177273\n",
      "Deleting...\n",
      "4FGL J1849.2+6705 0.040378582783887396\n",
      "Deleting...\n",
      "4FGL J1853.8+6714 0.001490145172283519\n",
      "Deleting...\n",
      "4FGL J1858.7+5708 0.003886215370584978\n",
      "Deleting...\n",
      "4FGL J1901.0+6208 0.006350067906168988\n",
      "Deleting...\n",
      "4FGL J1903.2+5540 0.008989942230982706\n",
      "Deleting...\n",
      "4FGL J1906.7+5419 0.0002227611512353178\n",
      "Deleting...\n",
      "4FGL J1910.8+6300 0.0011122509858978447\n",
      "Deleting...\n",
      "gll_iem_v07 47.86852493263723\n",
      "iso_P8R3_SOURCE_V3_v1 2.5747642048263515\n",
      "Deleting...\n",
      "0\n"
     ]
    }
   ],
   "source": [
    "sourceDetails = {}\n",
    "\n",
    "for source in like2.sourceNames():\n",
    "    sourceDetails[source] = like.Ts(source)\n",
    "\n",
    "for source,TS in sourceDetails.items():\n",
    "    print(source,TS)\n",
    "    if (TS < 10):\n",
    "        print(\"Deleting...\")\n",
    "        like2.deleteSource(source)\n",
    "\n",
    "like2.fit(verbosity=0,covar=True,optObject=like2obj)\n",
    "\n",
    "print(like2obj.getRetCode())\n",
    "\n",
    "like2.logLike.writeXml('./data/Swift_ts10.xml')"
   ]
  },
  {
   "cell_type": "markdown",
   "metadata": {},
   "source": [
    "Since we have achieved convergence, we need to manually add the SwiftJ1644 source to the top of `Swift_ts10.xml` model file."
   ]
  },
  {
   "cell_type": "markdown",
   "metadata": {},
   "source": [
    "```xml\n",
    "<source name=\"SwiftJ1644\" type=\"PointSource\">\n",
    " <spectrum type=\"PowerLaw2\">\n",
    "  <parameter free=\"true\" max=\"10000.0\" min=\"0.0001\" name=\"Integral\" scale=\"1e-07\" value=\"1.0\"/>\n",
    "  <parameter free=\"true\" max=\"5.0\" min=\"0.0\" name=\"Index\" scale=\"-1.0\" value=\"2.0\"/>\n",
    "  <parameter free=\"false\" max=\"500000.0\" min=\"20.0\" name=\"LowerLimit\" scale=\"1.0\" value=\"100.0\"/>\n",
    "  <parameter free=\"false\" max=\"500000.0\" min=\"20.0\" name=\"UpperLimit\" scale=\"1.0\" value=\"300000.0\"/>\n",
    " </spectrum>\n",
    " <spatialModel type=\"SkyDirFunction\">\n",
    "  <parameter free=\"false\" max=\"360.0\" min=\"-360.0\" name=\"RA\" scale=\"1.0\" value=\"251.2054\"/>\n",
    "  <parameter free=\"false\" max=\"90.0\" min=\"-90.0\" name=\"DEC\" scale=\"1.0\" value=\"57.5808\"/>\n",
    " </spatialModel>\n",
    "</source>\n",
    "```"
   ]
  },
  {
   "cell_type": "markdown",
   "metadata": {},
   "source": [
    "With the Swift source in the XML file, we can now calculate the upper limit (the paper used an upper energy limit of 10GeV so that's what we are using here)."
   ]
  },
  {
   "cell_type": "code",
   "execution_count": 33,
   "metadata": {
    "scrolled": true
   },
   "outputs": [],
   "source": [
    "#help(UnbinnedAnalysis)"
   ]
  },
  {
   "cell_type": "code",
   "execution_count": 34,
   "metadata": {},
   "outputs": [
    {
     "name": "stdout",
     "output_type": "stream",
     "text": [
      "0 1.0 -13.251780977050657 1.0020512289980601e-07\n",
      "1 1.4 -8.581677974132617 1.4030658781359018e-07\n",
      "2 1.7999999999999998 -3.3013048511002125 1.804161226789073e-07\n",
      "3 2.1999999999999997 2.474914384929434 2.2053187542459382e-07\n",
      "[2.13e-07 ph/cm^2/s for emin=100.0, emax=10000.0, delta(logLike)=1.35]\n"
     ]
    }
   ],
   "source": [
    "like3 = UnbinnedAnalysis(obs,'./data/Swift_ts10_new.xml',optimizer='Minuit')\n",
    "\n",
    "from UpperLimits import UpperLimits\n",
    "\n",
    "ul = UpperLimits(like3)\n",
    "ul['SwiftJ1644'].compute(emin=100,emax=10000)\n",
    "print(ul['SwiftJ1644'].results)"
   ]
  },
  {
   "cell_type": "markdown",
   "metadata": {},
   "source": [
    "Note that this is in ph/cm^2/s and not ergs/cm^2/s."
   ]
  },
  {
   "cell_type": "markdown",
   "metadata": {},
   "source": [
    "# Binned Data Upper Limits\n",
    "\n",
    "In the case of binned data, one needs to follow the standard [likelihood analysis](https://github.com/fermi-lat/AnalysisThreads/blob/master/SourceAnalysis/1.BinnedLikelihood/binned_likelihood_tutorial.ipynb) or the [python version](https://github.com/fermi-lat/AnalysisThreads/blob/master/SourceAnalysis/4.SummedPythonLikelihood/summed_tutorial.ipynb) in order to generate livetime cubes, counts cubes, source maps and exposure maps.\n",
    "\n",
    "The upper limits steps are nearly identical to the previous section, but one needs to import BinnedAnalysis and use BinnedObs with the proper file format instead:"
   ]
  },
  {
   "cell_type": "markdown",
   "metadata": {},
   "source": [
    "```python\n",
    "import pyLikelihood\n",
    "from BinnedAnalysis import *\n",
    "\n",
    "obs = BinnedObs(srcMaps='file_name',binnedExpMap='file_name',\n",
    "expCube ='file_name',irfs='CALDB')\n",
    "like = BinnedAnalysis(obs,'XML_file_name',optimizer='NewMinuit')\n",
    "```"
   ]
  }
 ],
 "metadata": {
  "kernelspec": {
   "display_name": "Python 3 (ipykernel)",
   "language": "python",
   "name": "python3"
  },
  "language_info": {
   "codemirror_mode": {
    "name": "ipython",
    "version": 3
   },
   "file_extension": ".py",
   "mimetype": "text/x-python",
   "name": "python",
   "nbconvert_exporter": "python",
   "pygments_lexer": "ipython3",
   "version": "3.11.12"
  }
 },
 "nbformat": 4,
 "nbformat_minor": 4
}
