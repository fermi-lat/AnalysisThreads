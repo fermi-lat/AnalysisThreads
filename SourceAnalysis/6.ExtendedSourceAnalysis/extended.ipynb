{
 "cells": [
  {
   "cell_type": "markdown",
   "metadata": {},
   "source": [
    "# Extended Source Analysis\n",
    "\n",
    "The analysis of an extended source is performed similarly to the process described in the [binned likelihood](https://fermi.gsfc.nasa.gov/ssc/data/analysis/scitools/binned_likelihood_tutorial.html) tutorial.\n",
    "\n",
    "The only extra step needed is to create a two dimensional template that describes the object you are wanting to analyze.\n",
    "\n",
    "This template can be created from several different sources including maps from other observatories or you can create your own from scratch.\n",
    "\n",
    "There are a few simple rules you have to follow in creating your template but once you've done that, pretty much any shape is possible to model."
   ]
  },
  {
   "cell_type": "markdown",
   "metadata": {},
   "source": [
    "***"
   ]
  },
  {
   "cell_type": "markdown",
   "metadata": {},
   "source": [
    "This sample analysis is based on the Centaurus A analysis performed by the LAT team and described in [Abdo, A. A. et al. 2010, Science, 328, 728](http://adsabs.harvard.edu/abs/2010Sci...328..725F). At certain points we will refer to this article and its supplement as well as the [Cicerone](https://fermi.gsfc.nasa.gov/ssc/data/analysis/documentation/Cicerone/).\n",
    "\n",
    "The goal of this tutorial is to reproduce the data analysis performed in this publication including calculating the spectral shape and fluxes of the central core of Cen A and the large radio lobes. This tutorial uses a [user-contributed tool](https://github.com/physicsranger/make4FGLxml) (`make4FGLxml.py`) and assumes you have the most recent [Fermitools](https://fermi.gsfc.nasa.gov/ssc/data/analysis/software/) installed.\n",
    "\n",
    "We will also make significant use of python, so you might want to familiarize yourself with python (there's a beginner's guide at http://wiki.python.org/moin/BeginnersGuide).\n",
    "\n",
    "This tutorial also assumes that you've gone through the non-python based [binned likelihood](https://github.com/fermi-lat/AnalysisThreads/blob/master/SourceAnalysis/1.BinnedLikelihood/binned_likelihood_tutorial.ipynb) thread. It is also useful if you have gone through the [Likelihood Analysis with Python](https://github.com/fermi-lat/AnalysisThreads/blob/master/SourceAnalysis/3.PythonLikelihood/python_tutorial.ipynb) tutorial.\n",
    "\n",
    "This tutorial should take approximately 8 hours to complete (depending on your computer's speed) if you do everything, but there are some steps you can skip along the way which shaves off about 4 hours of that."
   ]
  },
  {
   "cell_type": "markdown",
   "metadata": {},
   "source": [
    "# Get the data\n",
    "\n",
    "For this thread the original data were extracted from the [LAT data server](https://fermi.gsfc.nasa.gov/cgi-bin/ssc/LAT/LATDataQuery.cgi) with the following selections (these selections are similar to those in the paper):\n",
    "\n",
    "```\n",
    "Search Center (RA,Dec) = (201.47,-42.97)\n",
    "Radius = 30 degrees\n",
    "Start Time (MET) = 239557420 seconds (2008-08-04T15:43:40)\n",
    "Stop Time (MET) = 265507200 seconds (2009-06-01T00:00:00)\n",
    "Minimum Energy = 300 MeV\n",
    "Maximum Energy = 300000 MeV\n",
    "```\n",
    "\n",
    "\n",
    "These are the event files. Run the code cell below to retrieve them:\n",
    "```\n",
    "L1504211512544B65347F11_PH00.fits\n",
    "L1504211512544B65347F11_PH01.fits\n",
    "L1504211512544B65347F11_PH02.fits\n",
    "L1504211512544B65347F11_SC00.fits\n",
    "```"
   ]
  },
  {
   "cell_type": "code",
   "execution_count": 1,
   "metadata": {},
   "outputs": [
    {
     "name": "stdout",
     "output_type": "stream",
     "text": [
      "--2025-09-15 11:12:07--  https://fermi.gsfc.nasa.gov/ssc/data/analysis/scitools/extended/L1504211512544B65347F11_PH00.fits\n",
      "Resolving fermi.gsfc.nasa.gov (fermi.gsfc.nasa.gov)... 129.164.179.26\n",
      "Connecting to fermi.gsfc.nasa.gov (fermi.gsfc.nasa.gov)|129.164.179.26|:443... connected.\n",
      "HTTP request sent, awaiting response... 200 OK\n",
      "Length: 31608000 (30M) [application/fits]\n",
      "Saving to: ‘L1504211512544B65347F11_PH00.fits’\n",
      "\n",
      "L1504211512544B6534 100%[===================>]  30.14M  2.12MB/s    in 14s     \n",
      "\n",
      "2025-09-15 11:12:21 (2.15 MB/s) - ‘L1504211512544B65347F11_PH00.fits’ saved [31608000/31608000]\n",
      "\n",
      "--2025-09-15 11:12:21--  https://fermi.gsfc.nasa.gov/ssc/data/analysis/scitools/extended/L1504211512544B65347F11_PH01.fits\n",
      "Resolving fermi.gsfc.nasa.gov (fermi.gsfc.nasa.gov)... 129.164.179.26\n",
      "Connecting to fermi.gsfc.nasa.gov (fermi.gsfc.nasa.gov)|129.164.179.26|:443... connected.\n",
      "HTTP request sent, awaiting response... 200 OK\n",
      "Length: 56321280 (54M) [application/fits]\n",
      "Saving to: ‘L1504211512544B65347F11_PH01.fits’\n",
      "\n",
      "L1504211512544B6534 100%[===================>]  53.71M  2.12MB/s    in 26s     \n",
      "\n",
      "2025-09-15 11:12:48 (2.05 MB/s) - ‘L1504211512544B65347F11_PH01.fits’ saved [56321280/56321280]\n",
      "\n",
      "--2025-09-15 11:12:48--  https://fermi.gsfc.nasa.gov/ssc/data/analysis/scitools/extended/L1504211512544B65347F11_PH02.fits\n",
      "Resolving fermi.gsfc.nasa.gov (fermi.gsfc.nasa.gov)... 129.164.179.26\n",
      "Connecting to fermi.gsfc.nasa.gov (fermi.gsfc.nasa.gov)|129.164.179.26|:443... connected.\n",
      "HTTP request sent, awaiting response... 200 OK\n",
      "Length: 27437760 (26M) [application/fits]\n",
      "Saving to: ‘L1504211512544B65347F11_PH02.fits’\n",
      "\n",
      "L1504211512544B6534 100%[===================>]  26.17M  2.16MB/s    in 12s     \n",
      "\n",
      "2025-09-15 11:13:00 (2.10 MB/s) - ‘L1504211512544B65347F11_PH02.fits’ saved [27437760/27437760]\n",
      "\n",
      "--2025-09-15 11:13:01--  https://fermi.gsfc.nasa.gov/ssc/data/analysis/scitools/extended/L1504211512544B65347F11_SC00.fits\n",
      "Resolving fermi.gsfc.nasa.gov (fermi.gsfc.nasa.gov)... 129.164.179.26\n",
      "Connecting to fermi.gsfc.nasa.gov (fermi.gsfc.nasa.gov)|129.164.179.26|:443... connected.\n",
      "HTTP request sent, awaiting response... 200 OK\n",
      "Length: 109399680 (104M) [application/fits]\n",
      "Saving to: ‘L1504211512544B65347F11_SC00.fits’\n",
      "\n",
      "L1504211512544B6534 100%[===================>] 104.33M  2.15MB/s    in 50s     \n",
      "\n",
      "2025-09-15 11:13:51 (2.10 MB/s) - ‘L1504211512544B65347F11_SC00.fits’ saved [109399680/109399680]\n",
      "\n"
     ]
    }
   ],
   "source": [
    "!wget https://fermi.gsfc.nasa.gov/ssc/data/analysis/scitools/extended/L1504211512544B65347F11_PH00.fits\n",
    "!wget https://fermi.gsfc.nasa.gov/ssc/data/analysis/scitools/extended/L1504211512544B65347F11_PH01.fits\n",
    "!wget https://fermi.gsfc.nasa.gov/ssc/data/analysis/scitools/extended/L1504211512544B65347F11_PH02.fits\n",
    "!wget https://fermi.gsfc.nasa.gov/ssc/data/analysis/scitools/extended/L1504211512544B65347F11_SC00.fits"
   ]
  },
  {
   "cell_type": "code",
   "execution_count": 2,
   "metadata": {},
   "outputs": [],
   "source": [
    "!mkdir data\n",
    "!mv *SC00.fits spacecraft.fits\n",
    "!mv *.fits ./data"
   ]
  },
  {
   "cell_type": "markdown",
   "metadata": {},
   "source": [
    "You'll first need to make a file list with the names of your input event files:"
   ]
  },
  {
   "cell_type": "code",
   "execution_count": 3,
   "metadata": {},
   "outputs": [
    {
     "name": "stdout",
     "output_type": "stream",
     "text": [
      "./data/L1504211512544B65347F11_PH00.fits\n",
      "./data/L1504211512544B65347F11_PH01.fits\n",
      "./data/L1504211512544B65347F11_PH02.fits\n"
     ]
    }
   ],
   "source": [
    "!ls ./data/*PH*.fits > ./data/CenA.list\n",
    "!cat ./data/CenA.list"
   ]
  },
  {
   "cell_type": "markdown",
   "metadata": {},
   "source": [
    "In the following analysis we've assumed that you've named your list of data files `CenA.list` and renamed the spacecraft file (`L1504211512544B65347F11_SC00.fits`) to `spacecraft.fits`."
   ]
  },
  {
   "cell_type": "markdown",
   "metadata": {},
   "source": [
    "# Perform Event Selections\n",
    "\n",
    "We are going to follow the prescription described in the unbinned likelihood tutorial to filter and prepare our data set.\n",
    "\n",
    "First, execute **gtselect**:"
   ]
  },
  {
   "cell_type": "code",
   "execution_count": 4,
   "metadata": {},
   "outputs": [
    {
     "name": "stdout",
     "output_type": "stream",
     "text": [
      "Input FT1 file[@./data/CenA.list]     @./data/CenA.list\n",
      "Output FT1 file[./data/CenA_filtered.fits]     ./data/CenA_filtered.fits\n",
      "RA for new search center (degrees) (0:360) [201.47]     201.47\n",
      "Dec for new search center (degrees) (-90:90) [-42.97]     -42.97\n",
      "radius of new search region (degrees) (0:180) [10]     10\n",
      "start time (MET in s) (0:) [239557420]     239557420\n",
      "end time (MET in s) (0:) [265507200]     265507200\n",
      "lower energy limit (MeV) (0:) [300]     300\n",
      "upper energy limit (MeV) (0:) [300000]     300000\n",
      "maximum zenith angle value (degrees) (0:180) [90]     90\n",
      "Done.\n"
     ]
    }
   ],
   "source": [
    "%%bash\n",
    "gtselect evclass=128 evtype=3\n",
    "    @./data/CenA.list\n",
    "    ./data/CenA_filtered.fits\n",
    "    201.47\n",
    "    -42.97\n",
    "    10\n",
    "    239557420\n",
    "    265507200\n",
    "    300\n",
    "    300000\n",
    "    90"
   ]
  },
  {
   "cell_type": "markdown",
   "metadata": {},
   "source": [
    "Next, you need to run **gtmktime** with a similar filter as that used in the publication."
   ]
  },
  {
   "cell_type": "code",
   "execution_count": 5,
   "metadata": {},
   "outputs": [
    {
     "name": "stdout",
     "output_type": "stream",
     "text": [
      "Spacecraft data file[./data/spacecraft.fits]     ./data/spacecraft.fits\n",
      "Filter expression[(DATA_QUAL>0)&&(LAT_CONFIG==1)]     (DATA_QUAL>0)&&(LAT_CONFIG==1)\n",
      "Apply ROI-based zenith angle cut[no]     no\n",
      "Event data file[./data/CenA_filtered.fits]     ./data/CenA_filtered.fits\n",
      "Output event file name[./data/CenA_filtered_gti.fits]     ./data/CenA_filtered_gti.fits\n"
     ]
    }
   ],
   "source": [
    "%%bash\n",
    "gtmktime\n",
    "    ./data/spacecraft.fits\n",
    "    (DATA_QUAL>0)&&(LAT_CONFIG==1)\n",
    "    no\n",
    "    ./data/CenA_filtered.fits\n",
    "    ./data/CenA_filtered_gti.fits"
   ]
  },
  {
   "cell_type": "markdown",
   "metadata": {},
   "source": [
    "# Create and View a Counts Map\n",
    "\n",
    "Now we can go ahead and create a counts map of the region so we can visualize the lobes and see the core of CenA in gamma rays.\n",
    "\n",
    "We can't make any quantitative statements yet, since we haven't produced a template to model but we can at least look and see what we have."
   ]
  },
  {
   "cell_type": "code",
   "execution_count": 6,
   "metadata": {},
   "outputs": [
    {
     "name": "stdout",
     "output_type": "stream",
     "text": [
      "This is gtbin version HEAD\n",
      "Type of output file (CCUBE|CMAP|LC|PHA1|PHA2|HEALPIX) [CMAP]     CMAP\n",
      "Event data file name[./data/CenA_filtered_gti.fits]     ./data/CenA_filtered_gti.fits\n",
      "Output file name[./data/CenA_CMAP.fits]     ./data/CenA_CMAP.fits\n",
      "Spacecraft data file name[NONE]     NONE\n",
      "Size of the X axis in pixels[140]     140\n",
      "Size of the Y axis in pixels[140]     140\n",
      "Image scale (in degrees/pixel)[0.1]     0.1\n",
      "Coordinate system (CEL - celestial, GAL -galactic) (CEL|GAL) [CEL]     CEL\n",
      "First coordinate of image center in degrees (RA or galactic l)[201.47]     201.47\n",
      "Second coordinate of image center in degrees (DEC or galactic b)[-42.97]     -42.97\n",
      "Rotation angle of image axis, in degrees[0]     0\n",
      "Projection method e.g. AIT|ARC|CAR|GLS|MER|NCP|SIN|STG|TAN:[AIT]     AIT\n"
     ]
    },
    {
     "name": "stderr",
     "output_type": "stream",
     "text": [
      "gtbin: WARNING: No spacecraft file: EXPOSURE keyword will be set equal to ontime.\n"
     ]
    }
   ],
   "source": [
    "%%bash\n",
    "gtbin\n",
    "    CMAP\n",
    "    ./data/CenA_filtered_gti.fits\n",
    "    ./data/CenA_CMAP.fits\n",
    "    NONE\n",
    "    140\n",
    "    140\n",
    "    0.1\n",
    "    CEL\n",
    "    201.47\n",
    "    -42.97\n",
    "    0\n",
    "    AIT"
   ]
  },
  {
   "cell_type": "markdown",
   "metadata": {},
   "source": [
    "Open this FITS image up (`CenA_CMAP.fits`) in your favorite FITS viewer such as *ds9*. If you use the default settings, you'll see the following (using the 'heat' color map):\n",
    "\n",
    "<img src='https://fermi.gsfc.nasa.gov/ssc/data/analysis/scitools/extended/CenA_CMAP.png'>"
   ]
  },
  {
   "cell_type": "markdown",
   "metadata": {},
   "source": [
    "Visualizing the lobes with this raw image is not easy. You can kind of see some emission in the center but not really resolve it.\n",
    "\n",
    "However, you can smooth this image in *ds9* by clicking the 'Analysis Menu' and then selecting 'Smooth'.\n",
    "\n",
    "This is better, but not quite good enough, so click 'Analysis' again and select 'Smooth Parameters'. This should bring up a dialog box where you can select the Kernel Radius. Set this to 9 and click 'Apply' and then close the dialog box.\n",
    "\n",
    "The resulting image is pretty washed out now, so click 'Color' and then select 'b'. If you play with the color scale by holding the right mouse button while dragging it around you can wind up with a smoothed count map that looks a little like the one in the publication:\n",
    "\n",
    "<img src='https://fermi.gsfc.nasa.gov/ssc/data/analysis/scitools/extended/CenA_CMAP_smooth.png'>"
   ]
  },
  {
   "cell_type": "markdown",
   "metadata": {},
   "source": [
    "We're not going to get something perfect here since we're manually playing with the color scaling and the paper used a sophisticated adaptive smoothing algorithm while we're just using the simple Gaussian algorithm included in *ds9*.\n",
    "\n",
    "However, you can already see the central core of CenA and some diffuse emission to the north and south of the core that kind of looks like extended emission.\n",
    "\n",
    "You can also see several point sources in the ROI that are other gamma-ray sources we'll need to model. Since Cen A is near the galactic plane, you can make out some of the galactic diffuse emission at the bottom of the image."
   ]
  },
  {
   "cell_type": "markdown",
   "metadata": {},
   "source": [
    "# Create a Template for the Extended Emission\n",
    "\n",
    "Now that we've convinced ourselves that there is extended lobe emission, we need to find a way to describe the spatial extent.\n",
    "\n",
    "In this case, we'll follow the example of the publication and use the WMAP k-band observations as a template. The exact WMAP template that was used in the publication is not available but we can get a very similar one from [NASA's SkyView](http://skyview.gsfc.nasa.gov/).\n",
    "\n",
    "Navigate to SkyView using and click on the [SkyView Query Form](http://skyview.gsfc.nasa.gov/cgi-bin/query.pl) link. We want to download the WMAP data in a region around Cen A, so input `Cen A` into the `Coordinates of Source` box of the form. Then, select `WMAP K` in the `Infrared CMB:` box.\n",
    "\n",
    "We need to match our ROI, so under `Common Options` input `140` as the `Image size (pixels)` and 14 as the `Image Size (degrees)`. Once you've input all of this, hit the `Submit Request` button."
   ]
  },
  {
   "cell_type": "markdown",
   "metadata": {},
   "source": [
    "<img src='https://fermi.gsfc.nasa.gov/ssc/data/analysis/scitools/extended/SkyView_Query.png'>"
   ]
  },
  {
   "cell_type": "markdown",
   "metadata": {},
   "source": [
    "On the resulting page, you'll see an image of the WMAP data showing a fuzzy image of Cen A in the K-Band.\n",
    "\n",
    "This is nice, but what we really want is the FITS image, so click the FITS link and download it into your working directory.\n",
    "\n",
    "In the following section, we're going to assume that the SkyView image is called `skv.fits`, so rename the downloaded file accordingly.\n",
    "\n",
    "You can also download the WMAP image directly by running the code cell below."
   ]
  },
  {
   "cell_type": "code",
   "execution_count": 7,
   "metadata": {},
   "outputs": [
    {
     "name": "stdout",
     "output_type": "stream",
     "text": [
      "--2025-09-15 11:13:56--  https://fermi.gsfc.nasa.gov/ssc/data/analysis/scitools/extended/skv.fits\n",
      "Resolving fermi.gsfc.nasa.gov (fermi.gsfc.nasa.gov)... 129.164.179.26\n",
      "Connecting to fermi.gsfc.nasa.gov (fermi.gsfc.nasa.gov)|129.164.179.26|:443... connected.\n",
      "HTTP request sent, awaiting response... 200 OK\n",
      "Length: 89280 (87K) [application/fits]\n",
      "Saving to: ‘skv.fits’\n",
      "\n",
      "skv.fits            100%[===================>]  87.19K  --.-KB/s    in 0.002s  \n",
      "\n",
      "2025-09-15 11:13:57 (37.9 MB/s) - ‘skv.fits’ saved [89280/89280]\n",
      "\n"
     ]
    }
   ],
   "source": [
    "!wget https://fermi.gsfc.nasa.gov/ssc/data/analysis/scitools/extended/skv.fits\n",
    "!mv *.fits ./data"
   ]
  },
  {
   "cell_type": "markdown",
   "metadata": {},
   "source": [
    "Here's what the downloaded WMAP K-band image looks like in ds9 using the 'heat' color map and square-root scaling without any smoothing:\n",
    "\n",
    "<img src='https://fermi.gsfc.nasa.gov/ssc/data/analysis/scitools/extended/wmap-k.png'>"
   ]
  },
  {
   "cell_type": "markdown",
   "metadata": {},
   "source": [
    "The raw image by itself is not in the correct form for the analysis we want to do.\n",
    "\n",
    "First of all, we want to subtract out the central core of Cen A and we want to divide the map into two parts so that we can separately model the north and south lobes. Furthermore, there are a few things we need to do to make any map compatible with the Fermitools:\n",
    "\n",
    "* The template must be in J2000 coordinates. The likelihood code does not transpose coordinates into J2000.\n",
    "* The background must be set to 0. The likelihood code will use any pixel over 0 as part of the template.\n",
    "* The total flux must be normalized to 1."
   ]
  },
  {
   "cell_type": "markdown",
   "metadata": {},
   "source": [
    "The first point is already taken care of since the WMAP image is in J2000 coordinates.\n",
    "\n",
    "We'll take care of the second point by setting all of the points below a certain value to 0. This isn't the best way to do it, but it's quick, which is what we're going for in this thread.\n",
    "\n",
    "In the final step, we'll integrate over the entire map to get our normalization factor and divide each pixel by this number.\n",
    "\n",
    "So let's get started!\n",
    "\n",
    "We're going to use `pyFits` to do this which is included in the Fermitools (you could use a similar tools like IDL or ftools if you wanted). You can find more details on pyFits at the [pyFits website](http://www.stsci.edu/resources/software_hardware/pyfits)."
   ]
  },
  {
   "cell_type": "code",
   "execution_count": 8,
   "metadata": {},
   "outputs": [],
   "source": [
    "import astropy.io.fits as pyfits\n",
    "import numpy as np\n",
    "\n",
    "wmap_image = pyfits.open(\"./data/skv.fits\")"
   ]
  },
  {
   "cell_type": "markdown",
   "metadata": {},
   "source": [
    "You can view the header of the image via the following command. The image is in the first HDU of the FITS file so you access the '0'th element of the `wmap_image` object."
   ]
  },
  {
   "cell_type": "code",
   "execution_count": 9,
   "metadata": {},
   "outputs": [
    {
     "name": "stdout",
     "output_type": "stream",
     "text": [
      "SIMPLE  =                    T / Written by SkyView Tue Jul 12 16:03:27 EDT 2011BITPIX  =                  -32 / 4 byte floating point                          NAXIS   =                    2 / Two dimensional image                          NAXIS1  =                  140 / Width of image                                 NAXIS2  =                  140 / Height of image                                CRVAL1  =   201.36506299999994 / Reference longitude                            CRVAL2  =  -43.019113000000004 / Reference latitude                             RADESYS = 'FK5     '           / Coordinate system                              EQUINOX =               2000.0 / Epoch of the equinox                           CTYPE1  = 'RA---TAN'           / Coordinates -- projection                      CTYPE2  = 'DEC--TAN'           / Coordinates -- projection                      CRPIX1  =                 70.5 / X reference pixel                              CRPIX2  =                 70.5 / Y reference pixel                              CDELT1  =                 -0.1 / X scale                                        CDELT2  =                  0.1 / Y scale                                        COMMENT                                                                         COMMENT  SkyView Survey metadata                                                COMMENT                                                                         COMMENT Provenance:  WMAP Mission/LAMBDA archive                                COMMENT Copyright:   Public Domain                                              COMMENT Regime:      Infrared                                                   COMMENT NSurvey:     1                                                          COMMENT Frequency:   23 GHz                                                     COMMENT Coverage:    AllSky                                                     COMMENT PixelScale:  7.5'                                                       COMMENT PixelUnits:  millikelvins                                               COMMENT Resolution:  0.88 degree beam size                                      COMMENT CoordinateSystem:Galactic                                               COMMENT Projection:  HEALPix                                                    COMMENT Epoch:       2000-2007                                                  COMMENT Reference:   LAMBDA archive                                             COMMENT                                                                         COMMENT Survey specific cards                                                   COMMENT                                                                         SURVEY  = 'WMAP-K  '                                                            BUNIT   = 'mK      '                                                            COMMENT Original data in level 9 HEALPix image                                  HISTORY                                                                         HISTORY  Settings used in processing:                                           HISTORY                                                                         HISTORY cache = /skyview8/cache/surveys/                                        HISTORY coordinates = J2000.0                                                   HISTORY descriptionxslt = cgifiles/description.xsl                              HISTORY dummy                                                                   HISTORY equinox = 2000                                                          HISTORY fileprefix = /skyview8/newsurveys/wmap7/                                HISTORY finalpostprocessor = skyview.ij.IJProcessor,skyview.data.BoxSmoother,skyHISTORY float = on                                                              HISTORY footertemplate = cgifiles/skyfooter.html                                HISTORY galleryxslt = cgifiles/gallerymultipage.xsl                             HISTORY headertemplate = cgifiles/skyheader.html                                HISTORY htmlwriter = skyview.request.HTMLWriter                                 HISTORY imagefactory = skyview.survey.HealPixImageFactory                       HISTORY imagesize = 360                                                         HISTORY imscale = 14                                                            HISTORY localurl = http://skyview.gsfc.nasa.gov/surveys,/skyview/htdocs/surveys HISTORY lut = colortables/b-w-linear.bin                                        HISTORY lutcbarpath = /images/colorbars/                                        HISTORY mosaicker = skyview.process.Mosaicker                                   HISTORY name = WMAP Seven Year K-Band                                           HISTORY noexit =                                                                HISTORY nullimagedir = ../images/nodata                                         HISTORY nwindow = on                                                            HISTORY output = ../tempspace/fits/skv10909017703942                            HISTORY outputroot = ../tempspace/fits/                                         HISTORY pixels = 140                                                            HISTORY position = cen a                                                        HISTORY postprocessor = skyview.ij.IJProcessor,skyview.request.HTMLWriter       HISTORY projection = Tan                                                        HISTORY quicklook = jpeg                                                        HISTORY requested_coords = 201.36506299999994, -43.019113000000004              HISTORY reqxpos = 201.36506299999994                                            HISTORY reqypos = -43.019113000000004                                           HISTORY resolver = SIMBAD-NED                                                   HISTORY rgbtemplate = cgifiles/skyrgb.html                                      HISTORY rgbwriter = skyview.request.RGBWriter                                   HISTORY sampler = NN                                                            HISTORY savebysurvey                                                            HISTORY scale = 0.1757                                                          HISTORY scaling = Log                                                           HISTORY settingsupdaters = BatchCompatibility,SettingsFixer,skyview.request.ToasHISTORY shortname = WMAPK,WMAP K,WMAP-K                                         HISTORY size = 14.0,14.0                                                        HISTORY survey = WMAP K                                                         HISTORY surveyfinder = skyview.survey.XMLSurveyFinder                           HISTORY surveymanifest = surveys/survey.manifest                                HISTORY surveysheader = cgifiles/survey.header                                  HISTORY surveytemplate = cgifiles/skysurvey.html                                HISTORY webrootpath = /skyview/htdocs/                                          HISTORY                                                                         HISTORY  Map generated at: Tue Jul 12 16:03:27 EDT 2011                         HISTORY                                                                         HISTORY  Resampler used: NNSampler                                              HISTORY                                                                         HISTORY                                                                         HISTORY Image mosaicking using skyview.geometry.Mosaicker                       HISTORY                                                                         HISTORY   Used image:/skyview8/newsurveys/wmap7/wmap_band_imap_r9_7yr_K_v4.fits HISTORY                                                                         END                                                                                                                                                                                                                                                                                                                                                                                                                                                                                                                                                                                                                                                                                                                                             \n"
     ]
    }
   ],
   "source": [
    "print(wmap_image[0].header)"
   ]
  },
  {
   "cell_type": "markdown",
   "metadata": {},
   "source": [
    "Now we do a rough background suppression by setting any pixels less than 0.5 mK to 0. We'll also save the resulting image to a file so we can see what we've done."
   ]
  },
  {
   "cell_type": "code",
   "execution_count": 10,
   "metadata": {},
   "outputs": [],
   "source": [
    "wmap_image[0].data[wmap_image[0].data < 0.5] = 0.0\n",
    "wmap_image.writeto('./data/CenA_wmap_k_above5.fits')"
   ]
  },
  {
   "cell_type": "markdown",
   "metadata": {},
   "source": [
    "If you open up this image in *ds9*, you'll notice that there's still some background left in the south east portion of the image, so we'll get rid of this by setting any pixels that are more than 5 degrees away from the center to 0 and write this out to a file.\n",
    "\n",
    "Remember that the image is 14 degrees and has a pixel size of 0.1 degrees. We're going to create a 2-d array that's filled with the distance to the center pixel."
   ]
  },
  {
   "cell_type": "code",
   "execution_count": 11,
   "metadata": {},
   "outputs": [],
   "source": [
    "x = np.arange(-7,7,0.1)\n",
    "y = np.arange(-7,7,0.1)\n",
    "xx, yy = np.meshgrid(x, y, sparse=True)\n",
    "dist = np.sqrt(xx**2 + yy**2)"
   ]
  },
  {
   "cell_type": "markdown",
   "metadata": {},
   "source": [
    "Now, set all of the pixels in the wmap data where `dist` is greater than 5 to 0."
   ]
  },
  {
   "cell_type": "code",
   "execution_count": 12,
   "metadata": {},
   "outputs": [],
   "source": [
    "wmap_image[0].data[dist > 5] = 0.0\n",
    "wmap_image.writeto('./data/CenA_wmap_k_nobkgrnd.fits')"
   ]
  },
  {
   "cell_type": "markdown",
   "metadata": {},
   "source": [
    "The resulting image should only have emission from the radio galaxy left and the rest of the image set to 0.\n",
    "\n",
    "This is important because any non-zero pixels will be treated as part of the template by the likelihood code and will skew your results.\n",
    "\n",
    "Now we will continue on to subtract out the center 1 degree of the image so that the core of Cen A is not included in the template."
   ]
  },
  {
   "cell_type": "code",
   "execution_count": 13,
   "metadata": {},
   "outputs": [],
   "source": [
    "wmap_image[0].data[dist < 1.0] = 0.0\n",
    "wmap_image.writeto('./data/CenA_wmap_k_nocenter.fits')"
   ]
  },
  {
   "cell_type": "markdown",
   "metadata": {},
   "source": [
    "At this point, we want to divide up our map into north and south pieces and normalize each of them. We need to normalize the flux of each template that we're using to 1. This means doing a two dimensional integral over the image making sure to take into account the size of each bin.\n",
    "\n",
    "In practice, this means summing up all of the bins, multiplying this by (pi/180)^2 and multiplying this by the pixel area. We will now make the north map by setting all the south pixels to zero, normalize it and save it. We'll then close the image, open the image we saved before we did the zeroing out of the south pixels, and do the same for the south region."
   ]
  },
  {
   "cell_type": "code",
   "execution_count": 14,
   "metadata": {},
   "outputs": [],
   "source": [
    "wmap_image[0].data[0:69,0:140] = 0\n",
    "norm = np.sum(wmap_image[0].data) * (np.pi/180)**2 * (0.1**2)\n",
    "wmap_image[0].data = wmap_image[0].data / norm\n",
    "wmap_image.writeto('./data/CenA_wmap_k_nocenter_N.fits')\n",
    "wmap_image.close()"
   ]
  },
  {
   "cell_type": "markdown",
   "metadata": {},
   "source": [
    "Now open the file back up and do the same for the south region."
   ]
  },
  {
   "cell_type": "code",
   "execution_count": 15,
   "metadata": {},
   "outputs": [],
   "source": [
    "wmap_image = pyfits.open('./data/CenA_wmap_k_nocenter.fits')\n",
    "wmap_image[0].data[70:140,0:140]=0\n",
    "norm = np.sum(wmap_image[0].data) * (np.pi/180)**2 * (0.1**2)\n",
    "wmap_image[0].data = wmap_image[0].data / norm\n",
    "wmap_image.writeto('./data/CenA_wmap_k_nocenter_S.fits')\n",
    "wmap_image.close()"
   ]
  },
  {
   "cell_type": "markdown",
   "metadata": {},
   "source": [
    "In the end, you should have two FITS files that look like the following images. The max value in the North template should be around 1670 and the max in the South should be around 900.\n",
    "\n",
    "If you are far away from these values, make sure you executed the above steps correctly."
   ]
  },
  {
   "cell_type": "code",
   "execution_count": 16,
   "metadata": {},
   "outputs": [
    {
     "data": {
      "text/html": [
       "<table><tr><td><img src='https://fermi.gsfc.nasa.gov/ssc/data/analysis/scitools/extended/wmap-k-nocenter-S.png'></td><td><img src='https://fermi.gsfc.nasa.gov/ssc/data/analysis/scitools/extended/wmap-k-nocenter-N.png'></td></tr></table>"
      ],
      "text/plain": [
       "<IPython.core.display.HTML object>"
      ]
     },
     "metadata": {},
     "output_type": "display_data"
    }
   ],
   "source": [
    "from IPython.display import HTML\n",
    "display(HTML(\"<table><tr><td><img src='https://fermi.gsfc.nasa.gov/ssc/data/analysis/scitools/extended/wmap-k-nocenter-S.png'></td><td><img src='https://fermi.gsfc.nasa.gov/ssc/data/analysis/scitools/extended/wmap-k-nocenter-N.png'></td></tr></table>\"))"
   ]
  },
  {
   "cell_type": "markdown",
   "metadata": {},
   "source": [
    "# Create a 3D Counts Map and Compute the Livetime\n",
    "\n",
    "Now we can continue to follow the binned analysis prescription by creating a 3D counts map."
   ]
  },
  {
   "cell_type": "code",
   "execution_count": 17,
   "metadata": {},
   "outputs": [
    {
     "name": "stdout",
     "output_type": "stream",
     "text": [
      "This is gtbin version HEAD\n",
      "Type of output file (CCUBE|CMAP|LC|PHA1|PHA2|HEALPIX) [CMAP]     CCUBE\n",
      "Event data file name[./data/CenA_filtered_gti.fits]     ./data/CenA_filtered_gti.fits\n",
      "Output file name[./data/CenA_CMAP.fits]     ./data/CenA_CCUBE.fits\n",
      "Spacecraft data file name[NONE]     NONE\n",
      "Size of the X axis in pixels[140]     140\n",
      "Size of the Y axis in pixels[140]     140\n",
      "Image scale (in degrees/pixel)[0.1]     0.1\n",
      "Coordinate system (CEL - celestial, GAL -galactic) (CEL|GAL) [CEL]     CEL\n",
      "First coordinate of image center in degrees (RA or galactic l)[201.47]     201.47\n",
      "Second coordinate of image center in degrees (DEC or galactic b)[-42.97]     -42.97\n",
      "Rotation angle of image axis, in degrees[0]     0\n",
      "Projection method e.g. AIT|ARC|CAR|GLS|MER|NCP|SIN|STG|TAN:[AIT]     AIT\n",
      "Algorithm for defining energy bins (FILE|LIN|LOG) [LOG]     LOG\n",
      "Start value for first energy bin in MeV[100]     300\n",
      "Stop value for last energy bin in MeV[500000]     300000\n",
      "Number of logarithmically uniform energy bins[37]     30\n"
     ]
    },
    {
     "name": "stderr",
     "output_type": "stream",
     "text": [
      "gtbin: WARNING: No spacecraft file: EXPOSURE keyword will be set equal to ontime.\n"
     ]
    }
   ],
   "source": [
    "%%bash\n",
    "gtbin\n",
    "    CCUBE\n",
    "    ./data/CenA_filtered_gti.fits\n",
    "    ./data/CenA_CCUBE.fits\n",
    "    NONE\n",
    "    140\n",
    "    140\n",
    "    0.1\n",
    "    CEL\n",
    "    201.47\n",
    "    -42.97\n",
    "    0\n",
    "    AIT\n",
    "    LOG\n",
    "    300\n",
    "    300000\n",
    "    30"
   ]
  },
  {
   "cell_type": "markdown",
   "metadata": {},
   "source": [
    "Then compute the livetime. Remember that we applied a zenith cut to the data when we performed our event selections. You will need to apply the zenith cut to the exposure by including `zmax=90` as an argument on the command line. This will take something like 30 minutes to complete."
   ]
  },
  {
   "cell_type": "code",
   "execution_count": 18,
   "metadata": {},
   "outputs": [
    {
     "name": "stdout",
     "output_type": "stream",
     "text": [
      "Event data file[./data/SwiftJ1644_filtered_gti.fits]     ./data/CenA_filtered_gti.fits\n",
      "Spacecraft data file[./data/L181102105258F4F0ED2772_SC00.fits]     ./data/spacecraft.fits\n",
      "Output file[./data/SwiftJ1644_ltCube.fits]     ./data/CenA_ltcube.fits\n",
      "Step size in cos(theta) (0.:1.) [0.025]     0.025\n",
      "Pixel size (degrees)[1]     1\n"
     ]
    },
    {
     "name": "stderr",
     "output_type": "stream",
     "text": [
      "Working on file ./data/spacecraft.fits\n",
      ".....................!\n"
     ]
    }
   ],
   "source": [
    "%%bash\n",
    "gtltcube zmax=90\n",
    "    ./data/CenA_filtered_gti.fits\n",
    "    ./data/spacecraft.fits\n",
    "    ./data/CenA_ltcube.fits\n",
    "    0.025\n",
    "    1"
   ]
  },
  {
   "cell_type": "markdown",
   "metadata": {},
   "source": [
    "# Generate XML Model File\n",
    "\n",
    "We have developed a model file (`CenA_model.xml`) based on the 4FGL catalog that works for this ROI and the length of time of the observations. If you want to develop your own, you should look at the other threads where this is done.\n",
    "\n",
    "Also make sure you have the most recent galactic diffuse and isotropic model files which can be downloaded [from this page](https://fermi.gsfc.nasa.gov/ssc/data/access/lat/BackgroundModels.html). They should also be in your Fermitools installation in the `$(FERMI_DIR)/refdata/fermi/galdiffuse` directory."
   ]
  },
  {
   "cell_type": "markdown",
   "metadata": {},
   "source": [
    "Here is a code cell that fetches the needed files:"
   ]
  },
  {
   "cell_type": "code",
   "execution_count": 19,
   "metadata": {},
   "outputs": [
    {
     "name": "stdout",
     "output_type": "stream",
     "text": [
      "--2025-09-15 11:21:52--  https://fermi.gsfc.nasa.gov/ssc/data/analysis/scitools/extended/CenA_model.xml\n",
      "Resolving fermi.gsfc.nasa.gov (fermi.gsfc.nasa.gov)... 129.164.179.26\n",
      "Connecting to fermi.gsfc.nasa.gov (fermi.gsfc.nasa.gov)|129.164.179.26|:443... connected.\n",
      "HTTP request sent, awaiting response... 200 OK\n",
      "Length: 162278 (158K) [application/xml]\n",
      "Saving to: ‘CenA_model.xml’\n",
      "\n",
      "CenA_model.xml      100%[===================>] 158.47K   474KB/s    in 0.3s    \n",
      "\n",
      "2025-09-15 11:21:52 (474 KB/s) - ‘CenA_model.xml’ saved [162278/162278]\n",
      "\n"
     ]
    }
   ],
   "source": [
    "!wget https://fermi.gsfc.nasa.gov/ssc/data/analysis/scitools/extended/CenA_model.xml"
   ]
  },
  {
   "cell_type": "code",
   "execution_count": 20,
   "metadata": {},
   "outputs": [],
   "source": [
    "!mv *.xml ./data"
   ]
  },
  {
   "cell_type": "markdown",
   "metadata": {},
   "source": [
    "If you open `CenA_model.xml` up, you will see background sources, the galactic and extragalactic backgrounds, and the three sources of interest (`CenA`, `CenA_NorthLobe` and `CenA_SouthLobe`). Note that the Lobes reference the spatial models we created in the previous section (`CenA_wmap_k_nocenter_N.fits` and `CenA_wmap_k_nocenter_S.fits`).\n",
    "\n",
    "For these three sources we are fitting a powerlaw model (see the [Cicerone](https://fermi.gsfc.nasa.gov/ssc/data/analysis/documentation/Cicerone/) for descriptions of the different spectral and spatial models). The core of Cen A will be modeled by a point source (`<spatialModel type=\"SkyDirFunction\">`) and the two lobes will be modeled using the templates we created from the WMAP sky map (`<spatialModel file=\"some_map.fits\" type=\"SpatialMap\">`)."
   ]
  },
  {
   "cell_type": "markdown",
   "metadata": {},
   "source": [
    "# Compute the Binned Exposure and Source Maps\n",
    "\n",
    "Now, we need to compute a binned exposure map. Make sure you tell it `none` when asked for a Counts cube so that you can choose the dimensions of the exposure map.\n",
    ">**Note**: If you get a `File not found` error when using CALDB to select your IRF, you will need to specify the IRF name. In this case we want to use the `P8R3_SOURCE_V3` IRF."
   ]
  },
  {
   "cell_type": "code",
   "execution_count": 21,
   "metadata": {},
   "outputs": [
    {
     "name": "stdout",
     "output_type": "stream",
     "text": [
      "Livetime cube file[./data/3C279_front_ltcube.fits]     ./data/CenA_ltcube.fits\n",
      "Counts map file[none]     none\n",
      "Output file name[./data/3C279_back_BinnedExpMap.fits]     ./data/CenA_BinnedExpMap.fits\n",
      "Response functions to use[P8R3_SOURCE_V2]     P8R3_SOURCE_V3\n",
      "Size of the X axis in pixels[1800]     400\n",
      "Size of the Y axis in pixels[900]     400\n",
      "Image scale (in degrees/pixel)[0.2]     0.1\n",
      "First coordinate of image center in degrees (RA or galactic l)[193.98]     201.47\n",
      "Second coordinate of image center in degrees (DEC or galactic b)[-5.82]     -42.97\n",
      "Rotation angle of image axis, in degrees[0]     0\n",
      "Projection method e.g. AIT|ARC|CAR|GLS|MER|NCP|SIN|STG|TAN[AIT]     AIT\n",
      "Coordinate system (CEL - celestial, GAL -galactic) (CEL|GAL) [CEL]     CEL\n",
      "Start energy (MeV) of first bin[100]     300\n",
      "Stop energy (MeV) of last bin[500000]     300000\n",
      "Number of logarithmically-spaced energy bins[37]     30\n"
     ]
    },
    {
     "name": "stderr",
     "output_type": "stream",
     "text": [
      "Computing binned exposure map....................!\n"
     ]
    }
   ],
   "source": [
    "%%bash\n",
    "gtexpcube2\n",
    "    ./data/CenA_ltcube.fits\n",
    "    none\n",
    "    ./data/CenA_BinnedExpMap.fits\n",
    "    P8R3_SOURCE_V3\n",
    "    400\n",
    "    400\n",
    "    0.1\n",
    "    201.47\n",
    "    -42.97\n",
    "    0\n",
    "    AIT\n",
    "    CEL\n",
    "    300\n",
    "    300000\n",
    "    30"
   ]
  },
  {
   "cell_type": "markdown",
   "metadata": {},
   "source": [
    "Note that we've matched the energy dimensions of our binned exposure map to our counts cube but we've made it 40 degrees square instead of 14. This is so that **gtsrcmaps** can calculate the exposure on sources not in our ROI that still might contribute to emission within our ROI.\n",
    "\n",
    "To achieve this, **gtsrcmaps** finds the farthest point from the center of our ROI (i.e. one of the corners, a distance of 7$\\cdot$sqrt(2) degrees from the center) adds 10 degrees to this and then convolves the model counts map that it creates with the PSF.\n",
    "\n",
    "Since the PSF at low energies (100s of MeV) is on the order of 4 - 10 degrees in radius, we need to add an additional 10 degrees to account for the convolution. The total distance from the center in our case is thus 7$\\cdot$sqrt(2) + 10 + (4-10) or approximately 24 - 30 degrees. This means the smallest square region that can contain this circle is approximately 34 - 43 degrees on a side ((radius/sqrt(2))$\\cdot$2)).\n",
    "\n",
    "Don't worry about getting it exactly right; **gtscrmaps** will fail with an error about 'emapbnds' if you input an exposure cube that's too small, and you can go back and make it larger.\n",
    "\n",
    "Now run **gtsrcmaps** to generate a source map using the model file we just created."
   ]
  },
  {
   "cell_type": "markdown",
   "metadata": {},
   "source": [
    "**Note**: Make sure that, in the xml file (`CenA_model.xml`), you specify where your diffuse source files (`gll_iem_v07.fits` and `iso_P8R3_SOURCE_V3_v1.txt`) are. In most cases, this is `$FERMI_DIR/refdata/fermi/galdiffuse`."
   ]
  },
  {
   "cell_type": "code",
   "execution_count": 23,
   "metadata": {},
   "outputs": [
    {
     "name": "stdout",
     "output_type": "stream",
     "text": [
      "Exposure hypercube file[./data/CenA_ltcube.fits]     ./data/CenA_ltcube.fits\n",
      "Counts map file[./data/CenA_CCUBE.fits]     ./data/CenA_CCUBE.fits\n",
      "Source model file[./data/CenA_model.xml]     ./data/CenA_model.xml\n",
      "Binned exposure map[./data/CenA_BinnedExpMap.fits]     ./data/CenA_BinnedExpMap.fits\n",
      "Source maps output file[./data/CenA_srcMaps.fits]     ./data/CenA_srcMaps.fits\n",
      "Response functions[CALDB]     CALDB\n"
     ]
    },
    {
     "name": "stderr",
     "output_type": "stream",
     "text": [
      "Generating SourceMap for 4FGL J1147.0-3812 31....................!\n",
      "Generating SourceMap for 4FGL J1149.5-4029 31....................!\n",
      "Generating SourceMap for 4FGL J1150.6-4823 31....................!\n",
      "Generating SourceMap for 4FGL J1150.7-4613 31....................!\n",
      "Generating SourceMap for 4FGL J1155.5-3418 31....................!\n",
      "Generating SourceMap for 4FGL J1202.9-5717 31....................!\n",
      "Generating SourceMap for 4FGL J1203.4-3925 31....................!\n",
      "Generating SourceMap for 4FGL J1204.5-5032 31....................!\n",
      "Generating SourceMap for 4FGL J1207.4-4536 31....................!\n",
      "Generating SourceMap for 4FGL J1207.4-5050 31....................!\n",
      "Generating SourceMap for 4FGL J1208.5-5512 31....................!\n",
      "Generating SourceMap for 4FGL J1209.0-4630 31....................!\n",
      "Generating SourceMap for 4FGL J1211.0-3800 31....................!\n",
      "Generating SourceMap for 4FGL J1213.8-4345 31....................!\n",
      "Generating SourceMap for 4FGL J1213.9-4416 31....................!\n",
      "Generating SourceMap for 4FGL J1214.7-5858 31....................!\n",
      "Generating SourceMap for 4FGL J1215.8-3732 31....................!\n",
      "Generating SourceMap for 4FGL J1216.8-5955 31....................!\n",
      "Generating SourceMap for 4FGL J1219.0-4827 31....................!\n",
      "Generating SourceMap for 4FGL J1220.1-5558 31....................!\n",
      "Generating SourceMap for 4FGL J1220.2-3713 31....................!\n",
      "Generating SourceMap for 4FGL J1222.0-4121 31....................!\n",
      "Generating SourceMap for 4FGL J1223.6-3032 31....................!\n",
      "Generating SourceMap for 4FGL J1225.3-3446 31....................!\n",
      "Generating SourceMap for 4FGL J1225.5-2851 31....................!\n",
      "Generating SourceMap for 4FGL J1226.8-4907 31....................!\n",
      "Generating SourceMap for 4FGL J1227.1-4437 31....................!\n",
      "Generating SourceMap for 4FGL J1228.0-4853 31....................!\n",
      "Generating SourceMap for 4FGL J1229.5-3048 31....................!\n",
      "Generating SourceMap for 4FGL J1229.7-5304 31....................!\n",
      "Generating SourceMap for 4FGL J1231.6-5116 31....................!\n",
      "Generating SourceMap for 4FGL J1232.5-3720 31....................!\n",
      "Generating SourceMap for 4FGL J1234.0-5735 31....................!\n",
      "Generating SourceMap for 4FGL J1238.1-4541 31....................!\n",
      "Generating SourceMap for 4FGL J1239.7-3455 31....................!\n",
      "Generating SourceMap for 4FGL J1240.4-2606 31....................!\n",
      "Generating SourceMap for 4FGL J1244.2-4956 31....................!\n",
      "Generating SourceMap for 4FGL J1246.7-2548 31....................!\n",
      "Generating SourceMap for 4FGL J1249.2-2809 31....................!\n",
      "Generating SourceMap for 4FGL J1250.8-5424 31....................!\n",
      "Generating SourceMap for 4FGL J1250.9-4943 31....................!\n",
      "Generating SourceMap for 4FGL J1252.7-2520 31....................!\n",
      "Generating SourceMap for 4FGL J1253.3-5816 31....................!\n",
      "Generating SourceMap for 4FGL J1253.5-3934 31....................!\n",
      "Generating SourceMap for 4FGL J1254.7-4516 31....................!\n",
      "Generating SourceMap for 4FGL J1254.9-4426 31....................!\n",
      "Generating SourceMap for 4FGL J1256.1-5652 31....................!\n",
      "Generating SourceMap for 4FGL J1256.1-5919 31....................!\n",
      "Generating SourceMap for 4FGL J1258.5-3406 31....................!\n",
      "Generating SourceMap for 4FGL J1259.7-3223 31....................!\n",
      "Generating SourceMap for 4FGL J1259.8-3749 31....................!\n",
      "Generating SourceMap for 4FGL J1302.4-3258 31....................!\n",
      "Generating SourceMap for 4FGL J1303.1-4714 31....................!\n",
      "Generating SourceMap for 4FGL J1303.6-4622 31....................!\n",
      "Generating SourceMap for 4FGL J1304.0-5539 31....................!\n",
      "Generating SourceMap for 4FGL J1304.2-2412 31....................!\n",
      "Generating SourceMap for 4FGL J1304.3-4353 31....................!\n",
      "Generating SourceMap for 4FGL J1305.4-4928 31....................!\n",
      "Generating SourceMap for 4FGL J1305.5-6241 31....................!\n",
      "Generating SourceMap for 4FGL J1306.3-6043 31....................!\n",
      "Generating SourceMap for 4FGL J1306.8-4035 31....................!\n",
      "Generating SourceMap for 4FGL J1307.6-4259 31....................!\n",
      "Generating SourceMap for 4FGL J1308.9-5730 31....................!\n",
      "Generating SourceMap for 4FGL J1309.1-6223 31....................!\n",
      "Generating SourceMap for 4FGL J1310.6-3332 31....................!\n",
      "Generating SourceMap for 4FGL J1310.7-5553 31....................!\n",
      "Generating SourceMap for 4FGL J1311.7-3430 31....................!\n",
      "Generating SourceMap for 4FGL J1312.6-6231 31....................!\n",
      "Generating SourceMap for 4FGL J1312.8-2350 31....................!\n",
      "Generating SourceMap for 4FGL J1315.0-4236 31....................!\n",
      "Generating SourceMap for 4FGL J1315.1-5333 31....................!\n",
      "Generating SourceMap for 4FGL J1315.9-6243 31....................!\n",
      "Generating SourceMap for 4FGL J1316.1-3338 31....................!\n",
      "Generating SourceMap for 4FGL J1318.1-3937 31....................!\n",
      "Generating SourceMap for 4FGL J1318.9-4556 31....................!\n",
      "Generating SourceMap for 4FGL J1320.5-6256 31....................!\n",
      "Generating SourceMap for 4FGL J1321.3-2641 31....................!\n",
      "Generating SourceMap for 4FGL J1325.3-5413 31....................!\n",
      "Generating SourceMap for 4FGL J1326.6-4729 31....................!\n",
      "Generating SourceMap for 4FGL J1326.8-5256 31....................!\n",
      "Generating SourceMap for 4FGL J1328.4-6231 31....................!\n",
      "Generating SourceMap for 4FGL J1328.5-4727 31....................!\n",
      "Generating SourceMap for 4FGL J1329.0-5607 31....................!\n",
      "Generating SourceMap for 4FGL J1329.9-6108 31....................!\n",
      "Generating SourceMap for 4FGL J1334.1-3521 31....................!\n",
      "Generating SourceMap for 4FGL J1334.1-4154 31....................!\n",
      "Generating SourceMap for 4FGL J1334.6-4435 31....................!\n",
      "Generating SourceMap for 4FGL J1334.8-3856 31....................!\n",
      "Generating SourceMap for 4FGL J1335.0-5656 31....................!\n",
      "Generating SourceMap for 4FGL J1335.3-2949 31....................!\n",
      "Generating SourceMap for 4FGL J1335.5-4546 31....................!\n",
      "Generating SourceMap for 4FGL J1335.6-4052 31....................!\n",
      "Generating SourceMap for 4FGL J1336.5-4655 31....................!\n",
      "Generating SourceMap for 4FGL J1338.8-4509 31....................!\n",
      "Generating SourceMap for 4FGL J1339.0-2400 31....................!\n",
      "Generating SourceMap for 4FGL J1339.1-2620 31....................!\n",
      "Generating SourceMap for 4FGL J1341.7-6216 31....................!\n",
      "Generating SourceMap for 4FGL J1343.8-6208 31....................!\n",
      "Generating SourceMap for 4FGL J1344.4-3656 31....................!\n",
      "Generating SourceMap for 4FGL J1344.9-6228 31....................!\n",
      "Generating SourceMap for 4FGL J1345.6-3356 31....................!\n",
      "Generating SourceMap for 4FGL J1345.9-2612 31....................!\n",
      "Generating SourceMap for 4FGL J1346.3-6026 31....................!\n",
      "Generating SourceMap for 4FGL J1347.1-2959 31....................!\n",
      "Generating SourceMap for 4FGL J1347.6-3751 31....................!\n",
      "Generating SourceMap for 4FGL J1349.1-5829 31....................!\n",
      "Generating SourceMap for 4FGL J1350.6-6224 31....................!\n",
      "Generating SourceMap for 4FGL J1350.9-2757 31....................!\n",
      "Generating SourceMap for 4FGL J1351.6-6142 31....................!\n",
      "Generating SourceMap for 4FGL J1351.7-2912 31....................!\n",
      "Generating SourceMap for 4FGL J1352.7-2742 31....................!\n",
      "Generating SourceMap for 4FGL J1353.0-4413 31....................!\n",
      "Generating SourceMap for 4FGL J1353.7-3936 31....................!\n",
      "Generating SourceMap for 4FGL J1357.3-6123 31....................!\n",
      "Generating SourceMap for 4FGL J1358.2-6210 31....................!\n",
      "Generating SourceMap for 4FGL J1358.3-6026 31....................!\n",
      "Generating SourceMap for 4FGL J1359.8-3746 31....................!\n",
      "Generating SourceMap for 4FGL J1400.0-2415 31....................!\n",
      "Generating SourceMap for 4FGL J1400.2-4010 31....................!\n",
      "Generating SourceMap for 4FGL J1400.4-6050 31....................!\n",
      "Generating SourceMap for 4FGL J1400.6-5605 31....................!\n",
      "Generating SourceMap for 4FGL J1401.1-3717 31....................!\n",
      "Generating SourceMap for 4FGL J1401.2-6116 31....................!\n",
      "Generating SourceMap for 4FGL J1401.7-3217 31....................!\n",
      "Generating SourceMap for 4FGL J1402.6-3330 31....................!\n",
      "Generating SourceMap for 4FGL J1404.4-6159 31....................!\n",
      "Generating SourceMap for 4FGL J1404.8-5237 31....................!\n",
      "Generating SourceMap for 4FGL J1405.1-6119 31....................!\n",
      "Generating SourceMap for 4FGL J1405.3-6008 31....................!\n",
      "Generating SourceMap for 4FGL J1406.1-2508 31....................!\n",
      "Generating SourceMap for 4FGL J1406.6-3934 31....................!\n",
      "Generating SourceMap for 4FGL J1407.6-4301 31....................!\n",
      "Generating SourceMap for 4FGL J1407.7-3017 31....................!\n",
      "Generating SourceMap for 4FGL J1408.1-6010 31....................!\n",
      "Generating SourceMap for 4FGL J1408.6-2917 31....................!\n",
      "Generating SourceMap for 4FGL J1408.7-3747 31....................!\n",
      "Generating SourceMap for 4FGL J1408.9-5845 31....................!\n",
      "Generating SourceMap for 4FGL J1411.5-6133 31....................!\n",
      "Generating SourceMap for 4FGL J1415.2-5550 31....................!\n",
      "Generating SourceMap for 4FGL J1415.3-6110 31....................!\n",
      "Generating SourceMap for 4FGL J1416.7-5023 31....................!\n",
      "Generating SourceMap for 4FGL J1417.6-4403 31....................!\n",
      "Generating SourceMap for 4FGL J1417.7-6057 31....................!\n",
      "Generating SourceMap for 4FGL J1418.2-5400 31....................!\n",
      "Generating SourceMap for 4FGL J1418.7-3504 31....................!\n",
      "Generating SourceMap for 4FGL J1418.7-6057 31....................!\n",
      "Generating SourceMap for 4FGL J1418.7-6110 31....................!\n",
      "Generating SourceMap for 4FGL J1419.2-6029 31....................!\n",
      "Generating SourceMap for 4FGL J1419.6-5153 31....................!\n",
      "Generating SourceMap for 4FGL J1420.0-6048 31....................!\n",
      "Generating SourceMap for 4FGL J1421.1-4614 31....................!\n",
      "Generating SourceMap for 4FGL J1421.6-4819 31....................!\n",
      "Generating SourceMap for 4FGL J1422.3-6059 31....................!\n",
      "Generating SourceMap for 4FGL J1427.6-3305 31....................!\n",
      "Generating SourceMap for 4FGL J1427.7-3215 31....................!\n",
      "Generating SourceMap for 4FGL J1427.9-4206 31....................!\n",
      "Generating SourceMap for 4FGL J1429.8-3058 31....................!\n",
      "Generating SourceMap for 4FGL J1429.9-5911 31....................!\n",
      "Generating SourceMap for 4FGL J1431.0-4432 31....................!\n",
      "Generating SourceMap for 4FGL J1431.1-3120 31....................!\n",
      "Generating SourceMap for 4FGL J1431.4-4711 31....................!\n",
      "Generating SourceMap for 4FGL J1433.5-5457 31....................!\n",
      "Generating SourceMap for 4FGL J1438.0-3128 31....................!\n",
      "Generating SourceMap for 4FGL J1438.5-4207 31....................!\n",
      "Generating SourceMap for 4FGL J1439.2-5142 31....................!\n",
      "Generating SourceMap for 4FGL J1439.9-3953 31....................!\n",
      "Generating SourceMap for 4FGL J1440.6-3846 31....................!\n",
      "Generating SourceMap for 4FGL J1442.1-3707 31....................!\n",
      "Generating SourceMap for 4FGL J1442.6-4623 31....................!\n",
      "Generating SourceMap for 4FGL J1443.9-3908 31....................!\n",
      "Generating SourceMap for 4FGL J1446.6-4701 31....................!\n",
      "Generating SourceMap for 4FGL J1447.4-5757 31....................!\n",
      "Generating SourceMap for 4FGL J1451.6-3726 31....................!\n",
      "Generating SourceMap for 4FGL J1452.0-4148 31....................!\n",
      "Generating SourceMap for 4FGL J1454.3-3946 31....................!\n",
      "Generating SourceMap for 4FGL J1454.3-5551 31....................!\n",
      "Generating SourceMap for 4FGL J1454.4-3744 31....................!\n",
      "Generating SourceMap for 4FGL J1455.4-3654 31....................!\n",
      "Generating SourceMap for 4FGL J1455.9-3332 31....................!\n",
      "Generating SourceMap for 4FGL J1456.3-5419 31....................!\n",
      "Generating SourceMap for 4FGL J1457.3-4246 31....................!\n",
      "Generating SourceMap for 4FGL J1457.4-3539 31....................!\n",
      "Generating SourceMap for 4FGL J1457.8-4642 31....................!\n",
      "Generating SourceMap for 4FGL J1459.0-5353 31....................!\n",
      "Generating SourceMap for 4FGL J1501.6-5236 31....................!\n",
      "Generating SourceMap for 4FGL J1503.6-4146 31....................!\n",
      "Generating SourceMap for 4FGL J1505.1-5145 31....................!\n",
      "Generating SourceMap for 4FGL J1508.5-4951 31....................!\n",
      "Generating SourceMap for 4FGL J1508.9-4110 31....................!\n",
      "Generating SourceMap for 4FGL J1509.6-4334 31....................!\n",
      "Generating SourceMap for 4FGL J1514.3-4946 31....................!\n",
      "Generating SourceMap for 4FGL J1514.8-4748 31....................!\n",
      "Generating SourceMap for Cen A 31....................!\n",
      "Generating SourceMap for CenA_NorthLobe 31....................!\n",
      "Generating SourceMap for CenA_SouthLobe 31....................!\n",
      "Generating SourceMap for FGES J1409.1-6121 31....................!\n",
      "Generating SourceMap for G296.5+10.0 31....................!\n",
      "Generating SourceMap for HESS J1420-607 31....................!\n",
      "Generating SourceMap for gll_iem_v07 31....................!\n",
      "Generating SourceMap for iso_P8R3_SOURCE_V3_v1 31....................!\n"
     ]
    }
   ],
   "source": [
    "%%bash\n",
    "gtsrcmaps\n",
    "    ./data/CenA_ltcube.fits\n",
    "    ./data/CenA_CCUBE.fits\n",
    "    ./data/CenA_model.xml\n",
    "    ./data/CenA_BinnedExpMap.fits\n",
    "    ./data/CenA_srcMaps.fits\n",
    "    CALDB"
   ]
  },
  {
   "cell_type": "markdown",
   "metadata": {},
   "source": [
    "# Run the Likelihood Analysis\n",
    "\n",
    "It's time to actually run the likelihood analysis now.\n",
    "\n",
    "First, you need to import the pyLikelihood module and then the BinnedAnalysis functions.\n",
    "\n",
    "As discussed in the likelihood thread, it's best to do a two-pass fit here: the first with the MINUIT optimizer and a looser tolerance, and then finally with the NewMinuit optimizer and a tighter tolerance. This allows us to zero in on the best fit parameters.\n",
    "\n",
    "For more details on the pyLikelihood module, check out the [pyLikelihood Usage Notes](https://fermi.gsfc.nasa.gov/ssc/data/analysis/scitools/python_usage_notes.html)."
   ]
  },
  {
   "cell_type": "code",
   "execution_count": 24,
   "metadata": {},
   "outputs": [],
   "source": [
    "import pyLikelihood\n",
    "\n",
    "from BinnedAnalysis import*\n",
    "obs = BinnedObs(srcMaps='./data/CenA_srcMaps.fits',expCube='./data/CenA_ltcube.fits',binnedExpMap='./data/CenA_BinnedExpMap.fits',irfs='P8R3_SOURCE_V3')\n",
    "like1 = BinnedAnalysis(obs,'./data/CenA_model.xml',optimizer='MINUIT')"
   ]
  },
  {
   "cell_type": "markdown",
   "metadata": {},
   "source": [
    "Set the tolerance to something large to start out with, do the first fit and save the results to a file.\n",
    "\n",
    "Here, we get the minimization object (like1obj) from the logLike object so that we can access it later. We pass this object to the fit routine so that it knows which fitting object to use."
   ]
  },
  {
   "cell_type": "code",
   "execution_count": 25,
   "metadata": {},
   "outputs": [],
   "source": [
    "like1.tol = 0.1\n",
    "like1obj = pyLike.Minuit(like1.logLike)\n",
    "like1.fit(verbosity=0,covar=True,optObject=like1obj)\n",
    "like1.logLike.writeXml('./data/CenA_fit1.xml')"
   ]
  },
  {
   "cell_type": "markdown",
   "metadata": {},
   "source": [
    "Let's check how the convergence of this first fit went."
   ]
  },
  {
   "cell_type": "code",
   "execution_count": 26,
   "metadata": {},
   "outputs": [
    {
     "data": {
      "text/plain": [
       "3"
      ]
     },
     "execution_count": 26,
     "metadata": {},
     "output_type": "execute_result"
    }
   ],
   "source": [
    "like1obj.getQuality()"
   ]
  },
  {
   "cell_type": "markdown",
   "metadata": {},
   "source": [
    "This output corresponds to the `MINUIT` fit quality.\n",
    "\n",
    "A \"good\" fit corresponds to a value of `fit quality = 3`; if you get a lower value, it is likely that there is a problem with the error matrix. According to the Minuit documentation possible values for \"fit quality\" are:\n",
    "\n",
    "* 0 - Error matrix not calculated at all\n",
    "* 1 - Diagonal approximation only, not accurate\n",
    "* 2 - Full matrix, but forced positive-definite (i.e. not accurate)\n",
    "* 3 - Full accurate covariance matrix (After MIGRAD, this is the indication of normal convergence.)"
   ]
  },
  {
   "cell_type": "markdown",
   "metadata": {},
   "source": [
    "Now, create a new BinnedAnalysis object using the same BinnedObs object from before and the results of the previous fit and tell it to use the NewMinuit optimizer. We also double check that the tolerance is what we want (1e-8) and then we fit the model and save the results."
   ]
  },
  {
   "cell_type": "code",
   "execution_count": 27,
   "metadata": {},
   "outputs": [
    {
     "data": {
      "text/plain": [
       "80025.65565894674"
      ]
     },
     "execution_count": 27,
     "metadata": {},
     "output_type": "execute_result"
    }
   ],
   "source": [
    "like2 = BinnedAnalysis(obs,'./data/CenA_fit1.xml',optimizer='NewMinuit')\n",
    "like2.tol = 1e-8\n",
    "like2obj = pyLike.NewMinuit(like2.logLike)\n",
    "like2.fit(verbosity=0,covar=True,optObject=like2obj)"
   ]
  },
  {
   "cell_type": "markdown",
   "metadata": {},
   "source": [
    "We can check to see if NewMinuit converged like this:"
   ]
  },
  {
   "cell_type": "code",
   "execution_count": 28,
   "metadata": {},
   "outputs": [
    {
     "name": "stdout",
     "output_type": "stream",
     "text": [
      "0\n"
     ]
    }
   ],
   "source": [
    "print(like2obj.getRetCode())"
   ]
  },
  {
   "cell_type": "markdown",
   "metadata": {},
   "source": [
    "Great, it converged this time, so let's save the fitted model. The return codes for NewMinuit are different than those for Minuit (it's a bit mask).\n",
    "\n",
    "The only thing you really need to know is that if this number is anything but `0`, the fit didn't converge and you have to keep trying."
   ]
  },
  {
   "cell_type": "code",
   "execution_count": 29,
   "metadata": {},
   "outputs": [],
   "source": [
    "like2.logLike.writeXml('./data/CenA_fit2.xml')"
   ]
  },
  {
   "cell_type": "markdown",
   "metadata": {},
   "source": [
    "Now that we've done the full fit we can verify that we've gotten values close to what's in the publication. First check the results for the core:"
   ]
  },
  {
   "cell_type": "code",
   "execution_count": 30,
   "metadata": {},
   "outputs": [
    {
     "data": {
      "text/plain": [
       "2.249417294934077e-08"
      ]
     },
     "execution_count": 30,
     "metadata": {},
     "output_type": "execute_result"
    }
   ],
   "source": [
    "like2.Ts('Cen A')\n",
    "like2.model['Cen A']\n",
    "like2.flux('Cen A',emin=100,emax=100000)\n",
    "like2.fluxError('Cen A',emin=100,emax=100000)"
   ]
  },
  {
   "cell_type": "code",
   "execution_count": 31,
   "metadata": {
    "scrolled": true
   },
   "outputs": [
    {
     "name": "stdout",
     "output_type": "stream",
     "text": [
      "Help on BinnedAnalysis in module BinnedAnalysis object:\n",
      "\n",
      "class BinnedAnalysis(AnalysisBase.AnalysisBase)\n",
      " |  BinnedAnalysis(binnedData, srcModel=None, optimizer='Drmngb', use_bl2=False, verbosity=0, psfcorr=True, wmap=None, config=None, delete_local_fixed=False)\n",
      " |  \n",
      " |  Method resolution order:\n",
      " |      BinnedAnalysis\n",
      " |      AnalysisBase.AnalysisBase\n",
      " |      builtins.object\n",
      " |  \n",
      " |  Methods defined here:\n",
      " |  \n",
      " |  __init__(self, binnedData, srcModel=None, optimizer='Drmngb', use_bl2=False, verbosity=0, psfcorr=True, wmap=None, config=None, delete_local_fixed=False)\n",
      " |      Initialize self.  See help(type(self)) for accurate signature.\n",
      " |  \n",
      " |  __setitem__(self, name, value)\n",
      " |  \n",
      " |  addSource(self, src, binnedConfig=None)\n",
      " |      Add a source to the active model.  You should pass a source\n",
      " |      object to this function.  Example:\n",
      " |      \n",
      " |      > test_src = pyLike.PointSource(0, 0, like.observation.observation)\n",
      " |      > pl = pyLike.SourceFactory_funcFactory().create(\"PowerLaw\")\n",
      " |      > pl.setParamValues((1, -2, 100))\n",
      " |      > indexPar = pl.getParam(\"Index\")\n",
      " |      > indexPar.setBounds(-3.5, -1)\n",
      " |      > pl.setParam(indexPar)\n",
      " |      > prefactor = pl.getParam(\"Prefactor\")\n",
      " |      > prefactor.setBounds(1e-10, 1e3)\n",
      " |      > prefactor.setScale(1e-9)\n",
      " |      > pl.setParam(prefactor)\n",
      " |      > test_src.setSpectrum(pl)\n",
      " |      > test_src.setName(\"testSource\")\n",
      " |      > test_src.setDir(193.45,-5.83,True,False)\n",
      " |      > like.addSource(test_src)\n",
      " |      \n",
      " |      You could also use the delete source function to return a\n",
      " |      fully formed source object and modify the parameters of that.\n",
      " |  \n",
      " |  plot(self, oplot=0, color=None, omit=(), symbol='line', weighted=False)\n",
      " |  \n",
      " |  plotFixed(self, color='black', symbol='line', show=True, display=None)\n",
      " |  \n",
      " |  plotSourceFit(self, srcName, color='black')\n",
      " |  \n",
      " |  selectEbounds(self, kmin, kmax)\n",
      " |  \n",
      " |  setEnergyRange(self, emin, emax)\n",
      " |  \n",
      " |  state(self, output=<ipykernel.iostream.OutStream object at 0x111a60430>)\n",
      " |  \n",
      " |  writeModelMap(self, outfile, outtype='CCUBE')\n",
      " |  \n",
      " |  ----------------------------------------------------------------------\n",
      " |  Methods inherited from AnalysisBase.AnalysisBase:\n",
      " |  \n",
      " |  NpredValue(self, src, weighted=False)\n",
      " |      Returns the number of predicted counts for a source.\n",
      " |  \n",
      " |  Ts(self, srcName, reoptimize=False, approx=True, tol=None, MaxIterations=10, verbosity=0)\n",
      " |      Computes the TS value for a source indicated by \"srcName.\"\n",
      " |      If \"reoptimize=True\" is selected this function will reoptimize\n",
      " |      the model up to \"MaxIterations\" given the tolerance \"tol\"\n",
      " |      (default is the tolerance selected for the overall fit).  If\n",
      " |      \"appox=True\" is selected (the default) it will renormalize the\n",
      " |      model (see _renorm).\n",
      " |  \n",
      " |  Ts_old(self, srcName, reoptimize=False, approx=True, tol=None)\n",
      " |      NOTE: this is the old method. Computes the TS value for a\n",
      " |      source indicated by \"srcName.\"  If \"reoptimize=True\" is\n",
      " |      selected this function will reoptimize the model given the\n",
      " |      tolerance \"tol\" (default is the tolerance selected for the\n",
      " |      overall fit).  If \"appox=True\" is selected (the default) it\n",
      " |      will renormalize the model (see _renorm).\n",
      " |  \n",
      " |  __call__(self)\n",
      " |      Call self as a function.\n",
      " |  \n",
      " |  __getitem__(self, name)\n",
      " |  \n",
      " |  __repr__(self)\n",
      " |      Return repr(self).\n",
      " |  \n",
      " |  addGaussianPrior(self, srcName, parName, mean, sigma)\n",
      " |  \n",
      " |  addPrior(self, srcName, parName, funcname, **kwds)\n",
      " |  \n",
      " |  addPriors(self, prior_dict)\n",
      " |  \n",
      " |  constrain_norms(self, srcNames, cov_scale=1.0)\n",
      " |  \n",
      " |  constrain_params(self, srcNames, cov_scale=1.0)\n",
      " |  \n",
      " |  deleteSource(self, srcName)\n",
      " |      Removes a source with name \"srcName\" from the model.  It\n",
      " |      returns this source object so you can save it and use it\n",
      " |      later.\n",
      " |  \n",
      " |  energyFlux(self, srcName, emin=100, emax=300000.0)\n",
      " |      Returns the differential flux for a source with name\n",
      " |      \"srcName\" bewtween emin and emax (in MeV).\n",
      " |  \n",
      " |  energyFluxError(self, srcName, emin=100, emax=300000.0, npts=1000)\n",
      " |      Returns the error on the differential flux for a source\n",
      " |      with name \"srcName\" between emin and emax (in MeV).  \"npts\" is\n",
      " |      the number of energy points to use in the error calculation.\n",
      " |  \n",
      " |  fit(self, verbosity=3, tol=None, optimizer=None, covar=False, optObject=None, numericDerivs=False)\n",
      " |      Perform the likelihood fit.  If \"tol\" is set to \"None\" it\n",
      " |      reverts to the global tolerance.  If \"optimizer\" is set to\n",
      " |      \"None\" it reverts to the global optimizer.  You can\n",
      " |      selectively calculate the covariance matrix by setting\n",
      " |      \"covar=True\".  You can also provide an optimization object via\n",
      " |      \"optObject = myOpt\" if you would like access to the optimizer\n",
      " |      results like the return codes after the fit (see pyLike for\n",
      " |      more details).  This function returns -Log(like).\n",
      " |  \n",
      " |  flux(self, srcName, emin=100, emax=300000.0, energyFlux=False)\n",
      " |      Returns the flux for a source with name \"srcName\" from emin\n",
      " |      (in MeV) to emax (in MeV).  If \"energyFlux=False\" it returns\n",
      " |      the integral flux; if True it will return the differential\n",
      " |      flux.\n",
      " |  \n",
      " |  fluxError(self, srcName, emin=100, emax=300000.0, energyFlux=False, npts=1000)\n",
      " |      Returns the error on the flux for a source with name\n",
      " |      \"srcName\" from emin (in MeV) to emax (in MeV).  If\n",
      " |      \"energyFlux=False\" it returns the integral flux; if True it\n",
      " |      will return the differential flux.\n",
      " |  \n",
      " |  freePars(self, srcName)\n",
      " |      Returns a tuple that contains all of the free parameters\n",
      " |      for a specific source indicated by \"srcName\".\n",
      " |  \n",
      " |  freeze(self, i)\n",
      " |      Freezes a parameter with the given parameter index.  Use\n",
      " |      the par_index function to determine the index number of a\n",
      " |      specific parameter of a specific source.\n",
      " |  \n",
      " |  getExtraSourceAttributes(self)\n",
      " |      Returns all of the extra attributes of all of the sources\n",
      " |      in the model.  These are any attributes that are not \"funcs\"\n",
      " |      or \"src\" which includes things like \"name\" and \"type\".\n",
      " |  \n",
      " |  getPriorLogDeriv(self, srcName, parName)\n",
      " |  \n",
      " |  getPriorLogValue(self, srcName, parName)\n",
      " |  \n",
      " |  getPriors(self)\n",
      " |  \n",
      " |  mergeSources(self, compName, sourceNames, specFuncName)\n",
      " |      Merge a set of sources into a single composite source\n",
      " |  \n",
      " |  minosError(self, *args)\n",
      " |      Evaluate the minos errors for a Minuit or NewMinuit fit.\n",
      " |      There are several ways to call this function:\n",
      " |      \n",
      " |         minosError(index): pass the parameter index only\n",
      " |         minosError(index,level): pass the parameter index and the\n",
      " |                                  level\n",
      " |         minosError(srcName,parName): pass the source name and\n",
      " |                                      the parameter name\n",
      " |      \n",
      " |      The \"level\" parameter is used to dynamically set a new error\n",
      " |      definition.  The default is suitable for a -log(like) analysis\n",
      " |      (1, sets the minuit level to 0.5, see\n",
      " |      Minuit2::FCNBase::ErrorDef).  Setting this to 2 would be\n",
      " |      suitable for a chi^2 analysis.\n",
      " |  \n",
      " |  nFreeParams(self)\n",
      " |      Count the number of free parameters in the active model.\n",
      " |  \n",
      " |  normPar(self, srcName)\n",
      " |      Returns the normalization paramter of a souce specified by\n",
      " |      \"srcName\" (for example, it will return the \"Prefactor\"\n",
      " |      parameter of a source described by a PowerLaw).\n",
      " |  \n",
      " |  oplot(self, color=None)\n",
      " |  \n",
      " |  optimize(self, verbosity=3, tol=None, optimizer=None, optObject=None)\n",
      " |      Optimize the current model.  You can increase the verbosity\n",
      " |      of the optimizer using the verbosity option (default is 3).\n",
      " |      If \"tol\" is none, it will use the global tolerance.  If\n",
      " |      \"optimizer\" is none it will use the global optimizer.  If\n",
      " |      \"optObject\" is none it will create one.  It will not replace\n",
      " |      the global optObject (self.optObject) with this one if it\n",
      " |      exists but if it is none, it will replace it with the new one.\n",
      " |      This function is different from the \"fit\" routine in that it\n",
      " |      does not calculate the covarience matrix.\n",
      " |  \n",
      " |  par_index(self, srcName, parName)\n",
      " |      Returns the parameter index number in the model of the\n",
      " |      parameter identified by \"parName\" for a specific source\n",
      " |      identified by \"srcName\".\n",
      " |  \n",
      " |  params(self)\n",
      " |      Returns a list of all of the parameters in the active\n",
      " |      model.\n",
      " |  \n",
      " |  plotSource(self, srcName, color='black', symbol='line')\n",
      " |  \n",
      " |  readPriorsYaml(self, filename)\n",
      " |  \n",
      " |  removePrior(self, srcName, parName)\n",
      " |  \n",
      " |  removePriors(self)\n",
      " |  \n",
      " |  restoreBestFit(self)\n",
      " |      Restores the previously saved fit values saved via the\n",
      " |      \"saveCurrentFit\" function.\n",
      " |  \n",
      " |  saveCurrentFit(self)\n",
      " |      Saves the active fit parameter values if this fit happens\n",
      " |      to have a better log likelihood value than the one currently\n",
      " |      saved.  If it does, it replaces the saved fit with the active\n",
      " |      one.\n",
      " |  \n",
      " |  scan(self, srcName, parName, xmin=0, xmax=10, npts=50, tol=None, optimizer=None, optObject=None, fix_src_pars=False, verbosity=0, renorm=False)\n",
      " |      This function scans the values of a specific parameter\n",
      " |      specified by \"parName\" of a specific source specified by\n",
      " |      \"srcName\" in the range [xmin:xmax] with a resolution of npts.\n",
      " |      It then optimizes the active model.  This function returns two\n",
      " |      arrays: the first is an array of the x values evaluated and\n",
      " |      the second is an array of the change in likelihood value from\n",
      " |      the original model at those x values.  You can also pass True\n",
      " |      to \"fix_src_pars\" to fix all of the parameters of the source\n",
      " |      of interest.  The other options are similar to the fit and\n",
      " |      optimize functions.\n",
      " |  \n",
      " |  setFitTolType(self, tolType)\n",
      " |      Set the tolerance type of the fit.  Valid values of\n",
      " |      \"tolType\" are \"0\" for RELATIVE and \"1\" for ABSOLUTE.\n",
      " |  \n",
      " |  setFreeFlag(self, srcName, pars, value)\n",
      " |      Sets the free flag to free (value = 1) or frozen (value =\n",
      " |      0) for the list of parameters indicated by pars for a specific\n",
      " |      source indicated by srcName.\n",
      " |  \n",
      " |  setGaussianPriorParams(self, srcName, parName, mean, sigma)\n",
      " |  \n",
      " |  setPlotter(self, plotter='hippo')\n",
      " |  \n",
      " |  setPriorParams(self, srcName, parName, **kwds)\n",
      " |  \n",
      " |  setSpectrum(self, srcName, functionName)\n",
      " |      Set the spectral shape of a source identified by \"srcName\".\n",
      " |      The \"functionName\" is a string that must be one of the\n",
      " |      avaialble spectral functions (i.e. PowerLaw, PowerLaw2 etc.).\n",
      " |      You can also pass a spectrum object (see the addSource\n",
      " |      docString for more details).  The spectral parameters of this\n",
      " |      new model will be set to defaults which are probably not what\n",
      " |      you want them to be.\n",
      " |  \n",
      " |  sourceNames(self)\n",
      " |      Returns a tuple that contains all of the source names in the model\n",
      " |  \n",
      " |  splitCompositeSource(self, compName)\n",
      " |      break apart a composite source and return a tuple with \n",
      " |      the names of new sources and the spectral function\n",
      " |  \n",
      " |  syncSrcParams(self, src=None)\n",
      " |      Synchronizes the parameters of a source (identified by\n",
      " |      \"src\") with the active model.  This is useful if you add or\n",
      " |      delete a source from the model and want to reevaluate the log\n",
      " |      likelihood values.\n",
      " |  \n",
      " |  thaw(self, i)\n",
      " |      Thaws a parameter with the given parameter index.  Use the\n",
      " |      par_index function to determine the index number of a specific\n",
      " |      parameter of a specific source.\n",
      " |  \n",
      " |  total_nobs(self, weighted=False)\n",
      " |      Returns the total number of observed counts in the RoI.\n",
      " |  \n",
      " |  writeCountsSpectra(self, outfile='counts_spectra.fits', nee=21)\n",
      " |      Writes a FITS file with the name \"outfile\" that contains\n",
      " |      the counts spectra of all of the sources in the active model.\n",
      " |      This is the same file that is written out by the balistic\n",
      " |      gtlike program.\n",
      " |  \n",
      " |  writePriorsYaml(self, filename)\n",
      " |  \n",
      " |  writeXml(self, xmlFile=None)\n",
      " |      Write out an xml representation of the active model with\n",
      " |      the filename xmlFile.  If xmlFile is None (the default) it\n",
      " |      will overwrite the global xml file (i.e. the original file).\n",
      " |  \n",
      " |  ----------------------------------------------------------------------\n",
      " |  Data descriptors inherited from AnalysisBase.AnalysisBase:\n",
      " |  \n",
      " |  __dict__\n",
      " |      dictionary for instance variables\n",
      " |  \n",
      " |  __weakref__\n",
      " |      list of weak references to the object\n",
      "\n"
     ]
    }
   ],
   "source": [
    "help(like2)"
   ]
  },
  {
   "cell_type": "markdown",
   "metadata": {},
   "source": [
    "So, the core is detected with high significance (TS = 325) and the fit resulted in a spectral index of $2.64 ± 0.1$. The integral flux above 100 MeV is $(1.3 ± 0.2) \\cdot 10^{-7}$. This matches well (within statistical errors) the index and flux reported in the article (index = 2.67 ± 0.10, flux = 1.50 +0.25/-0.22)."
   ]
  },
  {
   "cell_type": "code",
   "execution_count": 32,
   "metadata": {},
   "outputs": [
    {
     "data": {
      "text/plain": [
       "3.37132153611994e-08"
      ]
     },
     "execution_count": 32,
     "metadata": {},
     "output_type": "execute_result"
    }
   ],
   "source": [
    "like2.Ts('CenA_NorthLobe')\n",
    "like2.model['CenA_NorthLobe']\n",
    "like2.flux('CenA_NorthLobe',emin=100,emax=100000)\n",
    "like2.fluxError('CenA_NorthLobe',emin=100,emax=100000)\n",
    "like2.Ts('CenA_SouthLobe')\n",
    "like2.model['CenA_SouthLobe']\n",
    "like2.flux('CenA_SouthLobe',emin=100,emax=100000)\n",
    "like2.fluxError('CenA_SouthLobe',emin=100,emax=100000)"
   ]
  },
  {
   "cell_type": "markdown",
   "metadata": {},
   "source": [
    "The north lobe is marginally detected with a low TS value while the south lobe is detected at a higher TS.\n",
    "\n",
    "\n",
    "The main reasons for any discrepancy with the original paper is that we are using newly reconstructed data, different IRFs, different background models, a slightly different template than was used by the LAT team, and a different model file based on the 4FGL catalog.\n",
    "\n",
    "The fact that our results are still close indicates that the method is robust. If you get results that are outside of the errors of the thread, double check that you've followed the thread accurately."
   ]
  },
  {
   "cell_type": "markdown",
   "metadata": {},
   "source": [
    "# Create some Residual Maps\n",
    "\n",
    "It's easiest to visualize our results by generating some model maps based on the model we just created and then use these models to create residuals maps based on the actual counts map. We're going to create four different model maps:\n",
    "\n",
    "* `CenA_ModelMap_All.fits`: A map of the full model (nothing commented out)\n",
    "* `CenA_ModelMap_AllBkgrnd.fits`: A map of all of the background sources (comment out the Cen A sources)\n",
    "* `CenA_ModelMap_CenA.fits`: A map of just the Cen A sources (comment out everything but the Cen A sources)\n",
    "* `CenA_ModelMap_Diff.fits`: A map of just the diffuse background sources (comment out everything but the isotropic and galactic sources)"
   ]
  },
  {
   "cell_type": "markdown",
   "metadata": {},
   "source": [
    "To do this, we'll need to edit the output xml model file (`CenA_fit2.xml`) each time and then run **gtmodel**."
   ]
  },
  {
   "cell_type": "code",
   "execution_count": 37,
   "metadata": {},
   "outputs": [
    {
     "name": "stdout",
     "output_type": "stream",
     "text": [
      "--2025-09-15 11:43:47--  https://fermi.gsfc.nasa.gov/ssc/data/analysis/scitools/extended/CenA_fit2.xml\n",
      "Resolving fermi.gsfc.nasa.gov (fermi.gsfc.nasa.gov)... 129.164.179.26\n",
      "Connecting to fermi.gsfc.nasa.gov (fermi.gsfc.nasa.gov)|129.164.179.26|:443... connected.\n",
      "HTTP request sent, awaiting response... 200 OK\n",
      "Length: 133774 (131K) [application/xml]\n",
      "Saving to: ‘CenA_fit2.xml’\n",
      "\n",
      "CenA_fit2.xml       100%[===================>] 130.64K   753KB/s    in 0.2s    \n",
      "\n",
      "2025-09-15 11:43:47 (753 KB/s) - ‘CenA_fit2.xml’ saved [133774/133774]\n",
      "\n"
     ]
    }
   ],
   "source": [
    "!wget https://fermi.gsfc.nasa.gov/ssc/data/analysis/scitools/extended/CenA_fit2.xml\n",
    "!mv *.xml ./data"
   ]
  },
  {
   "cell_type": "markdown",
   "metadata": {},
   "source": [
    "Again, **make sure that the xml points to the correct location for the diffuse source files**.\n",
    "\n",
    "Other than properly specifying the location of the diffuse sources, you don't need to edit the XML for the first one:"
   ]
  },
  {
   "cell_type": "code",
   "execution_count": 46,
   "metadata": {},
   "outputs": [
    {
     "name": "stdout",
     "output_type": "stream",
     "text": [
      "Source maps (or counts map) file[./data/CenA_srcMaps.fits]     ./data/CenA_srcMaps.fits\n",
      "Source model file[./data/CenA_fit2.xml]     ./data/CenA_fit2.xml\n",
      "Output file[./data/CenA_ModelMap_All.fits]     ./data/CenA_ModelMap_All.fits\n",
      "Response functions[CALDB]     CALDB\n",
      "Exposure cube[./data/CenA_ltcube.fits]     ./data/CenA_ltcube.fits\n",
      "Binned exposure map[./data/CenA_BinnedExpMap.fits]     ./data/CenA_BinnedExpMap.fits\n"
     ]
    }
   ],
   "source": [
    "%%bash\n",
    "gtmodel\n",
    "    ./data/CenA_srcMaps.fits\n",
    "    ./data/CenA_fit2.xml\n",
    "    ./data/CenA_ModelMap_All.fits\n",
    "    CALDB\n",
    "    ./data/CenA_ltcube.fits\n",
    "    ./data/CenA_BinnedExpMap.fits"
   ]
  },
  {
   "cell_type": "markdown",
   "metadata": {},
   "source": [
    "For the next file, comment out the Cen A sources in the xml file (you comment out text in xml using `<!--` and `-->` before and after the text you want to comment out) and run **gtmodel** again."
   ]
  },
  {
   "cell_type": "markdown",
   "metadata": {},
   "source": [
    "```xml\n",
    "<!-- <source name=\"Cen A\" type=\"PointSource\">\n",
    "    <spectrum type=\"PowerLaw\">\n",
    "      <parameter error=\"0.1143998413\" free=\"1\" max=\"10000\" min=\"0.0001\" name=\"Prefactor\" scale=\"1e-11\" value=\"1.354990763\" />\n",
    "      <parameter error=\"0.09903003339\" free=\"1\" max=\"10\" min=\"0\" name=\"Index\" scale=\"-1\" value=\"2.636336026\" />\n",
    "\n",
    ".\n",
    ".\n",
    ".\n",
    ".\n",
    ".\n",
    "\n",
    "    <spatialModel file=\"CenA_wmap_k_nocenter_S.fits\" map_based_integral=\"true\" type=\"SpatialMap\">\n",
    "      <parameter free=\"0\" max=\"1000\" min=\"0.001\" name=\"Prefactor\" scale=\"1\" value=\"1\" />\n",
    "    </spatialModel>\n",
    "  </source> -->\n",
    "```"
   ]
  },
  {
   "cell_type": "markdown",
   "metadata": {},
   "source": [
    "This generates a model map without the CenA sources, leaving the background intact."
   ]
  },
  {
   "cell_type": "code",
   "execution_count": 47,
   "metadata": {},
   "outputs": [
    {
     "name": "stdout",
     "output_type": "stream",
     "text": [
      "Source maps (or counts map) file[./data/CenA_srcMaps.fits]     ./data/CenA_srcMaps.fits\n",
      "Source model file[./data/CenA_fit2.xml]     ./data/CenA_fit2.xml\n",
      "Output file[./data/CenA_ModelMap_All.fits]     ./data/CenA_ModelMap_All.fits\n",
      "Response functions[CALDB]     CALDB\n",
      "Exposure cube[./data/CenA_ltcube.fits]     ./data/CenA_ltcube.fits\n",
      "Binned exposure map[./data/CenA_BinnedExpMap.fits]     ./data/CenA_BinnedExpMap.fits\n"
     ]
    }
   ],
   "source": [
    "%%bash\n",
    "gtmodel\n",
    "    ./data/CenA_srcMaps.fits\n",
    "    ./data/CenA_fit2.xml\n",
    "    ./data/CenA_ModelMap_All.fits\n",
    "    CALDB\n",
    "    ./data/CenA_ltcube.fits\n",
    "    ./data/CenA_BinnedExpMap.fits"
   ]
  },
  {
   "cell_type": "markdown",
   "metadata": {},
   "source": [
    "Continue to comment out select parts of the model xml file according to the list above and run **gtmodel** afterwards to get the next two files."
   ]
  },
  {
   "cell_type": "markdown",
   "metadata": {},
   "source": [
    "`CenA_ModelMap_CenA.fits`: Comment out everything *but* the CenA sources in `CenA_fit2.xml`."
   ]
  },
  {
   "cell_type": "code",
   "execution_count": 48,
   "metadata": {},
   "outputs": [
    {
     "name": "stdout",
     "output_type": "stream",
     "text": [
      "Source maps (or counts map) file[./data/CenA_srcMaps.fits]     ./data/CenA_srcMaps.fits\n",
      "Source model file[./data/CenA_fit2.xml]     ./data/CenA_fit2.xml\n",
      "Output file[./data/CenA_ModelMap_All.fits]     ./data/CenA_ModelMap_All.fits\n",
      "Response functions[CALDB]     CALDB\n",
      "Exposure cube[./data/CenA_ltcube.fits]     ./data/CenA_ltcube.fits\n",
      "Binned exposure map[./data/CenA_BinnedExpMap.fits]     ./data/CenA_BinnedExpMap.fits\n"
     ]
    }
   ],
   "source": [
    "%%bash\n",
    "gtmodel\n",
    "    ./data/CenA_srcMaps.fits\n",
    "    ./data/CenA_fit2.xml\n",
    "    ./data/CenA_ModelMap_All.fits\n",
    "    CALDB\n",
    "    ./data/CenA_ltcube.fits\n",
    "    ./data/CenA_BinnedExpMap.fits"
   ]
  },
  {
   "cell_type": "markdown",
   "metadata": {},
   "source": [
    "`CenA_ModelMap_Diff.fits`: Comment out everything *but* the isotropic and galactic sources."
   ]
  },
  {
   "cell_type": "code",
   "execution_count": 49,
   "metadata": {},
   "outputs": [
    {
     "name": "stdout",
     "output_type": "stream",
     "text": [
      "Source maps (or counts map) file[./data/CenA_srcMaps.fits]     ./data/CenA_srcMaps.fits\n",
      "Source model file[./data/CenA_fit2.xml]     ./data/CenA_fit2.xml\n",
      "Output file[./data/CenA_ModelMap_All.fits]     ./data/CenA_ModelMap_All.fits\n",
      "Response functions[CALDB]     CALDB\n",
      "Exposure cube[./data/CenA_ltcube.fits]     ./data/CenA_ltcube.fits\n",
      "Binned exposure map[./data/CenA_BinnedExpMap.fits]     ./data/CenA_BinnedExpMap.fits\n"
     ]
    }
   ],
   "source": [
    "%%bash\n",
    "gtmodel\n",
    "    ./data/CenA_srcMaps.fits\n",
    "    ./data/CenA_fit2.xml\n",
    "    ./data/CenA_ModelMap_All.fits\n",
    "    CALDB\n",
    "    ./data/CenA_ltcube.fits\n",
    "    ./data/CenA_BinnedExpMap.fits"
   ]
  },
  {
   "cell_type": "markdown",
   "metadata": {},
   "source": [
    "You should end up with the four images below:"
   ]
  },
  {
   "cell_type": "code",
   "execution_count": 50,
   "metadata": {},
   "outputs": [
    {
     "data": {
      "text/html": [
       "<table><tr><td><img src='https://fermi.gsfc.nasa.gov/ssc/data/analysis/scitools/extended/CenA_ModelMap_All.png'></td><td><img src='https://fermi.gsfc.nasa.gov/ssc/data/analysis/scitools/extended/CenA_ModelMap_AllBkgrnd.png'></td></tr></table>"
      ],
      "text/plain": [
       "<IPython.core.display.HTML object>"
      ]
     },
     "metadata": {},
     "output_type": "display_data"
    },
    {
     "data": {
      "text/html": [
       "<table><tr><td><img src='https://fermi.gsfc.nasa.gov/ssc/data/analysis/scitools/extended/CenA_ModelMap_CenA.png'></td><td><img src='https://fermi.gsfc.nasa.gov/ssc/data/analysis/scitools/extended/CenA_ModelMap_Diffuse.png'></td></tr></table>"
      ],
      "text/plain": [
       "<IPython.core.display.HTML object>"
      ]
     },
     "metadata": {},
     "output_type": "display_data"
    }
   ],
   "source": [
    "from IPython.display import HTML\n",
    "display(HTML(\"<table><tr><td><img src='https://fermi.gsfc.nasa.gov/ssc/data/analysis/scitools/extended/CenA_ModelMap_All.png'></td><td><img src='https://fermi.gsfc.nasa.gov/ssc/data/analysis/scitools/extended/CenA_ModelMap_AllBkgrnd.png'></td></tr></table>\"))\n",
    "display(HTML(\"<table><tr><td><img src='https://fermi.gsfc.nasa.gov/ssc/data/analysis/scitools/extended/CenA_ModelMap_CenA.png'></td><td><img src='https://fermi.gsfc.nasa.gov/ssc/data/analysis/scitools/extended/CenA_ModelMap_Diffuse.png'></td></tr></table>\"))"
   ]
  },
  {
   "cell_type": "markdown",
   "metadata": {},
   "source": [
    "Now, we'll use the ftool **farith** to subtract these model maps from our data to create residual maps."
   ]
  },
  {
   "cell_type": "code",
   "execution_count": 51,
   "metadata": {},
   "outputs": [
    {
     "data": {
      "text/html": [
       "<table><tr><td><img src='https://fermi.gsfc.nasa.gov/ssc/data/analysis/scitools/extended/CenA_CMAP_Resid.png'><center>CenA_CMAP_Resid.png: Counts map minus all of the sources in the model showing that there's not really anything left after we subtract everything out.</center></td><td><img src='https://fermi.gsfc.nasa.gov/ssc/data/analysis/scitools/extended/CenA_CMAP_CenA.png'><center>CenA_CMAP_CenA.png: Everything subtracted except the Cen A core and lobes. You can really see the extent of the radio galaxy in this map.</center</td></tr></table>"
      ],
      "text/plain": [
       "<IPython.core.display.HTML object>"
      ]
     },
     "metadata": {},
     "output_type": "display_data"
    },
    {
     "data": {
      "text/html": [
       "<table><tr><td><img src='https://fermi.gsfc.nasa.gov/ssc/data/analysis/scitools/extended/CenA_CMAP_Bkgrnd.png'><center>CenA_CMAP_Bkgrnd.png: This shows a counts map with the Cen A core and lobes removed. The galactic and extragalactic emission dominates here but you can see a few individual point sources.</center></td><td><img src='https://fermi.gsfc.nasa.gov/ssc/data/analysis/scitools/extended/CenA_CMAP_Sources.png'><center>CenA_CMAP_Sources.png: This shows the region with the galactic and extragalactic emission removed so you can see the point sources along with the Cen A sources.</center></td></tr></table>"
      ],
      "text/plain": [
       "<IPython.core.display.HTML object>"
      ]
     },
     "metadata": {},
     "output_type": "display_data"
    }
   ],
   "source": [
    "display(HTML(\"<table><tr><td><img src='https://fermi.gsfc.nasa.gov/ssc/data/analysis/scitools/extended/CenA_CMAP_Resid.png'><center>CenA_CMAP_Resid.png: Counts map minus all of the sources in the model showing that there's not really anything left after we subtract everything out.</center></td><td><img src='https://fermi.gsfc.nasa.gov/ssc/data/analysis/scitools/extended/CenA_CMAP_CenA.png'><center>CenA_CMAP_CenA.png: Everything subtracted except the Cen A core and lobes. You can really see the extent of the radio galaxy in this map.</center</td></tr></table>\"))\n",
    "display(HTML(\"<table><tr><td><img src='https://fermi.gsfc.nasa.gov/ssc/data/analysis/scitools/extended/CenA_CMAP_Bkgrnd.png'><center>CenA_CMAP_Bkgrnd.png: This shows a counts map with the Cen A core and lobes removed. The galactic and extragalactic emission dominates here but you can see a few individual point sources.</center></td><td><img src='https://fermi.gsfc.nasa.gov/ssc/data/analysis/scitools/extended/CenA_CMAP_Sources.png'><center>CenA_CMAP_Sources.png: This shows the region with the galactic and extragalactic emission removed so you can see the point sources along with the Cen A sources.</center></td></tr></table>\"))"
   ]
  },
  {
   "cell_type": "markdown",
   "metadata": {},
   "source": [
    "# Finished!\n",
    "\n",
    "So, it looks like we've generally reproduced the results from the Cen A paper.\n",
    "\n",
    "You can go on from here and produce a proper spectrum using the model you have produced here (see the python likelihood thread) and you can plot a profile if you like (try using pyfits and matplotlib, both included in the Fermitools).\n",
    "\n",
    "You can also create any type of template you wish now to analyze extended diffuse sources using arbitrary shapes (create them in python and use pyfits to save them). Just make sure you follow the prescription outlined above."
   ]
  }
 ],
 "metadata": {
  "kernelspec": {
   "display_name": "Python 3 (ipykernel)",
   "language": "python",
   "name": "python3"
  },
  "language_info": {
   "codemirror_mode": {
    "name": "ipython",
    "version": 3
   },
   "file_extension": ".py",
   "mimetype": "text/x-python",
   "name": "python",
   "nbconvert_exporter": "python",
   "pygments_lexer": "ipython3",
   "version": "3.11.12"
  }
 },
 "nbformat": 4,
 "nbformat_minor": 4
}
