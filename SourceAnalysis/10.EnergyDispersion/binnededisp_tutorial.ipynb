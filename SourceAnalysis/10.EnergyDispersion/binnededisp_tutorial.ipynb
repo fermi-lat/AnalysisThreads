{
 "cells": [
  {
   "cell_type": "markdown",
   "metadata": {},
   "source": [
    "# Binned Likelihood with Energy Dispersion (Python)\n",
    "\n",
    "The following tutorial shows a way of performing binned likelihood with energy dispersion. Technical details can be found [here](https://fermi.gsfc.nasa.gov/ssc/data/analysis/documentation/Pass8_edisp_usage.html). This tutorial assumes that you've gone through the standard [binned likelihood](https://github.com/fermi-lat/AnalysisThreads/blob/master/SourceAnalysis/1.BinnedLikelihood/binned_likelihood_tutorial.ipynb) analysis thread. You can also watch a [video tutorial](https://fermi.gsfc.nasa.gov/ssc/data/analysis/video_tutorials/#binned)."
   ]
  },
  {
   "cell_type": "markdown",
   "metadata": {},
   "source": [
    "# Get the data\n",
    "\n",
    " For this thread we use the same data extracted from the [LAT Data Server](https://fermi.gsfc.nasa.gov/cgi-bin/ssc/LAT/LATDataQuery.cgi) for the [binned likelihood thread](https://github.com/fermi-lat/AnalysisThreads/blob/master/SourceAnalysis/1.BinnedLikelihood/binned_likelihood_tutorial.ipynb) with the following selections:\n",
    "\n",
    "    Search Center (RA,Dec) = (193.98,-5.82)\n",
    "    Radius = 15 degrees\n",
    "    Start Time (MET) = 239557417 seconds (2008-08-04T15:43:37)\n",
    "    Stop Time (MET) = 302572802 seconds (2010-08-04T00:00:00)\n",
    "    Minimum Energy = 100 MeV\n",
    "    Maximum Energy = 500000 MeV\n",
    "\n",
    "We've provided direct links to the event files as well as the spacecraft data file if you don't want to take the time to use the download server. \n",
    "\n",
    " * L181126210218F4F0ED2738_PH00.fits (5.4 MB)\n",
    " * L181126210218F4F0ED2738_PH01.fits (10.8 MB)\n",
    " * L181126210218F4F0ED2738_PH02.fits (6.9 MB)\n",
    " * L181126210218F4F0ED2738_PH03.fits (9.8 MB)\n",
    " * L181126210218F4F0ED2738_PH04.fits (7.8 MB)\n",
    " * L181126210218F4F0ED2738_PH05.fits (6.6 MB)\n",
    " * L181126210218F4F0ED2738_PH06.fits (4.8 MB)\n",
    " * L181126210218F4F0ED2738_SC00.fits (256 MB spacecraft file)\n"
   ]
  },
  {
   "cell_type": "code",
   "execution_count": 1,
   "metadata": {},
   "outputs": [
    {
     "name": "stdout",
     "output_type": "stream",
     "text": [
      "--2025-09-16 14:41:35--  https://fermi.gsfc.nasa.gov/ssc/data/analysis/scitools/data/BinnedLikelihood/L181126210218F4F0ED2738_PH00.fits\n",
      "Resolving fermi.gsfc.nasa.gov (fermi.gsfc.nasa.gov)... 129.164.179.26\n",
      "Connecting to fermi.gsfc.nasa.gov (fermi.gsfc.nasa.gov)|129.164.179.26|:443... connected.\n",
      "HTTP request sent, awaiting response... 200 OK\n",
      "Length: 5189760 (4.9M) [application/fits]\n",
      "Saving to: ‘L181126210218F4F0ED2738_PH00.fits’\n",
      "\n",
      "L181126210218F4F0ED 100%[===================>]   4.95M  1.40MB/s    in 4.5s    \n",
      "\n",
      "2025-09-16 14:41:39 (1.11 MB/s) - ‘L181126210218F4F0ED2738_PH00.fits’ saved [5189760/5189760]\n",
      "\n",
      "--2025-09-16 14:41:40--  https://fermi.gsfc.nasa.gov/ssc/data/analysis/scitools/data/BinnedLikelihood/L181126210218F4F0ED2738_PH01.fits\n",
      "Resolving fermi.gsfc.nasa.gov (fermi.gsfc.nasa.gov)... 129.164.179.26\n",
      "Connecting to fermi.gsfc.nasa.gov (fermi.gsfc.nasa.gov)|129.164.179.26|:443... connected.\n",
      "HTTP request sent, awaiting response... 200 OK\n",
      "Length: 10995840 (10M) [application/fits]\n",
      "Saving to: ‘L181126210218F4F0ED2738_PH01.fits’\n",
      "\n",
      "L181126210218F4F0ED 100%[===================>]  10.49M  2.12MB/s    in 5.1s    \n",
      "\n",
      "2025-09-16 14:41:45 (2.06 MB/s) - ‘L181126210218F4F0ED2738_PH01.fits’ saved [10995840/10995840]\n",
      "\n",
      "--2025-09-16 14:41:45--  https://fermi.gsfc.nasa.gov/ssc/data/analysis/scitools/data/BinnedLikelihood/L181126210218F4F0ED2738_PH02.fits\n",
      "Resolving fermi.gsfc.nasa.gov (fermi.gsfc.nasa.gov)... 129.164.179.26\n",
      "Connecting to fermi.gsfc.nasa.gov (fermi.gsfc.nasa.gov)|129.164.179.26|:443... connected.\n",
      "HTTP request sent, awaiting response... 200 OK\n",
      "Length: 6799680 (6.5M) [application/fits]\n",
      "Saving to: ‘L181126210218F4F0ED2738_PH02.fits’\n",
      "\n",
      "L181126210218F4F0ED 100%[===================>]   6.48M  2.05MB/s    in 3.2s    \n",
      "\n",
      "2025-09-16 14:41:49 (2.05 MB/s) - ‘L181126210218F4F0ED2738_PH02.fits’ saved [6799680/6799680]\n",
      "\n",
      "--2025-09-16 14:41:49--  https://fermi.gsfc.nasa.gov/ssc/data/analysis/scitools/data/BinnedLikelihood/L181126210218F4F0ED2738_PH03.fits\n",
      "Resolving fermi.gsfc.nasa.gov (fermi.gsfc.nasa.gov)... 129.164.179.26\n",
      "Connecting to fermi.gsfc.nasa.gov (fermi.gsfc.nasa.gov)|129.164.179.26|:443... connected.\n",
      "HTTP request sent, awaiting response... 200 OK\n",
      "Length: 9676800 (9.2M) [application/fits]\n",
      "Saving to: ‘L181126210218F4F0ED2738_PH03.fits’\n",
      "\n",
      "L181126210218F4F0ED 100%[===================>]   9.23M  2.10MB/s    in 4.4s    \n",
      "\n",
      "2025-09-16 14:41:53 (2.10 MB/s) - ‘L181126210218F4F0ED2738_PH03.fits’ saved [9676800/9676800]\n",
      "\n",
      "--2025-09-16 14:41:54--  https://fermi.gsfc.nasa.gov/ssc/data/analysis/scitools/data/BinnedLikelihood/L181126210218F4F0ED2738_PH04.fits\n",
      "Resolving fermi.gsfc.nasa.gov (fermi.gsfc.nasa.gov)... 129.164.179.26\n",
      "Connecting to fermi.gsfc.nasa.gov (fermi.gsfc.nasa.gov)|129.164.179.26|:443... connected.\n",
      "HTTP request sent, awaiting response... 200 OK\n",
      "Length: 7793280 (7.4M) [application/fits]\n",
      "Saving to: ‘L181126210218F4F0ED2738_PH04.fits’\n",
      "\n",
      "L181126210218F4F0ED 100%[===================>]   7.43M  2.08MB/s    in 3.8s    \n",
      "\n",
      "2025-09-16 14:41:58 (1.98 MB/s) - ‘L181126210218F4F0ED2738_PH04.fits’ saved [7793280/7793280]\n",
      "\n",
      "--2025-09-16 14:41:58--  https://fermi.gsfc.nasa.gov/ssc/data/analysis/scitools/data/BinnedLikelihood/L181126210218F4F0ED2738_PH05.fits\n",
      "Resolving fermi.gsfc.nasa.gov (fermi.gsfc.nasa.gov)... 129.164.179.26\n",
      "Connecting to fermi.gsfc.nasa.gov (fermi.gsfc.nasa.gov)|129.164.179.26|:443... connected.\n",
      "HTTP request sent, awaiting response... 200 OK\n",
      "Length: 6497280 (6.2M) [application/fits]\n",
      "Saving to: ‘L181126210218F4F0ED2738_PH05.fits’\n",
      "\n",
      "L181126210218F4F0ED 100%[===================>]   6.20M  2.05MB/s    in 3.0s    \n",
      "\n",
      "2025-09-16 14:42:01 (2.05 MB/s) - ‘L181126210218F4F0ED2738_PH05.fits’ saved [6497280/6497280]\n",
      "\n",
      "--2025-09-16 14:42:01--  https://fermi.gsfc.nasa.gov/ssc/data/analysis/scitools/data/BinnedLikelihood/L181126210218F4F0ED2738_PH06.fits\n",
      "Resolving fermi.gsfc.nasa.gov (fermi.gsfc.nasa.gov)... 129.164.179.26\n",
      "Connecting to fermi.gsfc.nasa.gov (fermi.gsfc.nasa.gov)|129.164.179.26|:443... connected.\n",
      "HTTP request sent, awaiting response... 200 OK\n",
      "Length: 4746240 (4.5M) [application/fits]\n",
      "Saving to: ‘L181126210218F4F0ED2738_PH06.fits’\n",
      "\n",
      "L181126210218F4F0ED 100%[===================>]   4.53M  1.81MB/s    in 2.5s    \n",
      "\n",
      "2025-09-16 14:42:04 (1.81 MB/s) - ‘L181126210218F4F0ED2738_PH06.fits’ saved [4746240/4746240]\n",
      "\n",
      "--2025-09-16 14:42:04--  https://fermi.gsfc.nasa.gov/ssc/data/analysis/scitools/data/BinnedLikelihood/L181126210218F4F0ED2738_SC00.fits\n",
      "Resolving fermi.gsfc.nasa.gov (fermi.gsfc.nasa.gov)... 129.164.179.26\n",
      "Connecting to fermi.gsfc.nasa.gov (fermi.gsfc.nasa.gov)|129.164.179.26|:443... connected.\n",
      "HTTP request sent, awaiting response... 200 OK\n",
      "Length: 268153920 (256M) [application/fits]\n",
      "Saving to: ‘L181126210218F4F0ED2738_SC00.fits’\n",
      "\n",
      "L181126210218F4F0ED 100%[===================>] 255.73M  2.14MB/s    in 2m 0s   \n",
      "\n",
      "2025-09-16 14:44:05 (2.12 MB/s) - ‘L181126210218F4F0ED2738_SC00.fits’ saved [268153920/268153920]\n",
      "\n"
     ]
    }
   ],
   "source": [
    "!wget https://fermi.gsfc.nasa.gov/ssc/data/analysis/scitools/data/BinnedLikelihood/L181126210218F4F0ED2738_PH00.fits\n",
    "!wget https://fermi.gsfc.nasa.gov/ssc/data/analysis/scitools/data/BinnedLikelihood/L181126210218F4F0ED2738_PH01.fits\n",
    "!wget https://fermi.gsfc.nasa.gov/ssc/data/analysis/scitools/data/BinnedLikelihood/L181126210218F4F0ED2738_PH02.fits\n",
    "!wget https://fermi.gsfc.nasa.gov/ssc/data/analysis/scitools/data/BinnedLikelihood/L181126210218F4F0ED2738_PH03.fits\n",
    "!wget https://fermi.gsfc.nasa.gov/ssc/data/analysis/scitools/data/BinnedLikelihood/L181126210218F4F0ED2738_PH04.fits\n",
    "!wget https://fermi.gsfc.nasa.gov/ssc/data/analysis/scitools/data/BinnedLikelihood/L181126210218F4F0ED2738_PH05.fits\n",
    "!wget https://fermi.gsfc.nasa.gov/ssc/data/analysis/scitools/data/BinnedLikelihood/L181126210218F4F0ED2738_PH06.fits\n",
    "!wget https://fermi.gsfc.nasa.gov/ssc/data/analysis/scitools/data/BinnedLikelihood/L181126210218F4F0ED2738_SC00.fits"
   ]
  },
  {
   "cell_type": "code",
   "execution_count": 2,
   "metadata": {},
   "outputs": [],
   "source": [
    "!mkdir data\n",
    "!mv *.fits ./data"
   ]
  },
  {
   "cell_type": "markdown",
   "metadata": {},
   "source": [
    "You'll first need to make a file list with the names of your input event files."
   ]
  },
  {
   "cell_type": "code",
   "execution_count": 3,
   "metadata": {},
   "outputs": [
    {
     "name": "stdout",
     "output_type": "stream",
     "text": [
      "./data/L181126210218F4F0ED2738_PH00.fits\n",
      "./data/L181126210218F4F0ED2738_PH01.fits\n",
      "./data/L181126210218F4F0ED2738_PH02.fits\n",
      "./data/L181126210218F4F0ED2738_PH03.fits\n",
      "./data/L181126210218F4F0ED2738_PH04.fits\n",
      "./data/L181126210218F4F0ED2738_PH05.fits\n",
      "./data/L181126210218F4F0ED2738_PH06.fits\n"
     ]
    }
   ],
   "source": [
    "!ls ./data/*PH*.fits > ./data/binned_events.txt\n",
    "!cat ./data/binned_events.txt"
   ]
  },
  {
   "cell_type": "markdown",
   "metadata": {},
   "source": [
    " In the following analysis we've assumed that you've named your list of data files binned_events.txt. "
   ]
  },
  {
   "cell_type": "markdown",
   "metadata": {},
   "source": [
    "# Perform Event Selections\n",
    "\n",
    "You could follow the unbinned likelihood tutorial to perform your event selections using **gtlike*, **gtmktime**, etc. directly from the command line, and then use pylikelihood later.\n",
    "\n",
    "But we're going to go ahead and use python. The `gt_apps` module provides methods to call these tools from within python. This'll get us used to using python.\n",
    "\n",
    " We first import the gt_apps module to gain access to the tools. "
   ]
  },
  {
   "cell_type": "code",
   "execution_count": 4,
   "metadata": {},
   "outputs": [],
   "source": [
    "import gt_apps as my_apps"
   ]
  },
  {
   "cell_type": "markdown",
   "metadata": {},
   "source": [
    "Now, you can see what objects are part of the gt_apps module by executing:"
   ]
  },
  {
   "cell_type": "markdown",
   "metadata": {},
   "source": [
    " Start by running gtselect (called 'filter' in python)."
   ]
  },
  {
   "cell_type": "code",
   "execution_count": 5,
   "metadata": {},
   "outputs": [],
   "source": [
    "my_apps.filter['evclass'] = 128\n",
    "my_apps.filter['evtype'] = 3\n",
    "my_apps.filter['ra'] = 193.98\n",
    "my_apps.filter['dec'] = -5.82\n",
    "my_apps.filter['rad'] = 15\n",
    "my_apps.filter['emin'] = 100\n",
    "my_apps.filter['emax'] = 300000\n",
    "my_apps.filter['zmax'] = 90\n",
    "my_apps.filter['tmin'] = 239557417\n",
    "my_apps.filter['tmax'] = 302572802\n",
    "my_apps.filter['infile'] = '@./data/binned_events.txt'\n",
    "my_apps.filter['outfile'] = './data/3C279_filtered.fits'"
   ]
  },
  {
   "cell_type": "markdown",
   "metadata": {},
   "source": [
    "Once this is done, we can run gtselect:"
   ]
  },
  {
   "cell_type": "code",
   "execution_count": 6,
   "metadata": {},
   "outputs": [
    {
     "name": "stdout",
     "output_type": "stream",
     "text": [
      "time -p gtselect infile=@./data/binned_events.txt outfile=./data/3C279_filtered.fits ra=193.98 dec=-5.82 rad=15.0 tmin=239557417.0 tmax=302572802.0 emin=100.0 emax=300000.0 zmin=0.0 zmax=90.0 evclass=128 evtype=3 convtype=-1 phasemin=0.0 phasemax=1.0 evtable=\"EVENTS\" chatter=2 clobber=yes debug=no gui=no mode=\"ql\"\n",
      "Done.\n",
      "real 3.84\n",
      "user 3.29\n",
      "sys 0.22\n"
     ]
    }
   ],
   "source": [
    "my_apps.filter.run()"
   ]
  },
  {
   "cell_type": "markdown",
   "metadata": {},
   "source": [
    " Now, we need to find the GTIs. This is accessed within python via the maketime object: "
   ]
  },
  {
   "cell_type": "code",
   "execution_count": 7,
   "metadata": {},
   "outputs": [],
   "source": [
    "my_apps.maketime['scfile'] = './data/L181126210218F4F0ED2738_SC00.fits'\n",
    "my_apps.maketime['filter'] = '(DATA_QUAL>0)&&(LAT_CONFIG==1)'\n",
    "my_apps.maketime['roicut'] = 'no'\n",
    "my_apps.maketime['evfile'] = './data/3C279_filtered.fits'\n",
    "my_apps.maketime['outfile'] = './data/3C279_filtered_gti.fits'"
   ]
  },
  {
   "cell_type": "code",
   "execution_count": 8,
   "metadata": {},
   "outputs": [
    {
     "name": "stdout",
     "output_type": "stream",
     "text": [
      "time -p gtmktime scfile=./data/L181126210218F4F0ED2738_SC00.fits sctable=\"SC_DATA\" filter=\"(DATA_QUAL>0)&&(LAT_CONFIG==1)\" roicut=no evfile=./data/3C279_filtered.fits evtable=\"EVENTS\" outfile=\"./data/3C279_filtered_gti.fits\" apply_filter=yes overwrite=no header_obstimes=yes tstart=0.0 tstop=0.0 gtifile=\"default\" chatter=2 clobber=yes debug=no gui=no mode=\"ql\"\n",
      "real 13.20\n",
      "user 12.35\n",
      "sys 0.47\n"
     ]
    }
   ],
   "source": [
    "my_apps.maketime.run()"
   ]
  },
  {
   "cell_type": "markdown",
   "metadata": {},
   "source": [
    "# Livetime and Counts Cubes"
   ]
  },
  {
   "cell_type": "markdown",
   "metadata": {},
   "source": [
    "## Livetime Cube"
   ]
  },
  {
   "cell_type": "markdown",
   "metadata": {},
   "source": [
    " We can now compute the livetime cube. "
   ]
  },
  {
   "cell_type": "code",
   "execution_count": 9,
   "metadata": {},
   "outputs": [],
   "source": [
    "my_apps.expCube['evfile'] = './data/3C279_filtered_gti.fits'\n",
    "my_apps.expCube['scfile'] = './data/L181126210218F4F0ED2738_SC00.fits'\n",
    "my_apps.expCube['outfile'] = './data/3C279_ltcube.fits'\n",
    "my_apps.expCube['zmax'] = 90\n",
    "my_apps.expCube['dcostheta'] = 0.025\n",
    "my_apps.expCube['binsz'] = 1"
   ]
  },
  {
   "cell_type": "code",
   "execution_count": 10,
   "metadata": {},
   "outputs": [
    {
     "name": "stdout",
     "output_type": "stream",
     "text": [
      "time -p gtltcube evfile=\"./data/3C279_filtered_gti.fits\" evtable=\"EVENTS\" scfile=./data/L181126210218F4F0ED2738_SC00.fits sctable=\"SC_DATA\" outfile=./data/3C279_ltcube.fits dcostheta=0.025 binsz=1.0 phibins=0 tmin=0.0 tmax=0.0 file_version=\"1\" zmin=0.0 zmax=90.0 chatter=2 clobber=yes debug=no gui=no mode=\"ql\"\n",
      "Working on file ./data/L181126210218F4F0ED2738_SC00.fits\n",
      ".....................!\n",
      "real 1246.03\n",
      "user 1204.52\n",
      "sys 7.62\n"
     ]
    }
   ],
   "source": [
    "my_apps.expCube.run()"
   ]
  },
  {
   "cell_type": "markdown",
   "metadata": {},
   "source": [
    "## Counts Cube\n",
    "\n",
    "The counts cube is the counts from our data file binned in space and energy. All of the steps above use a circular ROI (or a cone, really). Once you switch to binned analysis, you start doing things in squares. Your counts cube can only be as big as the biggest square that can fit in the circular ROI you already selected. "
   ]
  },
  {
   "cell_type": "code",
   "execution_count": 11,
   "metadata": {},
   "outputs": [
    {
     "name": "stdout",
     "output_type": "stream",
     "text": [
      "time -p gtbin evfile=./data/3C279_filtered_gti.fits scfile=NONE outfile=./data/3C279_ccube.fits algorithm=\"CCUBE\" ebinalg=\"LOG\" emin=100.0 emax=500000.0 enumbins=37 denergy=0.0 ebinfile=__energyBins.fits tbinalg=\"LIN\" tstart=239557517.0 tstop=255335817.0 dtime=86400.0 tbinfile=NONE snratio=0.0 lcemin=0.0 lcemax=0.0 nxpix=100 nypix=100 binsz=0.2 coordsys=\"CEL\" xref=193.98 yref=-5.82 axisrot=0.0 rafield=\"RA\" decfield=\"DEC\" proj=\"AIT\" hpx_ordering_scheme=\"RING\" hpx_order=3 hpx_ebin=yes hpx_region=\"\" evtable=\"EVENTS\" sctable=\"SC_DATA\" efield=\"ENERGY\" tfield=\"TIME\" chatter=2 clobber=yes debug=no gui=no mode=\"ql\"\n",
      "This is gtbin version HEAD\n",
      "gtbin: WARNING: No spacecraft file: EXPOSURE keyword will be set equal to ontime.\n",
      "real 0.54\n",
      "user 0.37\n",
      "sys 0.05\n"
     ]
    }
   ],
   "source": [
    "my_apps.evtbin['evfile'] = './data/3C279_filtered_gti.fits'\n",
    "my_apps.evtbin['outfile'] = './data/3C279_ccube.fits'\n",
    "my_apps.evtbin['scfile'] = 'NONE'\n",
    "my_apps.evtbin['algorithm'] = 'CCUBE'\n",
    "my_apps.evtbin['nxpix'] = 100\n",
    "my_apps.evtbin['nypix'] = 100\n",
    "my_apps.evtbin['binsz'] = 0.2\n",
    "my_apps.evtbin['coordsys'] = 'CEL'\n",
    "my_apps.evtbin['xref'] = 193.98\n",
    "my_apps.evtbin['yref'] = -5.82\n",
    "my_apps.evtbin['axisrot'] = 0\n",
    "my_apps.evtbin['proj'] = 'AIT'\n",
    "my_apps.evtbin['ebinalg'] = 'LOG'\n",
    "my_apps.evtbin['emin'] = 100\n",
    "my_apps.evtbin['emax'] = 500000\n",
    "my_apps.evtbin['enumbins'] = 37\n",
    "my_apps.evtbin.run()"
   ]
  },
  {
   "cell_type": "markdown",
   "metadata": {},
   "source": [
    "# Exposure Maps\n",
    "The binned exposure map is an exposure map binned in space and energy. We first need to import the python version of 'gtexpcube2' which doesn't have a gtapp version by default. This is easy to do (you can import any of the command line tools into python this way). Then, you can check out the parameters with the pars function. Here we generate exposure maps for the entire sky. \n"
   ]
  },
  {
   "cell_type": "code",
   "execution_count": 12,
   "metadata": {},
   "outputs": [],
   "source": [
    "from GtApp import GtApp\n",
    "expCube2= GtApp('gtexpcube2','Likelihood')"
   ]
  },
  {
   "cell_type": "code",
   "execution_count": 13,
   "metadata": {},
   "outputs": [],
   "source": [
    "expCube2['infile'] = './data/3C279_ltcube.fits'\n",
    "expCube2['cmap'] = 'none'\n",
    "expCube2['outfile'] = './data/3C279_BinnedExpMap.fits'\n",
    "expCube2['irfs'] = 'P8R3_SOURCE_V3'\n",
    "expCube2['evtype'] = '3'\n",
    "expCube2['nxpix'] = 1800\n",
    "expCube2['nypix'] = 900\n",
    "expCube2['binsz'] = 0.2\n",
    "expCube2['coordsys'] = 'CEL'\n",
    "expCube2['xref'] = 193.98\n",
    "expCube2['yref'] = -5.82\n",
    "expCube2['axisrot'] = 0\n",
    "expCube2['proj'] = 'AIT'\n",
    "expCube2['ebinalg'] = 'LOG'\n",
    "expCube2['emin'] = 100\n",
    "expCube2['emax'] = 500000\n",
    "expCube2['enumbins'] = 37"
   ]
  },
  {
   "cell_type": "code",
   "execution_count": 14,
   "metadata": {},
   "outputs": [
    {
     "name": "stdout",
     "output_type": "stream",
     "text": [
      "time -p gtexpcube2 infile=./data/3C279_ltcube.fits cmap=none outfile=./data/3C279_BinnedExpMap.fits irfs=\"P8R3_SOURCE_V3\" evtype=3 edisp_bins=0 nxpix=1800 nypix=900 binsz=0.2 coordsys=\"CEL\" xref=193.98 yref=-5.82 axisrot=0.0 proj=\"AIT\" ebinalg=\"LOG\" emin=100.0 emax=500000.0 enumbins=37 ebinfile=\"NONE\" hpx_ordering_scheme=\"RING\" hpx_order=6 bincalc=\"EDGE\" ignorephi=no thmax=180.0 thmin=0.0 table=\"EXPOSURE\" chatter=2 clobber=yes debug=no mode=\"ql\"\n",
      "Computing binned exposure map....................!\n",
      "Using evtype=3 (i.e., FRONT/BACK irfs)\n",
      "real 113.51\n",
      "user 112.02\n",
      "sys 1.03\n"
     ]
    }
   ],
   "source": [
    "expCube2.run()"
   ]
  },
  {
   "cell_type": "markdown",
   "metadata": {},
   "source": [
    "# Compute source maps\n",
    "\n",
    "The sourcemaps step convolves the LAT response with your source model generating maps for each source in the \n",
    "model for use in the likelihood calculation. We use the same [XML file](https://fermi.gsfc.nasa.gov/ssc/data/analysis/scitools/data/BinnedLikelihood/3C279_input_model.xml) \n",
    "as in the standard [binned likelihood](https://fermi.gsfc.nasa.gov/ssc/data/analysis/scitools/binned_likelihood_tutorial.html)\n",
    "analysis. Go ahead and download the XML file to your working directory. You will also need the recommended \n",
    "models for a normal point source analysis [gll_iem_v07.fits](https://fermi.gsfc.nasa.gov/ssc/data/analysis/software/aux/4fgl/gll_iem_v07.fits) and [iso_P8R3_SOURCE_V3_v1.txt](https://fermi.gsfc.nasa.gov/ssc/data/analysis/software/aux/iso_P8R3_SOURCE_V3_v1.txt). These should already been in your $FERMI_DIR/refdata/fermi/galdiffuse directory."
   ]
  },
  {
   "cell_type": "code",
   "execution_count": 15,
   "metadata": {},
   "outputs": [
    {
     "name": "stdout",
     "output_type": "stream",
     "text": [
      "--2025-09-16 15:07:04--  https://fermi.gsfc.nasa.gov/ssc/data/analysis/scitools/data/BinnedLikelihood/3C279_input_model.xml\n",
      "Resolving fermi.gsfc.nasa.gov (fermi.gsfc.nasa.gov)... 129.164.179.26\n",
      "Connecting to fermi.gsfc.nasa.gov (fermi.gsfc.nasa.gov)|129.164.179.26|:443... connected.\n",
      "HTTP request sent, awaiting response... 200 OK\n",
      "Length: 184526 (180K) [application/xml]\n",
      "Saving to: ‘3C279_input_model.xml’\n",
      "\n",
      "3C279_input_model.x 100%[===================>] 180.20K   780KB/s    in 0.2s    \n",
      "\n",
      "2025-09-16 15:07:04 (780 KB/s) - ‘3C279_input_model.xml’ saved [184526/184526]\n",
      "\n"
     ]
    }
   ],
   "source": [
    "!wget https://fermi.gsfc.nasa.gov/ssc/data/analysis/scitools/data/BinnedLikelihood/3C279_input_model.xml"
   ]
  },
  {
   "cell_type": "code",
   "execution_count": 16,
   "metadata": {},
   "outputs": [],
   "source": [
    "!mv 3C279_input_model.xml data/"
   ]
  },
  {
   "cell_type": "code",
   "execution_count": 17,
   "metadata": {},
   "outputs": [],
   "source": [
    "my_apps.srcMaps['expcube'] = './data/3C279_ltcube.fits'\n",
    "my_apps.srcMaps['cmap'] = './data/3C279_ccube.fits'\n",
    "my_apps.srcMaps['srcmdl'] = './data/3C279_input_model.xml'\n",
    "my_apps.srcMaps['bexpmap'] = './data/3C279_BinnedExpMap.fits'\n",
    "my_apps.srcMaps['outfile'] = './data/3C279_srcmap.fits'\n",
    "my_apps.srcMaps['irfs'] = 'P8R3_SOURCE_V3'\n",
    "my_apps.srcMaps['evtype'] = '3'"
   ]
  },
  {
   "cell_type": "code",
   "execution_count": 18,
   "metadata": {},
   "outputs": [
    {
     "name": "stdout",
     "output_type": "stream",
     "text": [
      "time -p gtsrcmaps scfile= sctable=\"SC_DATA\" expcube=./data/3C279_ltcube.fits cmap=./data/3C279_ccube.fits srcmdl=./data/3C279_input_model.xml bexpmap=./data/3C279_BinnedExpMap.fits wmap=none outfile=./data/3C279_srcmap.fits irfs=\"P8R3_SOURCE_V3\" evtype=3 convol=yes resample=yes rfactor=2 minbinsz=0.1 ptsrc=yes psfcorr=yes emapbnds=yes edisp_bins=0 copyall=no chatter=2 clobber=yes debug=no gui=no mode=\"ql\"\n",
      "Generating SourceMap for 4FGL J1118.2-0415 38....................!\n",
      "Generating SourceMap for 4FGL J1118.6-1235 38....................!\n",
      "Generating SourceMap for 4FGL J1119.9-1007 38....................!\n",
      "Generating SourceMap for 4FGL J1121.3-0011 38....................!\n",
      "Generating SourceMap for 4FGL J1121.4-0553 38....................!\n",
      "Generating SourceMap for 4FGL J1122.0-0231 38....................!\n",
      "Generating SourceMap for 4FGL J1122.5-1440 38....................!\n",
      "Generating SourceMap for 4FGL J1124.1-1203 38....................!\n",
      "Generating SourceMap for 4FGL J1124.5-0658 38....................!\n",
      "Generating SourceMap for 4FGL J1124.6-0809 38....................!\n",
      "Generating SourceMap for 4FGL J1125.9-0742 38....................!\n",
      "Generating SourceMap for 4FGL J1129.2-0529 38....................!\n",
      "Generating SourceMap for 4FGL J1129.2-1014 38....................!\n",
      "Generating SourceMap for 4FGL J1129.8-1447 38....................!\n",
      "Generating SourceMap for 4FGL J1131.1-0944 38....................!\n",
      "Generating SourceMap for 4FGL J1131.4-0504 38....................!\n",
      "Generating SourceMap for 4FGL J1132.1-1448 38....................!\n",
      "Generating SourceMap for 4FGL J1132.7+0034 38....................!\n",
      "Generating SourceMap for 4FGL J1133.8-2048 38....................!\n",
      "Generating SourceMap for 4FGL J1134.8-1729 38....................!\n",
      "Generating SourceMap for 4FGL J1135.7-0427 38....................!\n",
      "Generating SourceMap for 4FGL J1136.3-0501 38....................!\n",
      "Generating SourceMap for 4FGL J1137.3+0535 38....................!\n",
      "Generating SourceMap for 4FGL J1137.9-1708 38....................!\n",
      "Generating SourceMap for 4FGL J1140.7-0129 38....................!\n",
      "Generating SourceMap for 4FGL J1141.5-1408 38....................!\n",
      "Generating SourceMap for 4FGL J1142.8+0120 38....................!\n",
      "Generating SourceMap for 4FGL J1143.7-1014 38....................!\n",
      "Generating SourceMap for 4FGL J1145.5-0340 38....................!\n",
      "Generating SourceMap for 4FGL J1145.7+0453 38....................!\n",
      "Generating SourceMap for 4FGL J1145.7-1528 38....................!\n",
      "Generating SourceMap for 4FGL J1146.0-0638 38....................!\n",
      "Generating SourceMap for 4FGL J1147.8-0724 38....................!\n",
      "Generating SourceMap for 4FGL J1148.2-0029 38....................!\n",
      "Generating SourceMap for 4FGL J1150.8-1905 38....................!\n",
      "Generating SourceMap for 4FGL J1151.3+0957 38....................!\n",
      "Generating SourceMap for 4FGL J1151.5-1347 38....................!\n",
      "Generating SourceMap for 4FGL J1151.6-2115 38....................!\n",
      "Generating SourceMap for 4FGL J1152.3-0839 38....................!\n",
      "Generating SourceMap for 4FGL J1153.2+0123 38....................!\n",
      "Generating SourceMap for 4FGL J1153.3-1104 38....................!\n",
      "Generating SourceMap for 4FGL J1153.6-2553 38....................!\n",
      "Generating SourceMap for 4FGL J1154.0-0010 38....................!\n",
      "Generating SourceMap for 4FGL J1155.2-1111 38....................!\n",
      "Generating SourceMap for 4FGL J1155.8-1217 38....................!\n",
      "Generating SourceMap for 4FGL J1156.6+0640 38....................!\n",
      "Generating SourceMap for 4FGL J1156.6-2248 38....................!\n",
      "Generating SourceMap for 4FGL J1158.8-1430 38....................!\n",
      "Generating SourceMap for 4FGL J1158.9+0818 38....................!\n",
      "Generating SourceMap for 4FGL J1158.9+0956 38....................!\n",
      "Generating SourceMap for 4FGL J1159.0+0939 38....................!\n",
      "Generating SourceMap for 4FGL J1159.2-2227 38....................!\n",
      "Generating SourceMap for 4FGL J1159.3-2142 38....................!\n",
      "Generating SourceMap for 4FGL J1159.5-0723 38....................!\n",
      "Generating SourceMap for 4FGL J1200.2+0201 38....................!\n",
      "Generating SourceMap for 4FGL J1200.6+1229 38....................!\n",
      "Generating SourceMap for 4FGL J1200.8-1429 38....................!\n",
      "Generating SourceMap for 4FGL J1201.1-0332 38....................!\n",
      "Generating SourceMap for 4FGL J1201.7+1429 38....................!\n",
      "Generating SourceMap for 4FGL J1202.5-0528 38....................!\n",
      "Generating SourceMap for 4FGL J1203.3+1119 38....................!\n",
      "Generating SourceMap for 4FGL J1203.5-1748 38....................!\n",
      "Generating SourceMap for 4FGL J1204.0+1146 38....................!\n",
      "Generating SourceMap for 4FGL J1204.2-0709 38....................!\n",
      "Generating SourceMap for 4FGL J1204.8+0407 38....................!\n",
      "Generating SourceMap for 4FGL J1205.7-2635 38....................!\n",
      "Generating SourceMap for 4FGL J1207.2-0524 38....................!\n",
      "Generating SourceMap for 4FGL J1207.4-1840 38....................!\n",
      "Generating SourceMap for 4FGL J1207.7-0106 38....................!\n",
      "Generating SourceMap for 4FGL J1207.7-2229 38....................!\n",
      "Generating SourceMap for 4FGL J1208.2+1158 38....................!\n",
      "Generating SourceMap for 4FGL J1208.8-1751 38....................!\n",
      "Generating SourceMap for 4FGL J1208.8-2754 38....................!\n",
      "Generating SourceMap for 4FGL J1211.6-2735 38....................!\n",
      "Generating SourceMap for 4FGL J1212.0-2326 38....................!\n",
      "Generating SourceMap for 4FGL J1212.7-1402 38....................!\n",
      "Generating SourceMap for 4FGL J1213.1-1123 38....................!\n",
      "Generating SourceMap for 4FGL J1213.3-2618 38....................!\n",
      "Generating SourceMap for 4FGL J1213.6+1236 38....................!\n",
      "Generating SourceMap for 4FGL J1213.6+1306 38....................!\n",
      "Generating SourceMap for 4FGL J1214.5-2318 38....................!\n",
      "Generating SourceMap for 4FGL J1214.6-1926 38....................!\n",
      "Generating SourceMap for 4FGL J1215.0+1656 38....................!\n",
      "Generating SourceMap for 4FGL J1215.1+0731 38....................!\n",
      "Generating SourceMap for 4FGL J1215.8-1733 38....................!\n",
      "Generating SourceMap for 4FGL J1216.1+0930 38....................!\n",
      "Generating SourceMap for 4FGL J1216.1-0242 38....................!\n",
      "Generating SourceMap for 4FGL J1216.2+0537 38....................!\n",
      "Generating SourceMap for 4FGL J1216.2-0600 38....................!\n",
      "Generating SourceMap for 4FGL J1216.2-1550 38....................!\n",
      "Generating SourceMap for 4FGL J1216.4-1358 38....................!\n",
      "Generating SourceMap for 4FGL J1217.2-2500 38....................!\n",
      "Generating SourceMap for 4FGL J1218.0-0028 38....................!\n",
      "Generating SourceMap for 4FGL J1218.5-0119 38....................!\n",
      "Generating SourceMap for 4FGL J1218.6-1049 38....................!\n",
      "Generating SourceMap for 4FGL J1219.6+0550 38....................!\n",
      "Generating SourceMap for 4FGL J1219.7+0444 38....................!\n",
      "Generating SourceMap for 4FGL J1219.7-0313 38....................!\n",
      "Generating SourceMap for 4FGL J1219.8-2008 38....................!\n",
      "Generating SourceMap for 4FGL J1220.1-2458 38....................!\n",
      "Generating SourceMap for 4FGL J1220.5-2745 38....................!\n",
      "Generating SourceMap for 4FGL J1221.4-0634 38....................!\n",
      "Generating SourceMap for 4FGL J1222.5+0414 38....................!\n",
      "Generating SourceMap for 4FGL J1223.0+1100 38....................!\n",
      "Generating SourceMap for 4FGL J1223.3+1213 38....................!\n",
      "Generating SourceMap for 4FGL J1223.5+0818 38....................!\n",
      "Generating SourceMap for 4FGL J1225.0+0330 38....................!\n",
      "Generating SourceMap for 4FGL J1225.4-1550 38....................!\n",
      "Generating SourceMap for 4FGL J1225.5-2851 38....................!\n",
      "Generating SourceMap for 4FGL J1226.7+0637 38....................!\n",
      "Generating SourceMap for 4FGL J1226.8-1329 38....................!\n",
      "Generating SourceMap for 4FGL J1228.7-0318 38....................!\n",
      "Generating SourceMap for 4FGL J1229.0+0202 38....................!\n",
      "Generating SourceMap for 4FGL J1230.8+1223 38....................!\n",
      "Generating SourceMap for 4FGL J1231.1-1412 38....................!\n",
      "Generating SourceMap for 4FGL J1231.5+1421 38....................!\n",
      "Generating SourceMap for 4FGL J1231.8-0450 38....................!\n",
      "Generating SourceMap for 4FGL J1233.0+1333 38....................!\n",
      "Generating SourceMap for 4FGL J1233.1+1703 38....................!\n",
      "Generating SourceMap for 4FGL J1233.7-0144 38....................!\n",
      "Generating SourceMap for 4FGL J1234.7-0434 38....................!\n",
      "Generating SourceMap for 4FGL J1235.1-1405 38....................!\n",
      "Generating SourceMap for 4FGL J1238.3-1959 38....................!\n",
      "Generating SourceMap for 4FGL J1238.5-1201 38....................!\n",
      "Generating SourceMap for 4FGL J1239.4+0728 38....................!\n",
      "Generating SourceMap for 4FGL J1239.5+0443 38....................!\n",
      "Generating SourceMap for 4FGL J1240.4-2606 38....................!\n",
      "Generating SourceMap for 4FGL J1240.8-2918 38....................!\n",
      "Generating SourceMap for 4FGL J1241.8-1456 38....................!\n",
      "Generating SourceMap for 4FGL J1241.9+0636 38....................!\n",
      "Generating SourceMap for 4FGL J1243.7+1727 38....................!\n",
      "Generating SourceMap for 4FGL J1243.9-0218 38....................!\n",
      "Generating SourceMap for 4FGL J1244.5+1616 38....................!\n",
      "Generating SourceMap for 4FGL J1245.8+0232 38....................!\n",
      "Generating SourceMap for 4FGL J1246.3+0112 38....................!\n",
      "Generating SourceMap for 4FGL J1246.7-2548 38....................!\n",
      "Generating SourceMap for 4FGL J1249.2-2809 38....................!\n",
      "Generating SourceMap for 4FGL J1249.3-0545 38....................!\n",
      "Generating SourceMap for 4FGL J1250.6+0217 38....................!\n",
      "Generating SourceMap for 4FGL J1251.2+1039 38....................!\n",
      "Generating SourceMap for 4FGL J1251.3-0201 38....................!\n",
      "Generating SourceMap for 4FGL J1251.3-1719 38....................!\n",
      "Generating SourceMap for 4FGL J1252.7-2520 38....................!\n",
      "Generating SourceMap for 4FGL J1253.8+0327 38....................!\n",
      "Generating SourceMap for 4FGL J1254.2-2205 38....................!\n",
      "Generating SourceMap for 4FGL J1254.9+1138 38....................!\n",
      "Generating SourceMap for 4FGL J1256.1-0547 38....................!\n",
      "Generating SourceMap for 4FGL J1256.2-1146 38....................!\n",
      "Generating SourceMap for 4FGL J1256.8-1333 38....................!\n",
      "Generating SourceMap for 4FGL J1258.6-1759 38....................!\n",
      "Generating SourceMap for 4FGL J1258.7-0452 38....................!\n",
      "Generating SourceMap for 4FGL J1258.8-2219 38....................!\n",
      "Generating SourceMap for 4FGL J1259.1-2311 38....................!\n",
      "Generating SourceMap for 4FGL J1300.0+1753 38....................!\n",
      "Generating SourceMap for 4FGL J1300.4+1416 38....................!\n",
      "Generating SourceMap for 4FGL J1301.6+0834 38....................!\n",
      "Generating SourceMap for 4FGL J1304.2-2412 38....................!\n",
      "Generating SourceMap for 4FGL J1304.4+1203 38....................!\n",
      "Generating SourceMap for 4FGL J1304.6+0539 38....................!\n",
      "Generating SourceMap for 4FGL J1304.6-0348 38....................!\n",
      "Generating SourceMap for 4FGL J1304.9-2107 38....................!\n",
      "Generating SourceMap for 4FGL J1306.3+1113 38....................!\n",
      "Generating SourceMap for 4FGL J1306.7-2148 38....................!\n",
      "Generating SourceMap for 4FGL J1308.7+0347 38....................!\n",
      "Generating SourceMap for 4FGL J1309.7+1153 38....................!\n",
      "Generating SourceMap for 4FGL J1310.1-0450 38....................!\n",
      "Generating SourceMap for 4FGL J1310.2-1158 38....................!\n",
      "Generating SourceMap for 4FGL J1311.0+0034 38....................!\n",
      "Generating SourceMap for 4FGL J1312.4-2156 38....................!\n",
      "Generating SourceMap for 4FGL J1312.6-1900 38....................!\n",
      "Generating SourceMap for 4FGL J1312.7+0050 38....................!\n",
      "Generating SourceMap for 4FGL J1312.8-0425 38....................!\n",
      "Generating SourceMap for 4FGL J1312.8-2350 38....................!\n",
      "Generating SourceMap for 4FGL J1314.7-0901 38....................!\n",
      "Generating SourceMap for 4FGL J1315.5+1135 38....................!\n",
      "Generating SourceMap for 4FGL J1315.9-0732 38....................!\n",
      "Generating SourceMap for 4FGL J1317.5-0153 38....................!\n",
      "Generating SourceMap for 4FGL J1318.1-1740 38....................!\n",
      "Generating SourceMap for 4FGL J1318.3-1148 38....................!\n",
      "Generating SourceMap for 4FGL J1318.7-1234 38....................!\n",
      "Generating SourceMap for 4FGL J1319.5+1404 38....................!\n",
      "Generating SourceMap for 4FGL J1319.5-0045 38....................!\n",
      "Generating SourceMap for 4FGL J1321.3-2641 38....................!\n",
      "Generating SourceMap for 4FGL J1322.2+0842 38....................!\n",
      "Generating SourceMap for 4FGL J1322.3-0606 38....................!\n",
      "Generating SourceMap for 4FGL J1322.6-0936 38....................!\n",
      "Generating SourceMap for 4FGL J1322.6-1418 38....................!\n",
      "Generating SourceMap for 4FGL J1322.6-1617 38....................!\n",
      "Generating SourceMap for 4FGL J1322.9+0437 38....................!\n",
      "Generating SourceMap for 4FGL J1323.9+1405 38....................!\n",
      "Generating SourceMap for 4FGL J1324.5-2338 38....................!\n",
      "Generating SourceMap for 4FGL J1324.6-2525 38....................!\n",
      "Generating SourceMap for 4FGL J1325.6-0227 38....................!\n",
      "Generating SourceMap for 4FGL J1326.1+1232 38....................!\n",
      "Generating SourceMap for 4FGL J1326.6+0152 38....................!\n",
      "Generating SourceMap for 4FGL J1326.7-0503 38....................!\n",
      "Generating SourceMap for 4FGL J1328.6+1145 38....................!\n",
      "Generating SourceMap for 4FGL J1329.4-0530 38....................!\n",
      "Generating SourceMap for 4FGL J1331.2-1325 38....................!\n",
      "Generating SourceMap for 4FGL J1331.6+1711 38....................!\n",
      "Generating SourceMap for 4FGL J1331.7-0343 38....................!\n",
      "Generating SourceMap for 4FGL J1331.7-0647 38....................!\n",
      "Generating SourceMap for 4FGL J1332.0-0509 38....................!\n",
      "Generating SourceMap for 4FGL J1332.6-1256 38....................!\n",
      "Generating SourceMap for 4FGL J1337.6-1257 38....................!\n",
      "Generating SourceMap for 4FGL J1337.9-1956 38....................!\n",
      "Generating SourceMap for 4FGL J1338.9+1153 38....................!\n",
      "Generating SourceMap for 4FGL J1339.0-2400 38....................!\n",
      "Generating SourceMap for 4FGL J1339.1-2620 38....................!\n",
      "Generating SourceMap for 4FGL J1339.9-0138 38....................!\n",
      "Generating SourceMap for 4FGL J1340.0-1501 38....................!\n",
      "Generating SourceMap for 4FGL J1340.8-0409 38....................!\n",
      "Generating SourceMap for 4FGL J1341.8-2053 38....................!\n",
      "Generating SourceMap for 4FGL J1342.0+1043 38....................!\n",
      "Generating SourceMap for 4FGL J1342.6+0944 38....................!\n",
      "Generating SourceMap for 4FGL J1342.7+0505 38....................!\n",
      "Generating SourceMap for 4FGL J1344.2-1723 38....................!\n",
      "Generating SourceMap for 4FGL J1345.8+0706 38....................!\n",
      "Generating SourceMap for 4FGL J1345.9-2612 38....................!\n",
      "Generating SourceMap for 4FGL J1348.9+0756 38....................!\n",
      "Generating SourceMap for 4FGL J1349.5-1131 38....................!\n",
      "Generating SourceMap for 4FGL J1351.0+0029 38....................!\n",
      "Generating SourceMap for 4FGL J1351.3+1115 38....................!\n",
      "Generating SourceMap for 4FGL J1351.4-1529 38....................!\n",
      "Generating SourceMap for 4FGL J1353.3+1434 38....................!\n",
      "Generating SourceMap for 4FGL J1354.2+0353 38....................!\n",
      "Generating SourceMap for 4FGL J1354.3-0206 38....................!\n",
      "Generating SourceMap for 4FGL J1354.7+0623 38....................!\n",
      "Generating SourceMap for 4FGL J1354.8-1041 38....................!\n",
      "Generating SourceMap for 4FGL J1356.2-1726 38....................!\n",
      "Generating SourceMap for 4FGL J1356.2-2454 38....................!\n",
      "Generating SourceMap for 4FGL J1356.6+0234 38....................!\n",
      "Generating SourceMap for 4FGL J1357.5+0127 38....................!\n",
      "Generating SourceMap for 4FGL J1358.9-0703 38....................!\n",
      "Generating SourceMap for 4FGL J1359.1-1152 38....................!\n",
      "Generating SourceMap for 4FGL J1359.4+0202 38....................!\n",
      "Generating SourceMap for 4FGL J1400.0-2415 38....................!\n",
      "Generating SourceMap for 4FGL J1400.6-1432 38....................!\n",
      "Generating SourceMap for 4FGL J1401.2-0915 38....................!\n",
      "Generating SourceMap for 4FGL J1402.5-1827 38....................!\n",
      "Generating SourceMap for 4FGL J1404.8+0402 38....................!\n",
      "Generating SourceMap for 4FGL J1405.0-1544 38....................!\n",
      "Generating SourceMap for 4FGL J1405.3-0640 38....................!\n",
      "Generating SourceMap for 4FGL J1405.9-1853 38....................!\n",
      "Generating SourceMap for 4FGL J1406.4-1654 38....................!\n",
      "Generating SourceMap for 4FGL J1406.5-0054 38....................!\n",
      "Generating SourceMap for 4FGL J1407.4-0820 38....................!\n",
      "Generating SourceMap for 4FGL J1408.9-0751 38....................!\n",
      "Generating SourceMap for 4FGL J1410.1+0202 38....................!\n",
      "Generating SourceMap for 4FGL J1411.5-0723 38....................!\n",
      "Generating SourceMap for 4FGL J1415.9-1002 38....................!\n",
      "Generating SourceMap for 4FGL J1415.9-1504 38....................!\n",
      "Generating SourceMap for 4FGL J1418.4-0233 38....................!\n",
      "Generating SourceMap for 4FGL J1419.3+0444 38....................!\n",
      "Generating SourceMap for 4FGL J1419.4-0838 38....................!\n",
      "Generating SourceMap for 4FGL J1420.3+0612 38....................!\n",
      "Generating SourceMap for 4FGL J1421.1-1120 38....................!\n",
      "Generating SourceMap for 4FGL J1421.4-1655 38....................!\n",
      "Generating SourceMap for 4FGL J1424.1-1750 38....................!\n",
      "Generating SourceMap for 4FGL J1424.2+0433 38....................!\n",
      "Generating SourceMap for 4FGL J1425.4-0119 38....................!\n",
      "Generating SourceMap for 4FGL J1428.7-1017 38....................!\n",
      "Generating SourceMap for 4FGL J1429.8-0739 38....................!\n",
      "Generating SourceMap for gll_iem_v07 38....................!\n",
      "Generating SourceMap for iso_P8R3_SOURCE_V3_v1 38....................!\n",
      "Using evtype=3 (i.e., FRONT/BACK irfs)\n",
      "real 394.71\n",
      "user 381.71\n",
      "sys 11.57\n"
     ]
    }
   ],
   "source": [
    "my_apps.srcMaps.run()"
   ]
  },
  {
   "cell_type": "markdown",
   "metadata": {},
   "source": [
    "# Run the Likelihood Analysis\n",
    "\n",
    "First, import the BinnedAnalysis library. Then, create a likelihood object for the dataset. For more details on the pyLikelihood module, check out the [pyLikelihood Usage Notes](https://fermi.gsfc.nasa.gov/ssc/data/analysis/scitools/python_usage_notes.html). Initially, we will do an analysis without weights"
   ]
  },
  {
   "cell_type": "code",
   "execution_count": 19,
   "metadata": {},
   "outputs": [],
   "source": [
    "import pyLikelihood\n",
    "from BinnedAnalysis import *\n",
    "\n",
    "obs = BinnedObs(srcMaps='./data/3C279_srcmap.fits',binnedExpMap='./data/3C279_BinnedExpMap.fits', expCube='./data/3C279_ltcube.fits',irfs='CALDB')"
   ]
  },
  {
   "cell_type": "code",
   "execution_count": 20,
   "metadata": {},
   "outputs": [],
   "source": [
    "like = BinnedAnalysis(obs,'./data/3C279_input_model.xml',optimizer='NewMinuit')"
   ]
  },
  {
   "cell_type": "markdown",
   "metadata": {},
   "source": [
    "Perform the fit and print out the results"
   ]
  },
  {
   "cell_type": "code",
   "execution_count": 21,
   "metadata": {},
   "outputs": [
    {
     "data": {
      "text/plain": [
       "73159.31353785182"
      ]
     },
     "execution_count": 21,
     "metadata": {},
     "output_type": "execute_result"
    }
   ],
   "source": [
    "likeobj=pyLike.NewMinuit(like.logLike)\n",
    "like.fit(verbosity=0,covar=True,optObject=likeobj)"
   ]
  },
  {
   "cell_type": "markdown",
   "metadata": {},
   "source": [
    "Check that NewMinuit converged. If you get anything other than '0', then NewMinuit didn't converged."
   ]
  },
  {
   "cell_type": "code",
   "execution_count": 22,
   "metadata": {},
   "outputs": [
    {
     "name": "stdout",
     "output_type": "stream",
     "text": [
      "156\n"
     ]
    }
   ],
   "source": [
    "print(likeobj.getRetCode())"
   ]
  },
  {
   "cell_type": "markdown",
   "metadata": {},
   "source": [
    "Print TS for 3C 279 (4FGL J1256.1-0547)"
   ]
  },
  {
   "cell_type": "code",
   "execution_count": 23,
   "metadata": {},
   "outputs": [
    {
     "data": {
      "text/plain": [
       "28631.56329077939"
      ]
     },
     "execution_count": 23,
     "metadata": {},
     "output_type": "execute_result"
    }
   ],
   "source": [
    "like.Ts('4FGL J1256.1-0547')"
   ]
  },
  {
   "cell_type": "markdown",
   "metadata": {},
   "source": [
    "Now, we will repeat the likelihood analysis but turning energy dispersion on this time."
   ]
  },
  {
   "cell_type": "code",
   "execution_count": 24,
   "metadata": {},
   "outputs": [],
   "source": [
    "import pyLikelihood\n",
    "from BinnedAnalysis import *"
   ]
  },
  {
   "cell_type": "markdown",
   "metadata": {},
   "source": [
    "At this point, you have to create a BinnedConfig object and pass that object to BinnedAnalusis. For the appropriate choice of edisp_bins, please read [this](https://fermi.gsfc.nasa.gov/ssc/data/analysis/documentation/Pass8_edisp_usage.html)."
   ]
  },
  {
   "cell_type": "code",
   "execution_count": 25,
   "metadata": {},
   "outputs": [
    {
     "name": "stdout",
     "output_type": "stream",
     "text": [
      "Drm_Cache::update Measured counts < 0 4FGL J1317.5-0153 36 -4.96388e-14 1.77674e-12\n",
      "0.170486 0.398974 0.816482 1.48138 2.41246 3.58101 4.84466 5.98494 6.76752 7.07328 6.84644 6.04718 4.86312 3.57807 2.4093 1.49098 0.85098 0.449454 0.223687 0.103781 0.0442906 0.0174831 0.00639231 0.00217149 0.000697841 0.000207706 5.68364e-05 1.42785e-05 3.31193e-06 7.12605e-07 1.41843e-07 2.61503e-08 4.47264e-09 7.09773e-10 1.04416e-10 1.418e-11 1.77674e-12 \n"
     ]
    }
   ],
   "source": [
    "conf = BinnedConfig(edisp_bins=-2)\n",
    "obs2 = BinnedObs(srcMaps='./data/3C279_srcmap.fits',binnedExpMap='./data/3C279_BinnedExpMap.fits',\n",
    "expCube='./data/3C279_ltcube.fits',irfs='CALDB')\n",
    "like2 = BinnedAnalysis(obs2,'./data/3C279_input_model.xml',optimizer='NewMinuit',config=conf)"
   ]
  },
  {
   "cell_type": "markdown",
   "metadata": {},
   "source": [
    "Perform the fit and print out the results"
   ]
  },
  {
   "cell_type": "code",
   "execution_count": 26,
   "metadata": {},
   "outputs": [
    {
     "data": {
      "text/plain": [
       "73114.99817314389"
      ]
     },
     "execution_count": 26,
     "metadata": {},
     "output_type": "execute_result"
    }
   ],
   "source": [
    "likeobj2=pyLike.NewMinuit(like2.logLike)\n",
    "like2.fit(verbosity=0,covar=True,optObject=likeobj2)"
   ]
  },
  {
   "cell_type": "code",
   "execution_count": 27,
   "metadata": {},
   "outputs": [
    {
     "name": "stdout",
     "output_type": "stream",
     "text": [
      "0\n"
     ]
    }
   ],
   "source": [
    "print(likeobj2.getRetCode())"
   ]
  },
  {
   "cell_type": "code",
   "execution_count": 28,
   "metadata": {},
   "outputs": [
    {
     "data": {
      "text/plain": [
       "28464.1505743968"
      ]
     },
     "execution_count": 28,
     "metadata": {},
     "output_type": "execute_result"
    }
   ],
   "source": [
    "like2.Ts('4FGL J1256.1-0547')"
   ]
  },
  {
   "cell_type": "markdown",
   "metadata": {},
   "source": [
    "After verifying that the fit converged, we see that the TS including energy dispersion is a bit lower than what we found neglecting energy dispersion. The effect is most relevant at energies < 300 MeV, but also induces a smaller systematic offset at higher energies. Please refer to a more complete explanation [here](https://fermi.gsfc.nasa.gov/ssc/data/analysis/documentation/Pass8_edisp_usage.html)."
   ]
  }
 ],
 "metadata": {
  "kernelspec": {
   "display_name": "Python 3 (ipykernel)",
   "language": "python",
   "name": "python3"
  },
  "language_info": {
   "codemirror_mode": {
    "name": "ipython",
    "version": 3
   },
   "file_extension": ".py",
   "mimetype": "text/x-python",
   "name": "python",
   "nbconvert_exporter": "python",
   "pygments_lexer": "ipython3",
   "version": "3.11.12"
  }
 },
 "nbformat": 4,
 "nbformat_minor": 4
}
