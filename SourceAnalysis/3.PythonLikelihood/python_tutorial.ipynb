{
 "cells": [
  {
   "cell_type": "markdown",
   "metadata": {},
   "source": [
    "# Likelihood Analysis with Python\n",
    "\n",
    "The python likelihood tools are a very powerful set of analysis tools that expand upon the command line tools provided with the Fermitools package.\n",
    "\n",
    "Not only can you perform all of the same likelihood analysis with the python tools that you can with the standard command line tools, but you can directly access all of the model parameters.\n",
    "\n",
    "You can more easily script a standard analysis like light curve generation. There are also a few things built into the python tools that are not available from the command line like the calculation of upper limits.\n",
    "\n",
    "There are many [user contributed packages](https://fermi.gsfc.nasa.gov/ssc/data/analysis/user/) built upon the python backbone of the Fermitools and we are going to highlight and use a few of them in this tutorial like `likeSED`, `make4FGLxml`, and the `LATAnalysisScripts`."
   ]
  },
  {
   "cell_type": "markdown",
   "metadata": {},
   "source": [
    "***"
   ]
  },
  {
   "cell_type": "markdown",
   "metadata": {},
   "source": [
    "This sample analysis is based on the PG 1553+113 analysis performed by the LAT team and described in [Abdo, A. A. et al. 2010, ApJ, 708, 1310](http://adsabs.harvard.edu/abs/2010ApJ...708.1310A).\n",
    "\n",
    "At certain points we will refer to this article as well as the [Cicerone](https://fermi.gsfc.nasa.gov/ssc/data/analysis/documentation/Cicerone/).\n",
    "\n",
    "After you complete this tutorial, you should be able to reproduce all of the data analysis performed in this publication including generating a spectrum (individual bins and a butterfly plot) and produce a light curve with the python tools.\n",
    "\n",
    "This tutorial assumes you have the most recent [Fermitools](https://fermi.gsfc.nasa.gov/ssc/data/analysis/software/) installed.\n",
    "\n",
    "We will also make significant use of python, so you might want to familiarize yourself with python (there's a beginner's guide at http://wiki.python.org/moin/BeginnersGuide). This tutorial also assumes that you've gone through the non-python based unbinned likelihood thread. This tutorial should take approximately 8 hours to complete (depending on your computer's speed) if you do everything, but there are some steps you can skip along the way which shave about 4 hours off of that."
   ]
  },
  {
   "cell_type": "markdown",
   "metadata": {},
   "source": [
    "# Get the data\n",
    "\n",
    "For this thread the original data were extracted from the [LAT data server](https://fermi.gsfc.nasa.gov/cgi-bin/ssc/LAT/LATDataQuery.cgi) with the following selections (these selections are similar to those in the paper):\n",
    "\n",
    "```\n",
    "Search Center (RA,Dec) = (238.929,11.1901)\n",
    "Radius = 20 degrees\n",
    "Start Time (MET) = 239557417 seconds (2008-08-04T15:43:37)\n",
    "Stop Time (MET) = 256970880 seconds (2009-02-22T04:48:00)\n",
    "Minimum Energy = 100 MeV\n",
    "Maximum Energy = 300000 MeV\n",
    "```\n",
    "\n",
    "\n",
    "\n",
    "These are the event files. Run the code cell below to retrieve them:\n",
    "```\n",
    "L1504241622054B65347F25_PH00.fits\n",
    "L1504241622054B65347F25_PH01.fits\n",
    "L1504241622054B65347F25_SC00.fits\n",
    "```"
   ]
  },
  {
   "cell_type": "code",
   "execution_count": 1,
   "metadata": {},
   "outputs": [
    {
     "name": "stdout",
     "output_type": "stream",
     "text": [
      "--2025-09-11 11:06:02--  https://fermi.gsfc.nasa.gov/ssc/data/analysis/scitools/data/pyLikelihood/L1504241622054B65347F25_PH00.fits\n",
      "Resolving fermi.gsfc.nasa.gov (fermi.gsfc.nasa.gov)... 129.164.179.26\n",
      "Connecting to fermi.gsfc.nasa.gov (fermi.gsfc.nasa.gov)|129.164.179.26|:443... connected.\n",
      "HTTP request sent, awaiting response... 200 OK\n",
      "Length: 11160000 (11M) [application/fits]\n",
      "Saving to: ‘L1504241622054B65347F25_PH00.fits’\n",
      "\n",
      "L1504241622054B6534 100%[===================>]  10.64M  2.16MB/s    in 5.2s    \n",
      "\n",
      "2025-09-11 11:06:08 (2.06 MB/s) - ‘L1504241622054B65347F25_PH00.fits’ saved [11160000/11160000]\n",
      "\n",
      "--2025-09-11 11:06:08--  https://fermi.gsfc.nasa.gov/ssc/data/analysis/scitools/data/pyLikelihood/L1504241622054B65347F25_PH01.fits\n",
      "Resolving fermi.gsfc.nasa.gov (fermi.gsfc.nasa.gov)... 129.164.179.26\n",
      "Connecting to fermi.gsfc.nasa.gov (fermi.gsfc.nasa.gov)|129.164.179.26|:443... connected.\n",
      "HTTP request sent, awaiting response... 200 OK\n",
      "Length: 14685120 (14M) [application/fits]\n",
      "Saving to: ‘L1504241622054B65347F25_PH01.fits’\n",
      "\n",
      "L1504241622054B6534 100%[===================>]  14.00M  1.95MB/s    in 9.6s    \n",
      "\n",
      "2025-09-11 11:06:18 (1.46 MB/s) - ‘L1504241622054B65347F25_PH01.fits’ saved [14685120/14685120]\n",
      "\n",
      "--2025-09-11 11:06:18--  https://fermi.gsfc.nasa.gov/ssc/data/analysis/scitools/data/pyLikelihood/L1504241622054B65347F25_SC00.fits\n",
      "Resolving fermi.gsfc.nasa.gov (fermi.gsfc.nasa.gov)... 129.164.179.26\n",
      "Connecting to fermi.gsfc.nasa.gov (fermi.gsfc.nasa.gov)|129.164.179.26|:443... connected.\n",
      "HTTP request sent, awaiting response... 200 OK\n",
      "Length: 74439360 (71M) [application/fits]\n",
      "Saving to: ‘L1504241622054B65347F25_SC00.fits’\n",
      "\n",
      "L1504241622054B6534 100%[===================>]  70.99M  2.16MB/s    in 34s     \n",
      "\n",
      "2025-09-11 11:06:52 (2.10 MB/s) - ‘L1504241622054B65347F25_SC00.fits’ saved [74439360/74439360]\n",
      "\n"
     ]
    }
   ],
   "source": [
    "!wget https://fermi.gsfc.nasa.gov/ssc/data/analysis/scitools/data/pyLikelihood/L1504241622054B65347F25_PH00.fits\n",
    "!wget https://fermi.gsfc.nasa.gov/ssc/data/analysis/scitools/data/pyLikelihood/L1504241622054B65347F25_PH01.fits\n",
    "!wget https://fermi.gsfc.nasa.gov/ssc/data/analysis/scitools/data/pyLikelihood/L1504241622054B65347F25_SC00.fits"
   ]
  },
  {
   "cell_type": "code",
   "execution_count": 2,
   "metadata": {},
   "outputs": [],
   "source": [
    "!mkdir data\n",
    "!mv *SC00.fits PG1553_SC.fits\n",
    "!mv *.fits ./data"
   ]
  },
  {
   "cell_type": "markdown",
   "metadata": {},
   "source": [
    "You'll first need to make a file list with the names of your input event files."
   ]
  },
  {
   "cell_type": "code",
   "execution_count": 3,
   "metadata": {},
   "outputs": [
    {
     "name": "stdout",
     "output_type": "stream",
     "text": [
      "./data/L1504241622054B65347F25_PH00.fits\n",
      "./data/L1504241622054B65347F25_PH01.fits\n"
     ]
    }
   ],
   "source": [
    "!ls ./data/*PH*.fits > ./data/PG1553_events.list\n",
    "!cat ./data/PG1553_events.list"
   ]
  },
  {
   "cell_type": "markdown",
   "metadata": {},
   "source": [
    "In the following analysis, we've assumed that you've named your list of data files `PG1553_events.list` and the spacecraft file `PG1553_SC.fits`."
   ]
  },
  {
   "cell_type": "markdown",
   "metadata": {},
   "source": [
    "# Perform Event Selections\n",
    "\n",
    "You could follow the unbinned likelihood tutorial to perform your event selections using **gtlike*, **gtmktime**, etc. directly from the command line, and then use pylikelihood later.\n",
    "\n",
    "But we're going to go ahead and use python. The `gt_apps` module provides methods to call these tools from within python. This'll get us used to using python.\n",
    "\n",
    "So, let's jump into python:"
   ]
  },
  {
   "cell_type": "code",
   "execution_count": 4,
   "metadata": {},
   "outputs": [],
   "source": [
    "import gt_apps as my_apps"
   ]
  },
  {
   "cell_type": "markdown",
   "metadata": {},
   "source": [
    "Now, you can see what objects are part of the gt_apps module by executing:"
   ]
  },
  {
   "cell_type": "code",
   "execution_count": 5,
   "metadata": {},
   "outputs": [
    {
     "name": "stdout",
     "output_type": "stream",
     "text": [
      "Help on module gt_apps:\n",
      "\n",
      "NAME\n",
      "    gt_apps - This module uses GtApp to wraps the Science Tools as python objects.\n",
      "\n",
      "DATA\n",
      "    TsMap = <GtApp.GtApp object>\n",
      "    addCubes = <GtApp.GtApp object>\n",
      "    counts_map = <GtApp.GtApp object>\n",
      "    diffResps = <GtApp.GtApp object>\n",
      "    evtbin = <GtApp.GtApp object>\n",
      "    expCube = <GtApp.GtApp object>\n",
      "    expMap = <GtApp.GtApp object>\n",
      "    filter = <GtApp.GtApp object>\n",
      "    gtexpcube2 = <GtApp.GtApp object>\n",
      "    like = <GtApp.GtApp object>\n",
      "    maketime = <GtApp.GtApp object>\n",
      "    model_map = <GtApp.GtApp object>\n",
      "    rspgen = <GtApp.GtApp object>\n",
      "    srcMaps = <GtApp.GtApp object>\n",
      "\n",
      "FILE\n",
      "    /Users/nmirabal/miniconda3/envs/fermi-2.4.0/lib/python3.11/site-packages/fermitools/gt_apps.py\n",
      "\n",
      "\n"
     ]
    }
   ],
   "source": [
    "help(my_apps)"
   ]
  },
  {
   "cell_type": "markdown",
   "metadata": {},
   "source": [
    "The python object for **gtselect** is called `filter`, and we first need to set all of its options.\n",
    "\n",
    "This is very similar to calling **gtselect** from the command line and inputting all of the variables interactively. \n",
    "\n",
    "For example, towards the end of this thread, we'll want to generate a light curve and we'll have to run the likelihood analysis for each datapoint. It'll be much easier to do all of this within python and change the `tmin` and `tmax` in an iterative fashion.\n",
    "\n",
    "Note that these python objects are just wrappers for the standalone tools, so if you want any information on their options, see the corresponding [documentation](https://fermi.gsfc.nasa.gov/ssc/data/analysis/scitools/references.html) for the standalone tool.\n",
    "\n",
    "Let's set **gtselect**'s (or `filter`'s) options:"
   ]
  },
  {
   "cell_type": "code",
   "execution_count": 6,
   "metadata": {},
   "outputs": [],
   "source": [
    "my_apps.filter['evclass'] = 128\n",
    "my_apps.filter['evtype'] = 3\n",
    "my_apps.filter['ra'] = 238.929\n",
    "my_apps.filter['dec'] = 11.1901\n",
    "my_apps.filter['rad'] = 10\n",
    "my_apps.filter['emin'] = 100\n",
    "my_apps.filter['emax'] = 300000\n",
    "my_apps.filter['zmax'] = 90\n",
    "my_apps.filter['tmin'] = 239557417\n",
    "my_apps.filter['tmax'] = 256970880\n",
    "my_apps.filter['infile'] = '@./data/PG1553_events.list'\n",
    "my_apps.filter['outfile'] = './data/PG1553_filtered.fits'"
   ]
  },
  {
   "cell_type": "markdown",
   "metadata": {},
   "source": [
    "And now we run **gtselect**:"
   ]
  },
  {
   "cell_type": "code",
   "execution_count": 7,
   "metadata": {},
   "outputs": [
    {
     "name": "stdout",
     "output_type": "stream",
     "text": [
      "time -p gtselect infile=@./data/PG1553_events.list outfile=./data/PG1553_filtered.fits ra=238.929 dec=11.1901 rad=10.0 tmin=239557417.0 tmax=256970880.0 emin=100.0 emax=300000.0 zmin=0.0 zmax=90.0 evclass=128 evtype=3 convtype=-1 phasemin=0.0 phasemax=1.0 evtable=\"EVENTS\" chatter=2 clobber=yes debug=no gui=no mode=\"ql\"\n",
      "Done.\n",
      "real 1.06\n",
      "user 0.56\n",
      "sys 0.10\n"
     ]
    }
   ],
   "source": [
    "my_apps.filter.run()"
   ]
  },
  {
   "cell_type": "markdown",
   "metadata": {},
   "source": [
    "Note that you can see exactly what gtselect will do if you run it by typing"
   ]
  },
  {
   "cell_type": "code",
   "execution_count": 8,
   "metadata": {},
   "outputs": [
    {
     "data": {
      "text/plain": [
       "'time -p gtselect infile=@./data/PG1553_events.list outfile=./data/PG1553_filtered.fits ra=238.929 dec=11.1901 rad=10.0 tmin=239557417.0 tmax=256970880.0 emin=100.0 emax=300000.0 zmin=0.0 zmax=90.0 evclass=128 evtype=3 convtype=-1 phasemin=0.0 phasemax=1.0 evtable=\"EVENTS\" chatter=2 clobber=yes debug=no gui=no mode=\"ql\"'"
      ]
     },
     "execution_count": 8,
     "metadata": {},
     "output_type": "execute_result"
    }
   ],
   "source": [
    "my_apps.filter.command()"
   ]
  },
  {
   "cell_type": "markdown",
   "metadata": {},
   "source": [
    "You have access to any of the inputs by directly accessing the `filter['OPTIONS']` options.\n",
    "\n",
    "Next, you need to run **gtmktime**. This is accessed within python via the `maketime` object:"
   ]
  },
  {
   "cell_type": "code",
   "execution_count": 9,
   "metadata": {},
   "outputs": [],
   "source": [
    "my_apps.maketime['scfile'] = './data/PG1553_SC.fits'\n",
    "my_apps.maketime['filter'] = '(DATA_QUAL>0)&&(LAT_CONFIG==1)'\n",
    "my_apps.maketime['roicut'] = 'no'\n",
    "my_apps.maketime['evfile'] = './data/PG1553_filtered.fits'\n",
    "my_apps.maketime['outfile'] = './data/PG1553_filtered_gti.fits'"
   ]
  },
  {
   "cell_type": "code",
   "execution_count": 10,
   "metadata": {},
   "outputs": [
    {
     "name": "stdout",
     "output_type": "stream",
     "text": [
      "time -p gtmktime scfile=./data/PG1553_SC.fits sctable=\"SC_DATA\" filter=\"(DATA_QUAL>0)&&(LAT_CONFIG==1)\" roicut=no evfile=./data/PG1553_filtered.fits evtable=\"EVENTS\" outfile=\"./data/PG1553_filtered_gti.fits\" apply_filter=yes overwrite=no header_obstimes=yes tstart=0.0 tstop=0.0 gtifile=\"default\" chatter=2 clobber=yes debug=no gui=no mode=\"ql\"\n",
      "real 1.27\n",
      "user 1.07\n",
      "sys 0.08\n"
     ]
    }
   ],
   "source": [
    "my_apps.maketime.run()"
   ]
  },
  {
   "cell_type": "markdown",
   "metadata": {},
   "source": [
    "We're using the most conservative and most commonly used cuts described in deatil in the [Cicerone](http://fermi.gsfc.nasa.gov/ssc/data/analysis/documentation/Cicerone/Cicerone_Likelihood/Exposure.html)."
   ]
  },
  {
   "cell_type": "markdown",
   "metadata": {},
   "source": [
    "# Livetime Cubes and Exposure Maps\n",
    "\n",
    "At this point, you could make a counts map of the events we just selected using [gtbin](https://fermi.gsfc.nasa.gov/ssc/data/analysis/scitools/help/gtbin.txt) (it's called `evtbin` within python) and I won't discourage you, but we're going to go ahead and create a livetime cube and exposure map.\n",
    "\n",
    "This might take a few minutes to complete, so if you want to create a counts map and have a look at it, get these processes going and open another terminal to work on your counts map (see the [likelihood tutorial](https://github.com/fermi-lat/AnalysisThreads/blob/master/SourceAnalysis/2.UnbinnedLikelihood/likelihood_tutorial.ipynb) for an example of running **gtbin** to produce a counts map)."
   ]
  },
  {
   "cell_type": "markdown",
   "metadata": {},
   "source": [
    "### Livetime Cube"
   ]
  },
  {
   "cell_type": "markdown",
   "metadata": {},
   "source": [
    "This step will take approximately 15 - 30 minutes to complete so if you want to just download the `PG1553_ltCube.fits` from us you can skip this step by running the code cell below."
   ]
  },
  {
   "cell_type": "code",
   "execution_count": 11,
   "metadata": {},
   "outputs": [
    {
     "name": "stdout",
     "output_type": "stream",
     "text": [
      "URL transformed to HTTPS due to an HSTS policy\n",
      "--2025-09-11 11:06:56--  https://fermi.gsfc.nasa.gov/ssc/data/analysis/scitools/data/pyLikelihood/PG1553_ltCube.fits\n",
      "Resolving fermi.gsfc.nasa.gov (fermi.gsfc.nasa.gov)... 129.164.179.26\n",
      "Connecting to fermi.gsfc.nasa.gov (fermi.gsfc.nasa.gov)|129.164.179.26|:443... connected.\n",
      "HTTP request sent, awaiting response... 200 OK\n",
      "Length: 16597440 (16M) [application/fits]\n",
      "Saving to: ‘PG1553_ltCube.fits’\n",
      "\n",
      "PG1553_ltCube.fits  100%[===================>]  15.83M  2.13MB/s    in 8.4s    \n",
      "\n",
      "2025-09-11 11:07:05 (1.88 MB/s) - ‘PG1553_ltCube.fits’ saved [16597440/16597440]\n",
      "\n"
     ]
    }
   ],
   "source": [
    "!wget http://fermi.gsfc.nasa.gov/ssc/data/analysis/scitools/data/pyLikelihood/PG1553_ltCube.fits\n",
    "!mv *.fits ./data"
   ]
  },
  {
   "cell_type": "markdown",
   "metadata": {},
   "source": [
    "If instead you wish to do this yourself, **gtltcube** is `expCube` and you set its options like so:"
   ]
  },
  {
   "cell_type": "code",
   "execution_count": 12,
   "metadata": {},
   "outputs": [],
   "source": [
    "my_apps.expCube['evfile'] = './data/PG1553_filtered_gti.fits'\n",
    "my_apps.expCube['scfile'] = './data/PG1553_SC.fits'\n",
    "my_apps.expCube['outfile'] = './data/PG1553_ltCube.fits'\n",
    "my_apps.expCube['zmax'] = 90\n",
    "my_apps.expCube['dcostheta'] = 0.025\n",
    "my_apps.expCube['binsz'] = 1"
   ]
  },
  {
   "cell_type": "code",
   "execution_count": 13,
   "metadata": {},
   "outputs": [
    {
     "name": "stdout",
     "output_type": "stream",
     "text": [
      "time -p gtltcube evfile=\"./data/PG1553_filtered_gti.fits\" evtable=\"EVENTS\" scfile=./data/PG1553_SC.fits sctable=\"SC_DATA\" outfile=./data/PG1553_ltCube.fits dcostheta=0.025 binsz=1.0 phibins=0 tmin=0.0 tmax=0.0 file_version=\"1\" zmin=0.0 zmax=90.0 chatter=2 clobber=yes debug=no gui=no mode=\"ql\"\n",
      "Working on file ./data/PG1553_SC.fits\n",
      ".....................!\n",
      "real 332.02\n",
      "user 325.72\n",
      "sys 2.03\n"
     ]
    }
   ],
   "source": [
    "my_apps.expCube.run()"
   ]
  },
  {
   "cell_type": "markdown",
   "metadata": {},
   "source": [
    "While you're waiting, you might have noticed that not all of the command line Fermitools have an equivalent object in `gt_apps`.\n",
    "\n",
    "This is easy to fix. Say you want to use **gtltcubesun** from within python. Just make it a GtApp:"
   ]
  },
  {
   "cell_type": "code",
   "execution_count": 14,
   "metadata": {},
   "outputs": [
    {
     "data": {
      "text/plain": [
       "'time -p gtltcubesun evfile=\"\" evtable=\"EVENTS\" scfile= sctable=\"SC_DATA\" outfile=expCube.fits body=\"SUN\" dcostheta=0.025 thetasunmax=180.0 binsz=0.5 phibins=0 tmin=0.0 tmax=0.0 powerbinsun=2.7 file_version=\"1\" zmax=180.0 chatter=2 clobber=yes debug=no gui=no mode=\"ql\"'"
      ]
     },
     "execution_count": 14,
     "metadata": {},
     "output_type": "execute_result"
    }
   ],
   "source": [
    "from GtApp import GtApp\n",
    "expCubeSun = GtApp('gtltcubesun','Likelihood')\n",
    "expCubeSun.command()"
   ]
  },
  {
   "cell_type": "markdown",
   "metadata": {},
   "source": [
    "### Exposure Map\n",
    "\n",
    "Similar to Livetime Cube above."
   ]
  },
  {
   "cell_type": "code",
   "execution_count": 15,
   "metadata": {},
   "outputs": [],
   "source": [
    "my_apps.expMap['evfile'] = './data/PG1553_filtered_gti.fits'\n",
    "my_apps.expMap['scfile'] = './data/PG1553_SC.fits'\n",
    "my_apps.expMap['expcube'] = './data/PG1553_ltCube.fits'\n",
    "my_apps.expMap['outfile'] = './data/PG1553_expMap.fits'\n",
    "my_apps.expMap['irfs'] = 'CALDB'\n",
    "my_apps.expMap['srcrad'] = 20\n",
    "my_apps.expMap['nlong'] = 120\n",
    "my_apps.expMap['nlat'] = 120\n",
    "my_apps.expMap['nenergies'] = 37"
   ]
  },
  {
   "cell_type": "code",
   "execution_count": 16,
   "metadata": {},
   "outputs": [
    {
     "name": "stdout",
     "output_type": "stream",
     "text": [
      "time -p gtexpmap evfile=./data/PG1553_filtered_gti.fits evtable=\"EVENTS\" scfile=./data/PG1553_SC.fits sctable=\"SC_DATA\" expcube=./data/PG1553_ltCube.fits outfile=./data/PG1553_expMap.fits irfs=\"CALDB\" evtype=\"INDEF\" srcrad=20.0 nlong=120 nlat=120 nenergies=37 submap=no nlongmin=0 nlongmax=0 nlatmin=0 nlatmax=0 chatter=2 clobber=yes debug=no gui=no mode=\"ql\"\n",
      "The exposure maps generated by this tool are meant\n",
      "to be used for *unbinned* likelihood analysis only.\n",
      "Do not use them for binned analyses.\n",
      "real 328.79\n",
      "user 311.87\n",
      "sys 8.72\n"
     ]
    }
   ],
   "source": [
    "my_apps.expMap.run()"
   ]
  },
  {
   "cell_type": "markdown",
   "metadata": {},
   "source": [
    "# Generate XML Model File\n",
    "\n",
    "We need to create an XML file with all of the sources of interest within the Region of Interest (ROI) of PG 1553+113 so we can correctly model the background. For more information on the format of the model file and how to create one, see the [likelihood analysis](https://github.com/fermi-lat/AnalysisThreads/blob/master/SourceAnalysis/2.UnbinnedLikelihood/likelihood_tutorial.ipynb) tutorial.\n",
    "\n",
    "For this thread, we use a simplified model with just two sources: [PG1553compact_model.xml](https://fermi.gsfc.nasa.gov/ssc/data/analysis/scitools/data/pyLikelihood/PG1553compact_model.xml).\n",
    "\n",
    "To fit all 4FGL-DR3 sources, you can use the user contributed [LATSourceModel](https://github.com/physicsranger/make4FGLxml) package to create a model file based on the LAT 14-year LAT catalog. You'll need to download the XML or FITS version of this file at http://fermi.gsfc.nasa.gov/ssc/data/access/lat/14yr_catalog/ and put it in your working directory. You will also need to install the [LATSourceModel](https://github.com/physicsranger/make4FGLxml) package (see also [this page](https://fermi.gsfc.nasa.gov/ssc/data/analysis/user/)). Also make sure you have the most recent galactic diffuse and isotropic model files which can be found at [here](http://fermi.gsfc.nasa.gov/ssc/data/access/lat/BackgroundModels.html). The catalog and background models are packaged with your installation of the Fermitools, which can be found at $FERMI_DIR//refdata/fermi/galdiffuse/.\n",
    "\n",
    "The catalog and background models are also packaged with your installation of the Fermitools, which can be found at: `$FERMI_DIR//refdata/fermi/galdiffuse/`."
   ]
  },
  {
   "cell_type": "code",
   "execution_count": 26,
   "metadata": {},
   "outputs": [
    {
     "name": "stdout",
     "output_type": "stream",
     "text": [
      "--2025-09-11 11:31:14--  https://fermi.gsfc.nasa.gov/ssc/data/access/lat/14yr_catalog/gll_psc_v32.xml\n",
      "Resolving fermi.gsfc.nasa.gov (fermi.gsfc.nasa.gov)... 129.164.179.26\n",
      "Connecting to fermi.gsfc.nasa.gov (fermi.gsfc.nasa.gov)|129.164.179.26|:443... connected.\n",
      "HTTP request sent, awaiting response... 200 OK\n",
      "Length: 12719321 (12M) [application/xml]\n",
      "Saving to: ‘gll_psc_v32.xml’\n",
      "\n",
      "gll_psc_v32.xml     100%[===================>]  12.13M  2.05MB/s    in 7.3s    \n",
      "\n",
      "2025-09-11 11:31:21 (1.66 MB/s) - ‘gll_psc_v32.xml’ saved [12719321/12719321]\n",
      "\n",
      "--2025-09-11 11:31:22--  https://fermi.gsfc.nasa.gov/ssc/data/analysis/user/make4FGLxml.py\n",
      "Resolving fermi.gsfc.nasa.gov (fermi.gsfc.nasa.gov)... 129.164.179.26\n",
      "Connecting to fermi.gsfc.nasa.gov (fermi.gsfc.nasa.gov)|129.164.179.26|:443... connected.\n",
      "HTTP request sent, awaiting response... 200 OK\n",
      "Length: 45054 (44K) [text/plain]\n",
      "Saving to: ‘make4FGLxml.py.3’\n",
      "\n",
      "make4FGLxml.py.3    100%[===================>]  44.00K  --.-KB/s    in 0.001s  \n",
      "\n",
      "2025-09-11 11:31:22 (45.0 MB/s) - ‘make4FGLxml.py.3’ saved [45054/45054]\n",
      "\n",
      "--2025-09-11 11:31:22--  https://fermi.gsfc.nasa.gov/ssc/data/analysis/scitools/data/pyLikelihood/PG1553compact_model.xml\n",
      "Resolving fermi.gsfc.nasa.gov (fermi.gsfc.nasa.gov)... 129.164.179.26\n",
      "Connecting to fermi.gsfc.nasa.gov (fermi.gsfc.nasa.gov)|129.164.179.26|:443... connected.\n",
      "HTTP request sent, awaiting response... 200 OK\n",
      "Length: 2745 (2.7K) [application/xml]\n",
      "Saving to: ‘PG1553compact_model.xml’\n",
      "\n",
      "PG1553compact_model 100%[===================>]   2.68K  --.-KB/s    in 0s      \n",
      "\n",
      "2025-09-11 11:31:22 (15.8 MB/s) - ‘PG1553compact_model.xml’ saved [2745/2745]\n",
      "\n"
     ]
    }
   ],
   "source": [
    "!wget https://fermi.gsfc.nasa.gov/ssc/data/access/lat/14yr_catalog/gll_psc_v32.xml\n",
    "!wget https://fermi.gsfc.nasa.gov/ssc/data/analysis/user/make4FGLxml.py\n",
    "!wget https://fermi.gsfc.nasa.gov/ssc/data/analysis/scitools/data/pyLikelihood/PG1553compact_model.xml"
   ]
  },
  {
   "cell_type": "code",
   "execution_count": 27,
   "metadata": {},
   "outputs": [],
   "source": [
    "!mv *.xml ./data"
   ]
  },
  {
   "cell_type": "markdown",
   "metadata": {},
   "source": [
    "Once you have all of the files, you can generate your model file in python:"
   ]
  },
  {
   "cell_type": "code",
   "execution_count": 28,
   "metadata": {},
   "outputs": [
    {
     "name": "stdout",
     "output_type": "stream",
     "text": [
      "Creating spatial and spectral model from the 4FGL DR-4 catalog: data/gll_psc_v32.xml.\n",
      "Added 164 point sources and 0 extended sources.\n",
      "Building ds9-style region file...done!\n",
      "File saved as data/ROI_PG1553_model.reg.\n"
     ]
    }
   ],
   "source": [
    "from LATSourceModel import SourceList\n",
    "\n",
    "source_list = SourceList(catalog_file='./data/gll_psc_v32.xml',\n",
    "                         ROI='./data/PG1553_filtered_gti.fits',\n",
    "                         output_name='./data/PG1553_model.xml',\n",
    "                         DR=4)\n",
    "source_list.make_model()"
   ]
  },
  {
   "cell_type": "markdown",
   "metadata": {},
   "source": [
    "For more information on the `LATSourceModel` module, see the [usage notes](https://fermi.gsfc.nasa.gov/ssc/data/analysis/user/readme_latsourcemodel.txt).\n",
    "\n",
    "In the paper, the LAT team only included two sources: one from the `0FGL` catalog and another non-catalog source. This is because the later LAT catalogs had not been released at the time. For a more updated model, one should use the latest 4FGL information.\n",
    "\n",
    "Back to looking at our compact XML model file: notice that PG 1553+113 is listed in the model file as 4FGL J1555.7+1111 with all of the parameters filled in for us.\n",
    "\n",
    "It's actually offset from the center of our ROI by 0.003 degrees.\n",
    "\n",
    "How nice!\n",
    "\n",
    "Also notice that we changed the model for 4FGL J1555.7+1111 from a Log Parabola to a simple power-law for the purposes of this analysis thread."
   ]
  },
  {
   "cell_type": "markdown",
   "metadata": {},
   "source": [
    "# Compute the diffuse source responses\n",
    "\n",
    "The diffuse source responses tell the likelihood fitter what the expected contribution would be for each diffuse source, given the livetime associated with each event.\n",
    "\n",
    "The source model XML file must contain all of the diffuse sources to be fit. The [gtdiffrsp](https://fermi.gsfc.nasa.gov/ssc/data/analysis/scitools/help/gtdiffrsp.txt) tool will add one column to the event data file for each diffuse source.\n",
    "\n",
    "The diffuse response depends on the instrument response function (IRF), which must be in agreement with the selection of events, i.e. the event class and event type we are using in our analysis. Since we are using SOURCE class, `CALDB` should use the `P8R3_SOURCE_V2` IRF for this tool.\n",
    "\n",
    "If the diffuse responses are not precomputed using [gtdiffrsp](https://fermi.gsfc.nasa.gov/ssc/data/analysis/scitools/help/gtdiffrsp.txt), then the [gtlike](https://fermi.gsfc.nasa.gov/ssc/data/analysis/scitools/help/gtlike.txt) tool will compute them at runtime (during the next step).\n",
    "\n",
    "However, as this step is very computationally intensive (often taking ~hours to complete), and it is very likely you will need to run [gtlike](https://fermi.gsfc.nasa.gov/ssc/data/analysis/scitools/help/gtlike.txt) more than once, it is probably wise to precompute these quantities."
   ]
  },
  {
   "cell_type": "code",
   "execution_count": 29,
   "metadata": {},
   "outputs": [
    {
     "name": "stdout",
     "output_type": "stream",
     "text": [
      "time -p gtdiffrsp evfile=./data/PG1553_filtered_gti.fits evtable=\"EVENTS\" scfile=./data/PG1553_SC.fits sctable=\"SC_DATA\" srcmdl=./data/PG1553compact_model.xml irfs=\"CALDB\" evclsmin=0 evclass=\"INDEF\" evtype=\"INDEF\" convert=no chatter=2 clobber=no debug=no gui=no mode=\"ql\"\n",
      "adding source gll_iem_v07\n",
      "adding source iso_P8R3_SOURCE_V3_v1\n",
      "Working on...\n",
      "./data/PG1553_filtered_gti.fits.....................!\n",
      "real 1052.15\n",
      "user 1039.59\n",
      "sys 3.98\n"
     ]
    }
   ],
   "source": [
    "my_apps.diffResps['evfile'] = './data/PG1553_filtered_gti.fits'\n",
    "my_apps.diffResps['scfile'] = './data/PG1553_SC.fits'\n",
    "my_apps.diffResps['srcmdl'] = './data/PG1553compact_model.xml'\n",
    "my_apps.diffResps['irfs'] = 'CALDB'\n",
    "my_apps.diffResps.run()"
   ]
  },
  {
   "cell_type": "markdown",
   "metadata": {},
   "source": [
    "# Run the Likelihood Analysis\n",
    "\n",
    "It's time to actually run the likelihood analysis now.\n",
    "\n",
    "First, you need to import the pyLikelihood module and then the UnbinnedAnalysis functions (there's also a binned analysis module that you can import to do [binned likelihood analysis](https://github.com/fermi-lat/AnalysisThreads/blob/master/SourceAnalysis/1.BinnedLikelihood/binned_likelihood_tutorial.ipynb) which behaves almost exactly the same as the unbinned analysis module).\n",
    "\n",
    "For more details on the pyLikelihood module, check out the [pyLikelihood Usage Notes](https://fermi.gsfc.nasa.gov/ssc/data/analysis/scitools/python_usage_notes.html)."
   ]
  },
  {
   "cell_type": "code",
   "execution_count": 30,
   "metadata": {},
   "outputs": [],
   "source": [
    "import pyLikelihood\n",
    "from UnbinnedAnalysis import *\n",
    "\n",
    "obs = UnbinnedObs('./data/PG1553_filtered_gti.fits','./data/PG1553_SC.fits',expMap='./data/PG1553_expMap.fits', expCube='./data/PG1553_ltCube.fits',irfs='CALDB')\n",
    "like = UnbinnedAnalysis(obs,'./data/PG1553compact_model.xml',optimizer='NewMinuit')"
   ]
  },
  {
   "cell_type": "markdown",
   "metadata": {},
   "source": [
    "By now, you'll have two objects: `obs`, an UnbinnedObs object, and `like`, an UnbinnedAnalysis object.\n",
    "\n",
    "You can view these objects attributes and set them from the command line in various ways. For example:"
   ]
  },
  {
   "cell_type": "code",
   "execution_count": 31,
   "metadata": {},
   "outputs": [
    {
     "name": "stdout",
     "output_type": "stream",
     "text": [
      "Event file(s): ./data/PG1553_filtered_gti.fits\n",
      "Spacecraft file(s): ./data/PG1553_SC.fits\n",
      "Exposure map: ./data/PG1553_expMap.fits\n",
      "Exposure cube: ./data/PG1553_ltCube.fits\n",
      "IRFs: CALDB\n"
     ]
    }
   ],
   "source": [
    "print(obs)"
   ]
  },
  {
   "cell_type": "code",
   "execution_count": 32,
   "metadata": {},
   "outputs": [
    {
     "name": "stdout",
     "output_type": "stream",
     "text": [
      "Event file(s): ./data/PG1553_filtered_gti.fits\n",
      "Spacecraft file(s): ./data/PG1553_SC.fits\n",
      "Exposure map: ./data/PG1553_expMap.fits\n",
      "Exposure cube: ./data/PG1553_ltCube.fits\n",
      "IRFs: CALDB\n",
      "Source model file: ./data/PG1553compact_model.xml\n",
      "Optimizer: NewMinuit\n"
     ]
    }
   ],
   "source": [
    "print(like)"
   ]
  },
  {
   "cell_type": "markdown",
   "metadata": {},
   "source": [
    "or you can get directly at the objects attributes and methods by:"
   ]
  },
  {
   "cell_type": "code",
   "execution_count": 33,
   "metadata": {},
   "outputs": [
    {
     "data": {
      "text/plain": [
       "['NpredValue',\n",
       " 'Ts',\n",
       " 'Ts_old',\n",
       " '_Nobs',\n",
       " '__call__',\n",
       " '__class__',\n",
       " '__delattr__',\n",
       " '__dict__',\n",
       " '__dir__',\n",
       " '__doc__',\n",
       " '__eq__',\n",
       " '__format__',\n",
       " '__ge__',\n",
       " '__getattribute__',\n",
       " '__getitem__',\n",
       " '__getstate__',\n",
       " '__gt__',\n",
       " '__hash__',\n",
       " '__init__',\n",
       " '__init_subclass__',\n",
       " '__le__',\n",
       " '__lt__',\n",
       " '__module__',\n",
       " '__ne__',\n",
       " '__new__',\n",
       " '__reduce__',\n",
       " '__reduce_ex__',\n",
       " '__repr__',\n",
       " '__setattr__',\n",
       " '__setitem__',\n",
       " '__sizeof__',\n",
       " '__str__',\n",
       " '__subclasshook__',\n",
       " '__weakref__',\n",
       " '_errors',\n",
       " '_importPlotter',\n",
       " '_inputs',\n",
       " '_isDiffuseOrNearby',\n",
       " '_minosIndexError',\n",
       " '_npredValues',\n",
       " '_plotData',\n",
       " '_plotResiduals',\n",
       " '_plotSource',\n",
       " '_renorm',\n",
       " '_separation',\n",
       " '_setSourceAttributes',\n",
       " '_srcCnts',\n",
       " '_srcDialog',\n",
       " '_xrange',\n",
       " 'addGaussianPrior',\n",
       " 'addPrior',\n",
       " 'addPriors',\n",
       " 'addSource',\n",
       " 'constrain_norms',\n",
       " 'constrain_params',\n",
       " 'covar_is_current',\n",
       " 'covariance',\n",
       " 'deleteSource',\n",
       " 'disp',\n",
       " 'e_vals',\n",
       " 'energies',\n",
       " 'energyFlux',\n",
       " 'energyFluxError',\n",
       " 'fit',\n",
       " 'flux',\n",
       " 'fluxError',\n",
       " 'freePars',\n",
       " 'freeze',\n",
       " 'getExtraSourceAttributes',\n",
       " 'getPriorLogDeriv',\n",
       " 'getPriorLogValue',\n",
       " 'getPriors',\n",
       " 'logLike',\n",
       " 'maxdist',\n",
       " 'mergeSources',\n",
       " 'minosError',\n",
       " 'model',\n",
       " 'nFreeParams',\n",
       " 'nobs',\n",
       " 'nobs_wt',\n",
       " 'normPar',\n",
       " 'numeric_deriv',\n",
       " 'observation',\n",
       " 'oplot',\n",
       " 'optObject',\n",
       " 'optimize',\n",
       " 'optimizer',\n",
       " 'par_index',\n",
       " 'params',\n",
       " 'plot',\n",
       " 'plotSource',\n",
       " 'plotSourceFit',\n",
       " 'readPriorsYaml',\n",
       " 'removePrior',\n",
       " 'removePriors',\n",
       " 'reset_ebounds',\n",
       " 'resids',\n",
       " 'restoreBestFit',\n",
       " 'saveCurrentFit',\n",
       " 'scan',\n",
       " 'setEnergyRange',\n",
       " 'setFitTolType',\n",
       " 'setFreeFlag',\n",
       " 'setGaussianPriorParams',\n",
       " 'setPlotter',\n",
       " 'setPriorParams',\n",
       " 'setSpectrum',\n",
       " 'sourceFitPlots',\n",
       " 'sourceFitResids',\n",
       " 'sourceNames',\n",
       " 'splitCompositeSource',\n",
       " 'srcModel',\n",
       " 'state',\n",
       " 'syncSrcParams',\n",
       " 'thaw',\n",
       " 'tol',\n",
       " 'tolType',\n",
       " 'total_nobs',\n",
       " 'writeCountsSpectra',\n",
       " 'writePriorsYaml',\n",
       " 'writeXml']"
      ]
     },
     "execution_count": 33,
     "metadata": {},
     "output_type": "execute_result"
    }
   ],
   "source": [
    "dir(like)"
   ]
  },
  {
   "cell_type": "markdown",
   "metadata": {},
   "source": [
    "or get even more details by executing:"
   ]
  },
  {
   "cell_type": "code",
   "execution_count": 34,
   "metadata": {},
   "outputs": [
    {
     "name": "stdout",
     "output_type": "stream",
     "text": [
      "Help on UnbinnedAnalysis in module UnbinnedAnalysis object:\n",
      "\n",
      "class UnbinnedAnalysis(AnalysisBase.AnalysisBase)\n",
      " |  UnbinnedAnalysis(observation, srcModel=None, optimizer='Drmngb', nee=21)\n",
      " |  \n",
      " |  Method resolution order:\n",
      " |      UnbinnedAnalysis\n",
      " |      AnalysisBase.AnalysisBase\n",
      " |      builtins.object\n",
      " |  \n",
      " |  Methods defined here:\n",
      " |  \n",
      " |  __init__(self, observation, srcModel=None, optimizer='Drmngb', nee=21)\n",
      " |      Initialize self.  See help(type(self)) for accurate signature.\n",
      " |  \n",
      " |  plotSourceFit(self, srcName, color='black')\n",
      " |  \n",
      " |  reset_ebounds(self, new_energies)\n",
      " |  \n",
      " |  setEnergyRange(self, emin, emax)\n",
      " |  \n",
      " |  state(self, output=<ipykernel.iostream.OutStream object at 0x10f6bff70>)\n",
      " |  \n",
      " |  ----------------------------------------------------------------------\n",
      " |  Methods inherited from AnalysisBase.AnalysisBase:\n",
      " |  \n",
      " |  NpredValue(self, src, weighted=False)\n",
      " |      Returns the number of predicted counts for a source.\n",
      " |  \n",
      " |  Ts(self, srcName, reoptimize=False, approx=True, tol=None, MaxIterations=10, verbosity=0)\n",
      " |      Computes the TS value for a source indicated by \"srcName.\"\n",
      " |      If \"reoptimize=True\" is selected this function will reoptimize\n",
      " |      the model up to \"MaxIterations\" given the tolerance \"tol\"\n",
      " |      (default is the tolerance selected for the overall fit).  If\n",
      " |      \"appox=True\" is selected (the default) it will renormalize the\n",
      " |      model (see _renorm).\n",
      " |  \n",
      " |  Ts_old(self, srcName, reoptimize=False, approx=True, tol=None)\n",
      " |      NOTE: this is the old method. Computes the TS value for a\n",
      " |      source indicated by \"srcName.\"  If \"reoptimize=True\" is\n",
      " |      selected this function will reoptimize the model given the\n",
      " |      tolerance \"tol\" (default is the tolerance selected for the\n",
      " |      overall fit).  If \"appox=True\" is selected (the default) it\n",
      " |      will renormalize the model (see _renorm).\n",
      " |  \n",
      " |  __call__(self)\n",
      " |      Call self as a function.\n",
      " |  \n",
      " |  __getitem__(self, name)\n",
      " |  \n",
      " |  __repr__(self)\n",
      " |      Return repr(self).\n",
      " |  \n",
      " |  __setitem__(self, name, value)\n",
      " |  \n",
      " |  addGaussianPrior(self, srcName, parName, mean, sigma)\n",
      " |  \n",
      " |  addPrior(self, srcName, parName, funcname, **kwds)\n",
      " |  \n",
      " |  addPriors(self, prior_dict)\n",
      " |  \n",
      " |  addSource(self, src)\n",
      " |      Add a source to the active model.  You should pass a source\n",
      " |      object to this function.  Example:\n",
      " |      \n",
      " |      > test_src = pyLike.PointSource(0, 0, like.observation.observation)\n",
      " |      > pl = pyLike.SourceFactory_funcFactory().create(\"PowerLaw\")\n",
      " |      > pl.setParamValues((1, -2, 100))\n",
      " |      > indexPar = pl.getParam(\"Index\")\n",
      " |      > indexPar.setBounds(-3.5, -1)\n",
      " |      > pl.setParam(indexPar)\n",
      " |      > prefactor = pl.getParam(\"Prefactor\")\n",
      " |      > prefactor.setBounds(1e-10, 1e3)\n",
      " |      > prefactor.setScale(1e-9)\n",
      " |      > pl.setParam(prefactor)\n",
      " |      > test_src.setSpectrum(pl)\n",
      " |      > test_src.setName(\"testSource\")\n",
      " |      > test_src.setDir(193.45,-5.83,True,False)\n",
      " |      > like.addSource(test_src)\n",
      " |      \n",
      " |      You could also use the delete source function to return a\n",
      " |      fully formed source object and modify the parameters of that.\n",
      " |  \n",
      " |  constrain_norms(self, srcNames, cov_scale=1.0)\n",
      " |  \n",
      " |  constrain_params(self, srcNames, cov_scale=1.0)\n",
      " |  \n",
      " |  deleteSource(self, srcName)\n",
      " |      Removes a source with name \"srcName\" from the model.  It\n",
      " |      returns this source object so you can save it and use it\n",
      " |      later.\n",
      " |  \n",
      " |  energyFlux(self, srcName, emin=100, emax=300000.0)\n",
      " |      Returns the differential flux for a source with name\n",
      " |      \"srcName\" bewtween emin and emax (in MeV).\n",
      " |  \n",
      " |  energyFluxError(self, srcName, emin=100, emax=300000.0, npts=1000)\n",
      " |      Returns the error on the differential flux for a source\n",
      " |      with name \"srcName\" between emin and emax (in MeV).  \"npts\" is\n",
      " |      the number of energy points to use in the error calculation.\n",
      " |  \n",
      " |  fit(self, verbosity=3, tol=None, optimizer=None, covar=False, optObject=None, numericDerivs=False)\n",
      " |      Perform the likelihood fit.  If \"tol\" is set to \"None\" it\n",
      " |      reverts to the global tolerance.  If \"optimizer\" is set to\n",
      " |      \"None\" it reverts to the global optimizer.  You can\n",
      " |      selectively calculate the covariance matrix by setting\n",
      " |      \"covar=True\".  You can also provide an optimization object via\n",
      " |      \"optObject = myOpt\" if you would like access to the optimizer\n",
      " |      results like the return codes after the fit (see pyLike for\n",
      " |      more details).  This function returns -Log(like).\n",
      " |  \n",
      " |  flux(self, srcName, emin=100, emax=300000.0, energyFlux=False)\n",
      " |      Returns the flux for a source with name \"srcName\" from emin\n",
      " |      (in MeV) to emax (in MeV).  If \"energyFlux=False\" it returns\n",
      " |      the integral flux; if True it will return the differential\n",
      " |      flux.\n",
      " |  \n",
      " |  fluxError(self, srcName, emin=100, emax=300000.0, energyFlux=False, npts=1000)\n",
      " |      Returns the error on the flux for a source with name\n",
      " |      \"srcName\" from emin (in MeV) to emax (in MeV).  If\n",
      " |      \"energyFlux=False\" it returns the integral flux; if True it\n",
      " |      will return the differential flux.\n",
      " |  \n",
      " |  freePars(self, srcName)\n",
      " |      Returns a tuple that contains all of the free parameters\n",
      " |      for a specific source indicated by \"srcName\".\n",
      " |  \n",
      " |  freeze(self, i)\n",
      " |      Freezes a parameter with the given parameter index.  Use\n",
      " |      the par_index function to determine the index number of a\n",
      " |      specific parameter of a specific source.\n",
      " |  \n",
      " |  getExtraSourceAttributes(self)\n",
      " |      Returns all of the extra attributes of all of the sources\n",
      " |      in the model.  These are any attributes that are not \"funcs\"\n",
      " |      or \"src\" which includes things like \"name\" and \"type\".\n",
      " |  \n",
      " |  getPriorLogDeriv(self, srcName, parName)\n",
      " |  \n",
      " |  getPriorLogValue(self, srcName, parName)\n",
      " |  \n",
      " |  getPriors(self)\n",
      " |  \n",
      " |  mergeSources(self, compName, sourceNames, specFuncName)\n",
      " |      Merge a set of sources into a single composite source\n",
      " |  \n",
      " |  minosError(self, *args)\n",
      " |      Evaluate the minos errors for a Minuit or NewMinuit fit.\n",
      " |      There are several ways to call this function:\n",
      " |      \n",
      " |         minosError(index): pass the parameter index only\n",
      " |         minosError(index,level): pass the parameter index and the\n",
      " |                                  level\n",
      " |         minosError(srcName,parName): pass the source name and\n",
      " |                                      the parameter name\n",
      " |      \n",
      " |      The \"level\" parameter is used to dynamically set a new error\n",
      " |      definition.  The default is suitable for a -log(like) analysis\n",
      " |      (1, sets the minuit level to 0.5, see\n",
      " |      Minuit2::FCNBase::ErrorDef).  Setting this to 2 would be\n",
      " |      suitable for a chi^2 analysis.\n",
      " |  \n",
      " |  nFreeParams(self)\n",
      " |      Count the number of free parameters in the active model.\n",
      " |  \n",
      " |  normPar(self, srcName)\n",
      " |      Returns the normalization paramter of a souce specified by\n",
      " |      \"srcName\" (for example, it will return the \"Prefactor\"\n",
      " |      parameter of a source described by a PowerLaw).\n",
      " |  \n",
      " |  oplot(self, color=None)\n",
      " |  \n",
      " |  optimize(self, verbosity=3, tol=None, optimizer=None, optObject=None)\n",
      " |      Optimize the current model.  You can increase the verbosity\n",
      " |      of the optimizer using the verbosity option (default is 3).\n",
      " |      If \"tol\" is none, it will use the global tolerance.  If\n",
      " |      \"optimizer\" is none it will use the global optimizer.  If\n",
      " |      \"optObject\" is none it will create one.  It will not replace\n",
      " |      the global optObject (self.optObject) with this one if it\n",
      " |      exists but if it is none, it will replace it with the new one.\n",
      " |      This function is different from the \"fit\" routine in that it\n",
      " |      does not calculate the covarience matrix.\n",
      " |  \n",
      " |  par_index(self, srcName, parName)\n",
      " |      Returns the parameter index number in the model of the\n",
      " |      parameter identified by \"parName\" for a specific source\n",
      " |      identified by \"srcName\".\n",
      " |  \n",
      " |  params(self)\n",
      " |      Returns a list of all of the parameters in the active\n",
      " |      model.\n",
      " |  \n",
      " |  plot(self, oplot=0, color=None, omit=(), symbol='line', weighted=False)\n",
      " |  \n",
      " |  plotSource(self, srcName, color='black', symbol='line')\n",
      " |  \n",
      " |  readPriorsYaml(self, filename)\n",
      " |  \n",
      " |  removePrior(self, srcName, parName)\n",
      " |  \n",
      " |  removePriors(self)\n",
      " |  \n",
      " |  restoreBestFit(self)\n",
      " |      Restores the previously saved fit values saved via the\n",
      " |      \"saveCurrentFit\" function.\n",
      " |  \n",
      " |  saveCurrentFit(self)\n",
      " |      Saves the active fit parameter values if this fit happens\n",
      " |      to have a better log likelihood value than the one currently\n",
      " |      saved.  If it does, it replaces the saved fit with the active\n",
      " |      one.\n",
      " |  \n",
      " |  scan(self, srcName, parName, xmin=0, xmax=10, npts=50, tol=None, optimizer=None, optObject=None, fix_src_pars=False, verbosity=0, renorm=False)\n",
      " |      This function scans the values of a specific parameter\n",
      " |      specified by \"parName\" of a specific source specified by\n",
      " |      \"srcName\" in the range [xmin:xmax] with a resolution of npts.\n",
      " |      It then optimizes the active model.  This function returns two\n",
      " |      arrays: the first is an array of the x values evaluated and\n",
      " |      the second is an array of the change in likelihood value from\n",
      " |      the original model at those x values.  You can also pass True\n",
      " |      to \"fix_src_pars\" to fix all of the parameters of the source\n",
      " |      of interest.  The other options are similar to the fit and\n",
      " |      optimize functions.\n",
      " |  \n",
      " |  setFitTolType(self, tolType)\n",
      " |      Set the tolerance type of the fit.  Valid values of\n",
      " |      \"tolType\" are \"0\" for RELATIVE and \"1\" for ABSOLUTE.\n",
      " |  \n",
      " |  setFreeFlag(self, srcName, pars, value)\n",
      " |      Sets the free flag to free (value = 1) or frozen (value =\n",
      " |      0) for the list of parameters indicated by pars for a specific\n",
      " |      source indicated by srcName.\n",
      " |  \n",
      " |  setGaussianPriorParams(self, srcName, parName, mean, sigma)\n",
      " |  \n",
      " |  setPlotter(self, plotter='hippo')\n",
      " |  \n",
      " |  setPriorParams(self, srcName, parName, **kwds)\n",
      " |  \n",
      " |  setSpectrum(self, srcName, functionName)\n",
      " |      Set the spectral shape of a source identified by \"srcName\".\n",
      " |      The \"functionName\" is a string that must be one of the\n",
      " |      avaialble spectral functions (i.e. PowerLaw, PowerLaw2 etc.).\n",
      " |      You can also pass a spectrum object (see the addSource\n",
      " |      docString for more details).  The spectral parameters of this\n",
      " |      new model will be set to defaults which are probably not what\n",
      " |      you want them to be.\n",
      " |  \n",
      " |  sourceNames(self)\n",
      " |      Returns a tuple that contains all of the source names in the model\n",
      " |  \n",
      " |  splitCompositeSource(self, compName)\n",
      " |      break apart a composite source and return a tuple with \n",
      " |      the names of new sources and the spectral function\n",
      " |  \n",
      " |  syncSrcParams(self, src=None)\n",
      " |      Synchronizes the parameters of a source (identified by\n",
      " |      \"src\") with the active model.  This is useful if you add or\n",
      " |      delete a source from the model and want to reevaluate the log\n",
      " |      likelihood values.\n",
      " |  \n",
      " |  thaw(self, i)\n",
      " |      Thaws a parameter with the given parameter index.  Use the\n",
      " |      par_index function to determine the index number of a specific\n",
      " |      parameter of a specific source.\n",
      " |  \n",
      " |  total_nobs(self, weighted=False)\n",
      " |      Returns the total number of observed counts in the RoI.\n",
      " |  \n",
      " |  writeCountsSpectra(self, outfile='counts_spectra.fits', nee=21)\n",
      " |      Writes a FITS file with the name \"outfile\" that contains\n",
      " |      the counts spectra of all of the sources in the active model.\n",
      " |      This is the same file that is written out by the balistic\n",
      " |      gtlike program.\n",
      " |  \n",
      " |  writePriorsYaml(self, filename)\n",
      " |  \n",
      " |  writeXml(self, xmlFile=None)\n",
      " |      Write out an xml representation of the active model with\n",
      " |      the filename xmlFile.  If xmlFile is None (the default) it\n",
      " |      will overwrite the global xml file (i.e. the original file).\n",
      " |  \n",
      " |  ----------------------------------------------------------------------\n",
      " |  Data descriptors inherited from AnalysisBase.AnalysisBase:\n",
      " |  \n",
      " |  __dict__\n",
      " |      dictionary for instance variables\n",
      " |  \n",
      " |  __weakref__\n",
      " |      list of weak references to the object\n",
      "\n"
     ]
    }
   ],
   "source": [
    "help(like)"
   ]
  },
  {
   "cell_type": "markdown",
   "metadata": {},
   "source": [
    "There are a lot of attributes, and here you start to see the power of using pyLikelihood since you'll be able to (once the fit is done) access any of these attributes directly within python and use them in your own scripts.\n",
    "\n",
    "For example: you can see that the like object has a `tol` attribute, which we can read back to see what it is and, then set it to what we want it to be."
   ]
  },
  {
   "cell_type": "code",
   "execution_count": 35,
   "metadata": {},
   "outputs": [],
   "source": [
    "like.tol\n",
    "like.tolType\n",
    "like.tol = 0.0001"
   ]
  },
  {
   "cell_type": "markdown",
   "metadata": {},
   "source": [
    "Now, we're ready to do the actual fit.\n",
    "\n",
    "This next step can take anywhere from 10 minutes to a few hours to complete depending on your system.\n",
    "\n",
    "We're doing something a bit fancy here. We're getting the minimizating object (and calling it `likeobj`) from the `logLike` object so that we can access it later.\n",
    "\n",
    "We pass this object to the fit routine so that it knows which fitting object to use. We're also telling the code to calculate the covariance matrix so we can get at the errors."
   ]
  },
  {
   "cell_type": "code",
   "execution_count": 36,
   "metadata": {},
   "outputs": [
    {
     "data": {
      "text/plain": [
       "569867.6199595158"
      ]
     },
     "execution_count": 36,
     "metadata": {},
     "output_type": "execute_result"
    }
   ],
   "source": [
    "likeobj = pyLike.NewMinuit(like.logLike)\n",
    "like.fit(verbosity=0,covar=True,optObject=likeobj)"
   ]
  },
  {
   "cell_type": "markdown",
   "metadata": {},
   "source": [
    "The number that is printed out here is the -log(Likelihood) of the total fit to the data.\n",
    "\n",
    "You can print the results of the fit by accessing `like.model`. You can now plot the results of the fit by executing the `plot` command. The results are shown below:"
   ]
  },
  {
   "cell_type": "code",
   "execution_count": 37,
   "metadata": {},
   "outputs": [
    {
     "name": "stdout",
     "output_type": "stream",
     "text": [
      "Data  53445.0\n",
      "srcName  1456.5653740618136\n",
      "srcName  1182.0480770925597\n",
      "srcName  27730.229289845145\n",
      "srcName  23110.001958634613\n",
      "Resid  53445.0 53478.84469963414 -0.7244427503329167\n"
     ]
    },
    {
     "name": "stderr",
     "output_type": "stream",
     "text": [
      "/Users/nmirabal/miniconda3/envs/fermi-2.4.0/lib/python3.11/site-packages/fermitools/MPLPlot.py:54: UserWarning: FigureCanvasAgg is non-interactive, and thus cannot be shown\n",
      "  self.fig.show()\n",
      "/Users/nmirabal/miniconda3/envs/fermi-2.4.0/lib/python3.11/site-packages/fermitools/MPLPlot.py:65: UserWarning: FigureCanvasAgg is non-interactive, and thus cannot be shown\n",
      "  self.fig.show()\n"
     ]
    },
    {
     "data": {
      "image/png": "[encoded data removed]",
      "text/plain": [
       "<Figure size 640x480 with 1 Axes>"
      ]
     },
     "metadata": {},
     "output_type": "display_data"
    },
    {
     "data": {
      "image/png": "[encoded data removed]",
      "text/plain": [
       "<Figure size 640x480 with 1 Axes>"
      ]
     },
     "metadata": {},
     "output_type": "display_data"
    }
   ],
   "source": [
    "%matplotlib inline\n",
    "like.plot()"
   ]
  },
  {
   "cell_type": "markdown",
   "metadata": {},
   "source": [
    "The output of the plot function of the like1 UnbinnedAnalysis object shows:\n",
    "\n",
    "* Left: the contribution of each of the objects in the model to the total model, and plots the data points on top.\n",
    "\n",
    "* Right: the residuals of the likelihood fit to the data. Notice that the fit is poor in the second to last bin.\n",
    "\n",
    "Now, check if `NewMinuit` converged."
   ]
  },
  {
   "cell_type": "code",
   "execution_count": 62,
   "metadata": {},
   "outputs": [
    {
     "name": "stdout",
     "output_type": "stream",
     "text": [
      "0\n"
     ]
    }
   ],
   "source": [
    "print(likeobj.getRetCode())"
   ]
  },
  {
   "cell_type": "markdown",
   "metadata": {},
   "source": [
    "If you get anything other than '0' here, then NewMinuit didn't converge. There are several reasons that we might not get convergence:\n",
    "\n",
    "* The culprit is usually a parameter (or parameters) in the model that reach the limits set in the XML file. If this happens, the minimizer cannot reach the formal minimum and hence cannot calculate the curvature.\n",
    "\n",
    "\n",
    "* Often the problem is with spectral shape parameters (PL index, etc.), so simply freezing the shape of all spectral parameters to their values from the full time period (and certainly for weaker background sources) when fitting a shorter time period may solve the problem. Remember that the 4FGL catalog used a full 8 years of data and we're using a much shorter time period here.\n",
    "\n",
    "\n",
    "* Weak background sources are more likely to cause problems, so you could consider just freezing them completely (or removing them from the model).\n",
    "\n",
    "    For example: a background source from the catalog that is detected at TS~=25 in 2 years could cause convergence problems in a 1-month light curve, where it will often not be detectable at all.\n",
    "\n",
    "\n",
    "* If there are no parameters at their limits, then increasing the overall convergence tolerance may help - try using a value of 1E-8 for the absolute tolerance.\n",
    "\n",
    "\n",
    "* If that doesn't help, then try to systematically simplify the model. Progressively freeze all sources, starting with those at the edge of the ROI in and moving in until you get a model simple enough for the minimizer to work reliably.\n",
    "\n",
    "    For example: if you are using a 10 degree ROI, you could start by freezing all background sources further than 7 degrees from the source of interest, and move to 5 degrees if that doesn't solve the problem."
   ]
  },
  {
   "cell_type": "markdown",
   "metadata": {},
   "source": [
    "In our case, we have convergence, and we can move forward.\n",
    "\n",
    "Note, however, that this doesn't mean you have the 'right' answer. It just means that you have the answer assuming the model you put in. This is a subtle feature of the likelihood method.\n",
    "\n",
    "Let's take a look at the residuals and overall model using `matplotlib`."
   ]
  },
  {
   "cell_type": "code",
   "execution_count": 39,
   "metadata": {},
   "outputs": [],
   "source": [
    "import matplotlib.pyplot as plt\n",
    "import numpy as np"
   ]
  },
  {
   "cell_type": "markdown",
   "metadata": {},
   "source": [
    "We need to import these two modules for plotting and some other stuff. They are included in the Fermitools."
   ]
  },
  {
   "cell_type": "code",
   "execution_count": 40,
   "metadata": {},
   "outputs": [
    {
     "data": {
      "image/png": "[encoded data removed]",
      "text/plain": [
       "<Figure size 500x500 with 1 Axes>"
      ]
     },
     "metadata": {},
     "output_type": "display_data"
    }
   ],
   "source": [
    "E = (like.energies[:-1] + like.energies[1:])/2.\n",
    "# The 'energies' array are the endpoints so we take\n",
    "# the midpoint of the bins.\n",
    "\n",
    "plt.figure(figsize=(5,5))\n",
    "plt.ylim((0.4,1e4))\n",
    "plt.xlim((200,300000))\n",
    "sum_model = np.zeros_like(like._srcCnts(like.sourceNames()[0]))\n",
    "\n",
    "for sourceName in like.sourceNames():\n",
    "    sum_model = sum_model + like._srcCnts(sourceName)\n",
    "    plt.loglog(E,like._srcCnts(sourceName),label=sourceName[1:])\n",
    "\n",
    "plt.loglog(E,sum_model,label='Total Model')\n",
    "plt.errorbar(E,like._Nobs(),yerr=np.sqrt(like._Nobs()), fmt='o',label='Counts')\n",
    "ax = plt.gca()\n",
    "box = ax.get_position()\n",
    "ax.set_position([box.x0, box.y0, box.width * 0.5, box.height])\n",
    "plt.legend(bbox_to_anchor=(1.05, 1), loc=2, borderaxespad=0.)\n",
    "plt.show()"
   ]
  },
  {
   "cell_type": "code",
   "execution_count": 41,
   "metadata": {},
   "outputs": [
    {
     "data": {
      "image/png": "[encoded data removed]",
      "text/plain": [
       "<Figure size 900x900 with 1 Axes>"
      ]
     },
     "metadata": {},
     "output_type": "display_data"
    }
   ],
   "source": [
    "resid = (like._Nobs() - sum_model)/sum_model\n",
    "resid_err = (np.sqrt(like._Nobs())/sum_model)\n",
    "plt.figure(figsize=(9,9))\n",
    "plt.xscale('log')\n",
    "plt.errorbar(E,resid,yerr=resid_err,fmt='o')\n",
    "plt.axhline(0.0,ls=':')\n",
    "plt.show()"
   ]
  },
  {
   "cell_type": "markdown",
   "metadata": {},
   "source": [
    "These are just some examples of how to access the underlying data from the python tools.\n",
    "\n",
    "As you can see, most of the information is accessable if you dig around. Note that the residuals aren't that great in several bins especially at high energies.\n",
    "\n",
    "This could be a missing source or that we're not modelling a bright source very well. If you look up at the model plot, the high energy tail of PG1553 might be biasing the fit at high energies and we might get a better fit with a log-parabola or broken power-law. That's for another day, though.\n",
    "\n",
    "Let's check out the final parameters of the fit for PG1553."
   ]
  },
  {
   "cell_type": "code",
   "execution_count": 42,
   "metadata": {},
   "outputs": [
    {
     "data": {
      "text/plain": [
       "4FGL J1555.7+1111\n",
       "   Spectrum: PowerLaw\n",
       "4      Prefactor:  3.053e+00  1.991e-01  1.000e-04  1.000e+04 ( 1.000e-11)\n",
       "5          Index:  1.608e+00  2.881e-02  0.000e+00  1.000e+01 (-1.000e+00)\n",
       "6          Scale:  5.000e+02  0.000e+00  3.000e+01  5.000e+05 ( 1.000e+00) fixed"
      ]
     },
     "execution_count": 42,
     "metadata": {},
     "output_type": "execute_result"
    }
   ],
   "source": [
    "like.model['4FGL J1555.7+1111']"
   ]
  },
  {
   "cell_type": "code",
   "execution_count": 43,
   "metadata": {},
   "outputs": [
    {
     "data": {
      "text/plain": [
       "6.629863921426104e-08"
      ]
     },
     "execution_count": 43,
     "metadata": {},
     "output_type": "execute_result"
    }
   ],
   "source": [
    "like.flux('4FGL J1555.7+1111',emin=100)"
   ]
  },
  {
   "cell_type": "code",
   "execution_count": 44,
   "metadata": {},
   "outputs": [
    {
     "data": {
      "text/plain": [
       "4.361271109055268e-09"
      ]
     },
     "execution_count": 44,
     "metadata": {},
     "output_type": "execute_result"
    }
   ],
   "source": [
    "like.fluxError('4FGL J1555.7+1111',emin=100)"
   ]
  },
  {
   "cell_type": "markdown",
   "metadata": {},
   "source": [
    "You can also get the TS value for a specific source:"
   ]
  },
  {
   "cell_type": "code",
   "execution_count": 45,
   "metadata": {},
   "outputs": [
    {
     "data": {
      "text/plain": [
       "2843.84852510388"
      ]
     },
     "execution_count": 45,
     "metadata": {},
     "output_type": "execute_result"
    }
   ],
   "source": [
    "like.Ts('4FGL J1555.7+1111')"
   ]
  },
  {
   "cell_type": "markdown",
   "metadata": {},
   "source": [
    "You can calculate how many standard deviations (σ) this corresponds to.\n",
    "\n",
    "Remember that the [TS value is ∼ $σ^2$](https://fermi.gsfc.nasa.gov/ssc/data/analysis/documentation/Cicerone/Cicerone_Likelihood/Likelihood_overview.html)."
   ]
  },
  {
   "cell_type": "code",
   "execution_count": 46,
   "metadata": {},
   "outputs": [
    {
     "data": {
      "text/plain": [
       "53.32774629687514"
      ]
     },
     "execution_count": 46,
     "metadata": {},
     "output_type": "execute_result"
    }
   ],
   "source": [
    "np.sqrt(like.Ts('4FGL J1555.7+1111'))"
   ]
  },
  {
   "cell_type": "markdown",
   "metadata": {},
   "source": [
    "Save the results:"
   ]
  },
  {
   "cell_type": "code",
   "execution_count": 47,
   "metadata": {},
   "outputs": [],
   "source": [
    "like.logLike.writeXml('PG1553_fit.xml')"
   ]
  },
  {
   "cell_type": "code",
   "execution_count": 48,
   "metadata": {},
   "outputs": [],
   "source": [
    "!mv *.xml ./data"
   ]
  },
  {
   "cell_type": "markdown",
   "metadata": {},
   "source": [
    "# Create some TS Maps\n",
    "\n",
    "If you want to check on your fit, you should probably make a test statistic (TS) map of your region at this point.\n",
    "\n",
    "This will allow you to check and make sure that you didn't miss anything in the ROI (like a source not in the catalog you used).\n",
    "\n",
    "A TS map is created by moving a putative point source through a grid of locations on the sky and maximizing the log(likelihood) at each grid point.\n",
    "\n",
    "We're going to make two TS Maps. If you have access to multiple CPUs, you might want to start one of the maps running in one terminal and the other in another one since this will take **several hours** to complete.\n",
    "\n",
    "Our main goal is to create one TS Map with PG1553 included in the fit and another without. The first one will allow us to make sure we didn't miss any sources in our ROI and the other will allow us to see the source.\n",
    "\n",
    "All of the other sources in our model file will be included in the fit and shouldn't show up in the final map."
   ]
  },
  {
   "cell_type": "markdown",
   "metadata": {},
   "source": [
    "If you don't want to create these maps, go ahead and skip the following steps and jump to the section on making a butterfly plot. The creation of these maps is optional and is only for double checking your work.\n",
    "\n",
    "You should still modify your model fit file as detailed in the following:"
   ]
  },
  {
   "cell_type": "markdown",
   "metadata": {},
   "source": [
    "Copy `PG1553_fit.xml` as `PG1553_fit_TSMap.xml`. Modify `PG1553_fit_TSMap.xml` to make everything fixed by changing all of the `free=\"1\"` statements to `free=\"0\"`. Modify the lines that look like:\n",
    "\n",
    "```xml\n",
    "<parameter error=\"1.670710816\" free=\"1\" max=\"10000\" min=\"0.0001\" name=\"Prefactor\" scale=\"1e-13\" value=\"6.248416874\" />\n",
    "<parameter error=\"0.208035277\" free=\"1\" max=\"5\" min=\"0\" name=\"Index\" scale=\"-1\" value=\"2.174167564\" />\n",
    "```\n",
    "\n",
    "to look like:\n",
    "\n",
    "```xml\n",
    "<parameter error=\"1.670710816\" free=\"0\" max=\"10000\" min=\"0.0001\" name=\"Prefactor\" scale=\"1e-13\" value=\"6.248416874\" />\n",
    "<parameter error=\"0.208035277\" free=\"0\" max=\"5\" min=\"0\" name=\"Index\" scale=\"-1\" value=\"2.174167564\" />\n",
    "```"
   ]
  },
  {
   "cell_type": "code",
   "execution_count": 49,
   "metadata": {},
   "outputs": [],
   "source": [
    "!cp ./data/PG1553_fit.xml ./data/PG1553_fit_TSMap.xml"
   ]
  },
  {
   "cell_type": "code",
   "execution_count": 50,
   "metadata": {},
   "outputs": [],
   "source": [
    "with open(\"./data/PG1553_fit_TSMap.xml\") as file:\n",
    "    file.read().replace(\"free=0\", \"free=1\")"
   ]
  },
  {
   "cell_type": "markdown",
   "metadata": {},
   "source": [
    "Then copy it and call it `PG1553_fit_noPG1553.xml` and comment out (or delete) the PG1553 source."
   ]
  },
  {
   "cell_type": "code",
   "execution_count": 51,
   "metadata": {},
   "outputs": [],
   "source": [
    "!cp ./data/PG1553_fit_TSMap.xml ./data/PG1553_fit_noPG1553.xml"
   ]
  },
  {
   "cell_type": "markdown",
   "metadata": {},
   "source": [
    " If you want to generate the TS maps, in one window do the following:"
   ]
  },
  {
   "cell_type": "code",
   "execution_count": null,
   "metadata": {},
   "outputs": [],
   "source": [
    "my_apps.TsMap['statistic'] = \"UNBINNED\"\n",
    "my_apps.TsMap['scfile'] = \"./data/PG1553_SC.fits\"\n",
    "my_apps.TsMap['evfile'] = \"./data/PG1553_filtered_gti.fits\"\n",
    "my_apps.TsMap['expmap'] = \"./data/PG1553_expMap.fits\"\n",
    "my_apps.TsMap['expcube'] = \"./data/PG1553_ltCube.fits\"\n",
    "my_apps.TsMap['srcmdl'] = \"./data/PG1553_fit_TSMap.xml\"\n",
    "my_apps.TsMap['irfs'] = \"CALDB\"\n",
    "my_apps.TsMap['optimizer'] = \"NEWMINUIT\"\n",
    "my_apps.TsMap['outfile'] = \"./data/PG1553_TSmap_resid.fits\"\n",
    "my_apps.TsMap['nxpix'] = 25\n",
    "my_apps.TsMap['nypix'] = 25\n",
    "my_apps.TsMap['binsz'] = 0.5\n",
    "my_apps.TsMap['coordsys'] = \"CEL\"\n",
    "my_apps.TsMap['xref'] = 238.929\n",
    "my_apps.TsMap['yref'] = 11.1901\n",
    "my_apps.TsMap['proj'] = 'STG'\n",
    "my_apps.TsMap.run()"
   ]
  },
  {
   "cell_type": "markdown",
   "metadata": {},
   "source": [
    "In another window, do the following:"
   ]
  },
  {
   "cell_type": "code",
   "execution_count": null,
   "metadata": {},
   "outputs": [],
   "source": [
    "my_apps.TsMap['statistic'] = \"UNBINNED\"\n",
    "my_apps.TsMap['scfile'] = \"./data/PG1553_SC.fits\"\n",
    "my_apps.TsMap['evfile'] = \"./data/PG1553_filtered_gti.fits\"\n",
    "my_apps.TsMap['expmap'] = \"./data/PG1553_expMap.fits\"\n",
    "my_apps.TsMap['expcube'] = \"./data/PG1553_ltCube.fits\"\n",
    "my_apps.TsMap['srcmdl'] = \"./data/PG1553_fit_noPG1553.xml\"\n",
    "my_apps.TsMap['irfs'] = \"CALDB\"\n",
    "my_apps.TsMap['optimizer'] = \"NEWMINUIT\"\n",
    "my_apps.TsMap['outfile'] = \"./data/PG1553_TSmap_noPG1553.fits\"\n",
    "my_apps.TsMap['nxpix'] = 25\n",
    "my_apps.TsMap['nypix'] = 25\n",
    "my_apps.TsMap['binsz'] = 0.5\n",
    "my_apps.TsMap['coordsys'] = \"CEL\"\n",
    "my_apps.TsMap['xref'] = 238.929\n",
    "my_apps.TsMap['yref'] = 11.1901\n",
    "my_apps.TsMap['proj'] = 'STG'\n",
    "my_apps.TsMap.run()"
   ]
  },
  {
   "cell_type": "markdown",
   "metadata": {},
   "source": [
    "This will take a while, so go get a cup of coffee.\n",
    "\n",
    "The final TS maps will be pretty rough since we selected to only do 25x25 0.5 degree bins, but it will allow us to check if anything is missing and go back and fix it.\n",
    "\n",
    "These rough plots aren't publication ready, but they'll do in a pinch to verify that we've got the model right."
   ]
  },
  {
   "cell_type": "markdown",
   "metadata": {},
   "source": [
    "Once the TS maps have been generated, open them up in whatever viewing program you wish.\n",
    "\n",
    "Here's how you could use `matplotlib` to do it:"
   ]
  },
  {
   "cell_type": "code",
   "execution_count": null,
   "metadata": {},
   "outputs": [],
   "source": [
    "import astropy.io.fits as pyfits\n",
    "residHDU = pyfits.open('PG1553_TSmap_resid.fits')\n",
    "sourceHDU = pyfits.open('PG1553_TSmap_noPG1553.fits')\n",
    "fig = plt.figure(figsize=(16,8))\n",
    "plt.subplot(1,2,1)\n",
    "plt.imshow(residHDU[0].data)\n",
    "plt.colorbar()\n",
    "plt.subplot(1,2,2)\n",
    "plt.imshow(sourceHDU[0].data)\n",
    "plt.colorbar()\n",
    "plt.show()"
   ]
  },
  {
   "cell_type": "markdown",
   "metadata": {},
   "source": [
    "You can see that the `noPG1553` map (right) has a prominent source in the middle of the ROI.\n",
    "\n",
    "This is PG 1553+113, and if you execute the following, you can see that the TS value of the maxiumum pretty well with the TS value of PG 1553+113 that we arrived at above."
   ]
  },
  {
   "cell_type": "code",
   "execution_count": null,
   "metadata": {},
   "outputs": [],
   "source": [
    "np.max(sourceHDU[0].data)"
   ]
  },
  {
   "cell_type": "markdown",
   "metadata": {},
   "source": [
    "If you then look at the `residuals` plot (left), you can see that it's pretty flat in TS space.\n",
    "\n",
    "This indicates that we didn't miss any significant sources. If you did see something significant, you probably should go back and figure out what source you missed."
   ]
  },
  {
   "cell_type": "markdown",
   "metadata": {},
   "source": [
    "# Produce the Butterfly Plot\n",
    "\n",
    "Now we'll produce the butterfly plot.\n",
    "\n",
    "First, get the differential flux, the decorrelation (pivot) energy, and the index. You'll also need the errors."
   ]
  },
  {
   "cell_type": "code",
   "execution_count": 55,
   "metadata": {},
   "outputs": [],
   "source": [
    "N0 = like.model['4FGL J1555.7+1111'].funcs['Spectrum'].getParam('Prefactor').value()\n",
    "N0_err = like.model['4FGL J1555.7+1111'].funcs['Spectrum'].getParam('Prefactor').error()\n",
    "gamma = like.model['4FGL J1555.7+1111'].funcs['Spectrum'].getParam('Index').value()\n",
    "gamma_err = like.model['4FGL J1555.7+1111'].funcs['Spectrum'].getParam('Index').error()\n",
    "E0 = like.model['4FGL J1555.7+1111'].funcs['Spectrum'].getParam('Scale').value()"
   ]
  },
  {
   "cell_type": "markdown",
   "metadata": {},
   "source": [
    "### Calculate the Butterfly Plot\n",
    "\n",
    "We need to calculate the differential flux at several energy points as well as the error on that differential flux. The differential flux is defined as:\n",
    "\n",
    "<img src='https://fermi.gsfc.nasa.gov/ssc/data/analysis/scitools/images/pyLikelihood/PG1553_thread8x.png'>\n",
    "\n",
    "and the error on that flux is defined as:\n",
    "\n",
    "<img src='https://fermi.gsfc.nasa.gov/ssc/data/analysis/scitools/images/pyLikelihood/PG1553_thread9x.png'>\n",
    "\n",
    "Where cov<sub>γγ</sub> = σγ<sup>2</sup>, where γ is the spectral index. To calculate cov<sub>γγ</sub>, use this code:"
   ]
  },
  {
   "cell_type": "code",
   "execution_count": 56,
   "metadata": {},
   "outputs": [],
   "source": [
    "freeParValues = []\n",
    "\n",
    "for sourcename in like.sourceNames():\n",
    "    for element in like.freePars(sourcename):\n",
    "        freeParValues.append(element.getValue())\n",
    "\n",
    "g_index = freeParValues.index(like.freePars('4FGL J1555.7+1111')[1].getValue())\n",
    "cov_gg = like.covariance[g_index][g_index]"
   ]
  },
  {
   "cell_type": "markdown",
   "metadata": {},
   "source": [
    "So, let calculate F(E) and F(E) +/- Δ F(E) so that we can plot it.\n",
    "\n",
    "First, define a function for the flux and one for the error on the flux:"
   ]
  },
  {
   "cell_type": "code",
   "execution_count": 57,
   "metadata": {},
   "outputs": [],
   "source": [
    "f = lambda E,N0,E0,gamma: N0*(E/E0)**(-1*gamma)\n",
    "ferr = lambda E,F,N0,N0err,E0,cov_gg: F*np.sqrt(N0err**2/N0**2 + ((np.log(E/E0))**2)*cov_gg)"
   ]
  },
  {
   "cell_type": "markdown",
   "metadata": {},
   "source": [
    "Now, generate some energies to evaluate the functions above and evaluate them."
   ]
  },
  {
   "cell_type": "code",
   "execution_count": 58,
   "metadata": {},
   "outputs": [],
   "source": [
    "E = np.logspace(2,5,100)\n",
    "F = f(E,N0,E0,gamma)\n",
    "Ferr = ferr(E,F,N0,N0_err,E0,cov_gg)"
   ]
  },
  {
   "cell_type": "markdown",
   "metadata": {},
   "source": [
    "Now you can plot this. Here we're multiplying the flux by E<sup>2</sup> for clarity."
   ]
  },
  {
   "cell_type": "code",
   "execution_count": 59,
   "metadata": {},
   "outputs": [
    {
     "data": {
      "image/png": "[encoded data removed]",
      "text/plain": [
       "<Figure size 800x800 with 1 Axes>"
      ]
     },
     "metadata": {},
     "output_type": "display_data"
    }
   ],
   "source": [
    "plt.figure(figsize=(8,8))\n",
    "plt.xlabel('Energy [MeV]')\n",
    "plt.ylabel(r'E$^2$ dN/dE [MeV s$^{-1}$ cm$^{-2}$]')\n",
    "plt.loglog(E,E**2*(F+Ferr))\n",
    "plt.loglog(E,E**2*(F-Ferr))\n",
    "plt.plot(E,E**2*F)\n",
    "plt.show()"
   ]
  },
  {
   "cell_type": "markdown",
   "metadata": {},
   "source": [
    "The green line is the nominal fit, and the blue and orange lines are the 1 sigma contours."
   ]
  }
 ],
 "metadata": {
  "kernelspec": {
   "display_name": "Python 3 (ipykernel)",
   "language": "python",
   "name": "python3"
  },
  "language_info": {
   "codemirror_mode": {
    "name": "ipython",
    "version": 3
   },
   "file_extension": ".py",
   "mimetype": "text/x-python",
   "name": "python",
   "nbconvert_exporter": "python",
   "pygments_lexer": "ipython3",
   "version": "3.9.19"
  }
 },
 "nbformat": 4,
 "nbformat_minor": 4
}
